{
 "cells": [
  {
   "cell_type": "markdown",
   "id": "200e59ac",
   "metadata": {},
   "source": [
    "# Neural network for addition of 2 numbers\n",
    "### by Börge Göbel"
   ]
  },
  {
   "cell_type": "code",
   "execution_count": 1,
   "id": "cafd9e99",
   "metadata": {},
   "outputs": [],
   "source": [
    "import numpy as np\n",
    "import matplotlib.pyplot as plt"
   ]
  },
  {
   "cell_type": "code",
   "execution_count": 2,
   "id": "a39d46a8",
   "metadata": {},
   "outputs": [],
   "source": [
    "import random"
   ]
  },
  {
   "cell_type": "markdown",
   "id": "453ed6b4",
   "metadata": {},
   "source": [
    "## 1 . Prepare training and test data (typically loaded from file)"
   ]
  },
  {
   "cell_type": "markdown",
   "id": "771357d6",
   "metadata": {},
   "source": [
    "- Here we generate it"
   ]
  },
  {
   "cell_type": "code",
   "execution_count": 3,
   "id": "f1f275a7",
   "metadata": {},
   "outputs": [],
   "source": [
    "rangeData = 20                             # Numbers from [-rangeData,+rangeData]\n",
    "lenData = 1000                             # How many pairs of numbers do we generate\n",
    "testProportion = 0.3                       # 30% testing, 70% training \n",
    "testEnd = round(lenData * testProportion)  # How many pairs of numbers are used for testing"
   ]
  },
  {
   "cell_type": "markdown",
   "id": "714b051c",
   "metadata": {},
   "source": [
    "- Generate 1000 pairs of numbers as 1000 seperate inputs for our network"
   ]
  },
  {
   "cell_type": "code",
   "execution_count": 4,
   "id": "d80c2ac6",
   "metadata": {},
   "outputs": [],
   "source": [
    "dataIn = np.random.randint(-rangeData, rangeData+1, size=(lenData, 2))"
   ]
  },
  {
   "cell_type": "markdown",
   "id": "aea58ac4",
   "metadata": {},
   "source": [
    "- Generate the corresponding 1000 output values. These will be the sum of the two inputs.\n",
    "- We do not tell the network that it is the sum. The network shall learn this by itself."
   ]
  },
  {
   "cell_type": "code",
   "execution_count": 5,
   "id": "8f203982",
   "metadata": {},
   "outputs": [],
   "source": [
    "dataOut = dataIn[:,0] + dataIn[:,1]"
   ]
  },
  {
   "cell_type": "markdown",
   "id": "424a0dfa",
   "metadata": {},
   "source": [
    "- Adding a '1' element to each input pair (related to bias - more on this later)"
   ]
  },
  {
   "cell_type": "code",
   "execution_count": 6,
   "id": "31f61df3",
   "metadata": {},
   "outputs": [],
   "source": [
    "dataIn = np.concatenate([np.ones([lenData,1]), dataIn], axis=1)"
   ]
  },
  {
   "cell_type": "markdown",
   "id": "ff4f800a",
   "metadata": {},
   "source": [
    "- The final data sets and 1 example each"
   ]
  },
  {
   "cell_type": "code",
   "execution_count": 7,
   "id": "c3582142",
   "metadata": {},
   "outputs": [],
   "source": [
    "testingIn   = dataIn[0:testEnd]\n",
    "testingOut  = dataOut[0:testEnd]\n",
    "trainingIn  = dataIn[testEnd:]\n",
    "trainingOut = dataOut[testEnd:]"
   ]
  },
  {
   "cell_type": "code",
   "execution_count": 8,
   "id": "c84ba63a",
   "metadata": {},
   "outputs": [
    {
     "name": "stdout",
     "output_type": "stream",
     "text": [
      "[  1.   3. -17.]\n",
      "-14\n",
      "[ 1. -6.  5.]\n",
      "-1\n"
     ]
    }
   ],
   "source": [
    "print( testingIn[0] )\n",
    "print( testingOut[0] )\n",
    "print( trainingIn[0] )\n",
    "print( trainingOut[0] )"
   ]
  },
  {
   "cell_type": "markdown",
   "id": "516c4320",
   "metadata": {},
   "source": [
    "## 2. Setting up neural network"
   ]
  },
  {
   "cell_type": "markdown",
   "id": "a1b5b60f",
   "metadata": {},
   "source": [
    "![Addition_network.png](Addition_network.png)"
   ]
  },
  {
   "cell_type": "markdown",
   "id": "47e43ab7",
   "metadata": {},
   "source": [
    "Input layer length: 3 (1 bias + 2 numbers)\n",
    "\n",
    "Output layer length: 1 (result)"
   ]
  },
  {
   "cell_type": "markdown",
   "id": "12fe58e5",
   "metadata": {},
   "source": [
    "### 2.1 Initialize weights: Numbers in the range from -2 to 2"
   ]
  },
  {
   "cell_type": "markdown",
   "id": "93281329",
   "metadata": {},
   "source": [
    "- We need a starting point for our weights. Let's select them randomly."
   ]
  },
  {
   "cell_type": "code",
   "execution_count": null,
   "id": "2dd2315a",
   "metadata": {},
   "outputs": [],
   "source": []
  },
  {
   "cell_type": "markdown",
   "id": "a038dc2b",
   "metadata": {},
   "source": [
    "### 2.2 Activation function\n",
    "\n",
    "- Typically a monotonuous function that rescales a value to the range [0,1]\n",
    "- Here it is not necessary (Comes in the other examples)"
   ]
  },
  {
   "cell_type": "markdown",
   "id": "07cea533",
   "metadata": {},
   "source": [
    "### 2.3 Calculate output of our neural network"
   ]
  },
  {
   "cell_type": "markdown",
   "id": "35646410",
   "metadata": {},
   "source": [
    "The value of a neuron is given as the dot product of the two vectors: \n",
    "- weights \n",
    "- value of the neurons in the previous layer (including bias: value 1)\n",
    "\n",
    "\\\\( y = w_0 + w_1x_1 + w_2x_2 \\\\)"
   ]
  },
  {
   "cell_type": "code",
   "execution_count": null,
   "id": "e599e959",
   "metadata": {},
   "outputs": [],
   "source": []
  },
  {
   "cell_type": "code",
   "execution_count": null,
   "id": "3cc27916",
   "metadata": {},
   "outputs": [],
   "source": []
  },
  {
   "cell_type": "markdown",
   "id": "c6479fed",
   "metadata": {},
   "source": [
    "- At the end of this notebook (after training our network) we will have the weights\n",
    "\n",
    "\\\\( w_0 = 0, w_1 = 1, w_2 = 1 \\\\)\n",
    "\n",
    "because then our output will be \n",
    "\n",
    "\\\\( y = x_1 + x_2 \\\\)"
   ]
  },
  {
   "cell_type": "markdown",
   "id": "5c2e9159",
   "metadata": {},
   "source": [
    "### 2.4 Functions: Calculate accuracy and individual error"
   ]
  },
  {
   "cell_type": "markdown",
   "id": "9942ca8a",
   "metadata": {},
   "source": [
    "### - Accuracy: \n",
    "What is the rate at which the output is predicted correctly (only correct and wrong matter)?"
   ]
  },
  {
   "cell_type": "code",
   "execution_count": null,
   "id": "ea73356f",
   "metadata": {},
   "outputs": [],
   "source": []
  },
  {
   "cell_type": "code",
   "execution_count": null,
   "id": "1a4b5ff2",
   "metadata": {},
   "outputs": [],
   "source": []
  },
  {
   "cell_type": "markdown",
   "id": "c237560c",
   "metadata": {},
   "source": [
    "- So far, output is random "
   ]
  },
  {
   "cell_type": "markdown",
   "id": "8e6956b8",
   "metadata": {},
   "source": [
    "### - Error (better for learning): \n",
    "- For a pair of numbers we calculate:\n",
    "\n",
    "\\\\( \\Delta = (y-Y)^2 \\\\)\n",
    "\n",
    "\\\\( y \\\\): Predicted result by the neural network\n",
    "\n",
    "\\\\( Y \\\\): Correct result (what we have calculated in the beginning)"
   ]
  },
  {
   "cell_type": "markdown",
   "id": "37d28c01",
   "metadata": {},
   "source": [
    "- Here we only have a single output neuron but in general \n",
    "\n",
    "\\\\( \\Delta = (\\vec{y}-\\vec{Y})^2=\\sum_j (y_j-Y_j)^2 \\\\)"
   ]
  },
  {
   "cell_type": "code",
   "execution_count": null,
   "id": "fe2330e2",
   "metadata": {},
   "outputs": [],
   "source": []
  },
  {
   "cell_type": "code",
   "execution_count": null,
   "id": "0308aaf8",
   "metadata": {},
   "outputs": [],
   "source": []
  },
  {
   "cell_type": "markdown",
   "id": "b3f535da",
   "metadata": {},
   "source": [
    "### 2.5 Function: Calculate gradient (d Error / d weight)\n",
    "\n",
    "- All derivatives with respect to the individual weights (use chain rule)\n",
    "\n",
    "\\\\( \\frac{\\partial }{\\partial w_i}\\Delta = 2(y-Y)\\cdot x_i\\\\)"
   ]
  },
  {
   "cell_type": "code",
   "execution_count": null,
   "id": "b675a8b1",
   "metadata": {},
   "outputs": [],
   "source": []
  },
  {
   "cell_type": "code",
   "execution_count": null,
   "id": "64e7f3ef",
   "metadata": {},
   "outputs": [],
   "source": []
  },
  {
   "cell_type": "code",
   "execution_count": null,
   "id": "ba447d1b",
   "metadata": {},
   "outputs": [],
   "source": []
  },
  {
   "cell_type": "code",
   "execution_count": null,
   "id": "ab274fe7",
   "metadata": {},
   "outputs": [],
   "source": []
  },
  {
   "cell_type": "code",
   "execution_count": null,
   "id": "efdc547c",
   "metadata": {},
   "outputs": [],
   "source": []
  },
  {
   "cell_type": "markdown",
   "id": "a23ebe73",
   "metadata": {},
   "source": [
    "## 3. Training: Use Gradient descent to change weights to minimize the error"
   ]
  },
  {
   "cell_type": "markdown",
   "id": "01e85b48",
   "metadata": {},
   "source": [
    "Repeat the following process many time:\n",
    "- Select an input pair (index)\n",
    "- Calculate the gradient of the error \n",
    "- Change weights accoding to \n",
    "\n",
    "\\\\( w_\\mathrm{new} = w_\\mathrm{old} - learingRate\\cdot gradient\\\\)"
   ]
  },
  {
   "cell_type": "code",
   "execution_count": null,
   "id": "5295c144",
   "metadata": {},
   "outputs": [],
   "source": []
  },
  {
   "cell_type": "code",
   "execution_count": null,
   "id": "023bb789",
   "metadata": {},
   "outputs": [],
   "source": []
  },
  {
   "cell_type": "code",
   "execution_count": null,
   "id": "2e71a8ad",
   "metadata": {},
   "outputs": [],
   "source": []
  },
  {
   "cell_type": "code",
   "execution_count": null,
   "id": "743dad50",
   "metadata": {},
   "outputs": [],
   "source": []
  },
  {
   "cell_type": "code",
   "execution_count": null,
   "id": "cf929468",
   "metadata": {},
   "outputs": [],
   "source": []
  },
  {
   "cell_type": "code",
   "execution_count": null,
   "id": "3d74c103",
   "metadata": {},
   "outputs": [],
   "source": []
  },
  {
   "cell_type": "code",
   "execution_count": null,
   "id": "8a7efad0",
   "metadata": {},
   "outputs": [],
   "source": []
  },
  {
   "cell_type": "markdown",
   "id": "c4889936",
   "metadata": {},
   "source": [
    "## 4. Application to test data set (new data)"
   ]
  },
  {
   "cell_type": "code",
   "execution_count": null,
   "id": "76b6de9e",
   "metadata": {},
   "outputs": [],
   "source": []
  },
  {
   "cell_type": "code",
   "execution_count": null,
   "id": "4e9c0b5c",
   "metadata": {},
   "outputs": [],
   "source": []
  },
  {
   "cell_type": "code",
   "execution_count": null,
   "id": "f69cbbe2",
   "metadata": {},
   "outputs": [],
   "source": []
  },
  {
   "cell_type": "code",
   "execution_count": null,
   "id": "d9e51b0e",
   "metadata": {},
   "outputs": [],
   "source": []
  }
 ],
 "metadata": {
  "kernelspec": {
   "display_name": "Python 3 (ipykernel)",
   "language": "python",
   "name": "python3"
  },
  "language_info": {
   "codemirror_mode": {
    "name": "ipython",
    "version": 3
   },
   "file_extension": ".py",
   "mimetype": "text/x-python",
   "name": "python",
   "nbconvert_exporter": "python",
   "pygments_lexer": "ipython3",
   "version": "3.9.7"
  }
 },
 "nbformat": 4,
 "nbformat_minor": 5
}
