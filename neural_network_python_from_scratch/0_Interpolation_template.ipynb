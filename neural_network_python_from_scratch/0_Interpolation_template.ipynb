{
 "cells": [
  {
   "cell_type": "markdown",
   "id": "e49ad235",
   "metadata": {},
   "source": [
    "# Interpolation of data\n",
    "- Börge Göbel"
   ]
  },
  {
   "cell_type": "code",
   "execution_count": 1,
   "id": "9a5970cf",
   "metadata": {},
   "outputs": [],
   "source": [
    "import numpy as np\n",
    "import matplotlib.pyplot as plt"
   ]
  },
  {
   "cell_type": "code",
   "execution_count": 2,
   "id": "56b71cbb",
   "metadata": {},
   "outputs": [],
   "source": [
    "np.random.seed(0)"
   ]
  },
  {
   "cell_type": "markdown",
   "id": "9c44bbf6",
   "metadata": {},
   "source": [
    "## 1. Generate data points"
   ]
  },
  {
   "cell_type": "code",
   "execution_count": 3,
   "id": "4bd36ffd",
   "metadata": {},
   "outputs": [],
   "source": [
    "x_list = np.linspace(-5,5,21)\n",
    "data0 = np.array([x_list, 15 + 2.4*x_list -0.5*x_list**2 -0.35*x_list**3])\n",
    "data = np.array([data0[0] + 0.25 * (2*np.random.rand(21)-1), data0[1] + 5.0 * (2*np.random.rand(21)-1)])"
   ]
  },
  {
   "cell_type": "code",
   "execution_count": 4,
   "id": "d63ae651",
   "metadata": {},
   "outputs": [
    {
     "data": {
      "text/plain": [
       "<matplotlib.collections.PathCollection at 0x20b0345ad00>"
      ]
     },
     "execution_count": 4,
     "metadata": {},
     "output_type": "execute_result"
    },
    {
     "data": {
      "image/png": "[encoded data removed]",
      "text/plain": [
       "<Figure size 432x288 with 1 Axes>"
      ]
     },
     "metadata": {
      "needs_background": "light"
     },
     "output_type": "display_data"
    }
   ],
   "source": [
    "plt.xlabel('x')\n",
    "plt.ylabel('y')\n",
    "plt.scatter(data[0], data[1])"
   ]
  },
  {
   "cell_type": "markdown",
   "id": "3bab25d9",
   "metadata": {},
   "source": [
    "## 2. Fitting a model function"
   ]
  },
  {
   "cell_type": "markdown",
   "id": "3a6ef777",
   "metadata": {},
   "source": [
    "Finding parameters of a model function such that error is minimized."
   ]
  },
  {
   "cell_type": "markdown",
   "id": "f3354650",
   "metadata": {},
   "source": [
    "### 2.1 Define model function"
   ]
  },
  {
   "cell_type": "markdown",
   "id": "3ee68e24",
   "metadata": {},
   "source": [
    "We consider a polynomial: \\\\( f(x) = a_0 + a_1 x + a_2 x^2 + a_3 x^3\\\\)"
   ]
  },
  {
   "cell_type": "code",
   "execution_count": 5,
   "id": "5dfbbf96",
   "metadata": {},
   "outputs": [],
   "source": []
  },
  {
   "cell_type": "markdown",
   "id": "5ed1a360",
   "metadata": {},
   "source": [
    "Let's test our new function "
   ]
  },
  {
   "cell_type": "code",
   "execution_count": null,
   "id": "f233e9a5",
   "metadata": {},
   "outputs": [],
   "source": [
    "# Starting values for the coefficients"
   ]
  },
  {
   "cell_type": "markdown",
   "id": "74701646",
   "metadata": {},
   "source": [
    "### 2.2 Update coefficients to reduce the error (gradient descent)"
   ]
  },
  {
   "cell_type": "markdown",
   "id": "c1274500",
   "metadata": {},
   "source": [
    "We can use several different methods to minimize the error, e. g. a Monte-Carlo algorithm. Here, we will use the gradient descent method. The coefficients \\\\( a_i \\\\) will be updated along the gradient direction of the error function \\\\( \\nabla_{\\vec{a}} \\Delta\\\\). The gradient consists of elements \\\\( \\frac{\\partial}{\\partial a_k} \\Delta = 2 \\sum_{i=1}^n \\left(f(x_i)-y_i\\right) \\frac{\\partial}{\\partial a_k}f(x_i) = 2 \\sum_{i=1}^n \\left(f(x_i)-y_i\\right) x_i^{k}\\\\)\n",
    "\n",
    "Remember: \\\\( \\Delta = \\sum_{i=1}^n \\left(f(x_i)-y_i\\right)^2 = \\sum_{i=1}^n \\left(a_0 + a_1 x_i + a_2 x_i^2 + \\dots + a_n x_i^n-y_i\\right)^2 \\\\)"
   ]
  },
  {
   "cell_type": "code",
   "execution_count": 20,
   "id": "18d3c998",
   "metadata": {},
   "outputs": [],
   "source": []
  },
  {
   "cell_type": "code",
   "execution_count": null,
   "id": "6b431e76",
   "metadata": {},
   "outputs": [],
   "source": []
  },
  {
   "cell_type": "markdown",
   "id": "23fb3610",
   "metadata": {},
   "source": [
    "### 2.3 Loop for the actual fitting"
   ]
  },
  {
   "cell_type": "code",
   "execution_count": null,
   "id": "32883400",
   "metadata": {},
   "outputs": [],
   "source": []
  },
  {
   "cell_type": "code",
   "execution_count": null,
   "id": "97a8913d",
   "metadata": {},
   "outputs": [],
   "source": []
  },
  {
   "cell_type": "markdown",
   "id": "56aa6d5e",
   "metadata": {},
   "source": [
    "\\\\( f(x) = a_0 + a_1 x + a_2 x^2 + a_3 x^3\\\\) with parameters:"
   ]
  },
  {
   "cell_type": "code",
   "execution_count": 11,
   "id": "707bb6bb",
   "metadata": {},
   "outputs": [
    {
     "name": "stdout",
     "output_type": "stream",
     "text": [
      "[14.13819122  2.5169182  -0.29951166 -0.34150612]\n"
     ]
    }
   ],
   "source": [
    "print(a)"
   ]
  }
 ],
 "metadata": {
  "kernelspec": {
   "display_name": "Python 3 (ipykernel)",
   "language": "python",
   "name": "python3"
  },
  "language_info": {
   "codemirror_mode": {
    "name": "ipython",
    "version": 3
   },
   "file_extension": ".py",
   "mimetype": "text/x-python",
   "name": "python",
   "nbconvert_exporter": "python",
   "pygments_lexer": "ipython3",
   "version": "3.9.7"
  }
 },
 "nbformat": 4,
 "nbformat_minor": 5
}
