{
 "cells": [
  {
   "cell_type": "raw",
   "id": "c6654957",
   "metadata": {
    "_cell_guid": "b1076dfc-b9ad-4769-8c92-a6c4dae69d19",
    "_uuid": "8f2839f25d086af736a60e9eeb907d3b93b6e0e5",
    "papermill": {
     "duration": 0.016678,
     "end_time": "2022-12-11T18:48:14.170686",
     "exception": false,
     "start_time": "2022-12-11T18:48:14.154008",
     "status": "completed"
    },
    "tags": []
   },
   "source": [
    "# This Python 3 environment comes with many helpful analytics libraries installed\n",
    "# It is defined by the kaggle/python Docker image: https://github.com/kaggle/docker-python\n",
    "# For example, here's several helpful packages to load\n",
    "\n",
    "import numpy as np # linear algebra\n",
    "import pandas as pd # data processing, CSV file I/O (e.g. pd.read_csv)\n",
    "\n",
    "# Input data files are available in the read-only \"../input/\" directory\n",
    "# For example, running this (by clicking run or pressing Shift+Enter) will list all files under the input directory\n",
    "\n",
    "import os\n",
    "for dirname, _, filenames in os.walk('/kaggle/input'):\n",
    "    for filename in filenames:\n",
    "        print(os.path.join(dirname, filename))\n",
    "\n",
    "# You can write up to 20GB to the current directory (/kaggle/working/) that gets preserved as output when you create a version using \"Save & Run All\" \n",
    "# You can also write temporary files to /kaggle/temp/, but they won't be saved outside of the current session"
   ]
  },
  {
   "cell_type": "code",
   "execution_count": 1,
   "id": "332e2a00",
   "metadata": {
    "execution": {
     "iopub.execute_input": "2022-12-11T18:48:14.204718Z",
     "iopub.status.busy": "2022-12-11T18:48:14.204033Z",
     "iopub.status.idle": "2022-12-11T18:48:15.502369Z",
     "shell.execute_reply": "2022-12-11T18:48:15.501320Z"
    },
    "papermill": {
     "duration": 1.318448,
     "end_time": "2022-12-11T18:48:15.505179",
     "exception": false,
     "start_time": "2022-12-11T18:48:14.186731",
     "status": "completed"
    },
    "tags": []
   },
   "outputs": [],
   "source": [
    "import pandas as pd\n",
    "import numpy as np\n",
    "import matplotlib \n",
    "import matplotlib.pyplot as plt\n",
    "import seaborn as sns\n",
    "%matplotlib inline\n",
    "sns.set_style(\"darkgrid\")\n",
    "matplotlib.rcParams['font.size'] = 14\n",
    "matplotlib.rcParams['figure.figsize'] = (15, 5)\n",
    "matplotlib.rcParams['figure.facecolor'] = '#00000000'\n",
    "\n",
    "import warnings\n",
    "warnings.simplefilter(action='ignore')"
   ]
  },
  {
   "cell_type": "code",
   "execution_count": 2,
   "id": "b511dab7",
   "metadata": {
    "execution": {
     "iopub.execute_input": "2022-12-11T18:48:15.540056Z",
     "iopub.status.busy": "2022-12-11T18:48:15.539130Z",
     "iopub.status.idle": "2022-12-11T18:48:15.564153Z",
     "shell.execute_reply": "2022-12-11T18:48:15.563342Z"
    },
    "papermill": {
     "duration": 0.044937,
     "end_time": "2022-12-11T18:48:15.566547",
     "exception": false,
     "start_time": "2022-12-11T18:48:15.521610",
     "status": "completed"
    },
    "tags": []
   },
   "outputs": [],
   "source": [
    "df=pd.read_csv('/kaggle/input/insurance-csv/insurance.csv')"
   ]
  },
  {
   "cell_type": "code",
   "execution_count": 3,
   "id": "d1afa795",
   "metadata": {
    "execution": {
     "iopub.execute_input": "2022-12-11T18:48:15.600656Z",
     "iopub.status.busy": "2022-12-11T18:48:15.599959Z",
     "iopub.status.idle": "2022-12-11T18:48:15.625870Z",
     "shell.execute_reply": "2022-12-11T18:48:15.624814Z"
    },
    "papermill": {
     "duration": 0.044897,
     "end_time": "2022-12-11T18:48:15.627725",
     "exception": false,
     "start_time": "2022-12-11T18:48:15.582828",
     "status": "completed"
    },
    "tags": []
   },
   "outputs": [
    {
     "data": {
      "text/html": [
       "<div>\n",
       "<style scoped>\n",
       "    .dataframe tbody tr th:only-of-type {\n",
       "        vertical-align: middle;\n",
       "    }\n",
       "\n",
       "    .dataframe tbody tr th {\n",
       "        vertical-align: top;\n",
       "    }\n",
       "\n",
       "    .dataframe thead th {\n",
       "        text-align: right;\n",
       "    }\n",
       "</style>\n",
       "<table border=\"1\" class=\"dataframe\">\n",
       "  <thead>\n",
       "    <tr style=\"text-align: right;\">\n",
       "      <th></th>\n",
       "      <th>age</th>\n",
       "      <th>sex</th>\n",
       "      <th>bmi</th>\n",
       "      <th>children</th>\n",
       "      <th>smoker</th>\n",
       "      <th>region</th>\n",
       "      <th>expenses</th>\n",
       "    </tr>\n",
       "  </thead>\n",
       "  <tbody>\n",
       "    <tr>\n",
       "      <th>0</th>\n",
       "      <td>19</td>\n",
       "      <td>female</td>\n",
       "      <td>27.9</td>\n",
       "      <td>0</td>\n",
       "      <td>yes</td>\n",
       "      <td>southwest</td>\n",
       "      <td>16884.92</td>\n",
       "    </tr>\n",
       "    <tr>\n",
       "      <th>1</th>\n",
       "      <td>18</td>\n",
       "      <td>male</td>\n",
       "      <td>33.8</td>\n",
       "      <td>1</td>\n",
       "      <td>no</td>\n",
       "      <td>southeast</td>\n",
       "      <td>1725.55</td>\n",
       "    </tr>\n",
       "    <tr>\n",
       "      <th>2</th>\n",
       "      <td>28</td>\n",
       "      <td>male</td>\n",
       "      <td>33.0</td>\n",
       "      <td>3</td>\n",
       "      <td>no</td>\n",
       "      <td>southeast</td>\n",
       "      <td>4449.46</td>\n",
       "    </tr>\n",
       "    <tr>\n",
       "      <th>3</th>\n",
       "      <td>33</td>\n",
       "      <td>male</td>\n",
       "      <td>22.7</td>\n",
       "      <td>0</td>\n",
       "      <td>no</td>\n",
       "      <td>northwest</td>\n",
       "      <td>21984.47</td>\n",
       "    </tr>\n",
       "    <tr>\n",
       "      <th>4</th>\n",
       "      <td>32</td>\n",
       "      <td>male</td>\n",
       "      <td>28.9</td>\n",
       "      <td>0</td>\n",
       "      <td>no</td>\n",
       "      <td>northwest</td>\n",
       "      <td>3866.86</td>\n",
       "    </tr>\n",
       "  </tbody>\n",
       "</table>\n",
       "</div>"
      ],
      "text/plain": [
       "   age     sex   bmi  children smoker     region  expenses\n",
       "0   19  female  27.9         0    yes  southwest  16884.92\n",
       "1   18    male  33.8         1     no  southeast   1725.55\n",
       "2   28    male  33.0         3     no  southeast   4449.46\n",
       "3   33    male  22.7         0     no  northwest  21984.47\n",
       "4   32    male  28.9         0     no  northwest   3866.86"
      ]
     },
     "execution_count": 3,
     "metadata": {},
     "output_type": "execute_result"
    }
   ],
   "source": [
    "df.head()"
   ]
  },
  {
   "cell_type": "code",
   "execution_count": 4,
   "id": "d12389b7",
   "metadata": {
    "execution": {
     "iopub.execute_input": "2022-12-11T18:48:15.660390Z",
     "iopub.status.busy": "2022-12-11T18:48:15.659973Z",
     "iopub.status.idle": "2022-12-11T18:48:15.688068Z",
     "shell.execute_reply": "2022-12-11T18:48:15.686403Z"
    },
    "papermill": {
     "duration": 0.048046,
     "end_time": "2022-12-11T18:48:15.691268",
     "exception": false,
     "start_time": "2022-12-11T18:48:15.643222",
     "status": "completed"
    },
    "tags": []
   },
   "outputs": [
    {
     "name": "stdout",
     "output_type": "stream",
     "text": [
      "<class 'pandas.core.frame.DataFrame'>\n",
      "RangeIndex: 1338 entries, 0 to 1337\n",
      "Data columns (total 7 columns):\n",
      " #   Column    Non-Null Count  Dtype  \n",
      "---  ------    --------------  -----  \n",
      " 0   age       1338 non-null   int64  \n",
      " 1   sex       1338 non-null   object \n",
      " 2   bmi       1338 non-null   float64\n",
      " 3   children  1338 non-null   int64  \n",
      " 4   smoker    1338 non-null   object \n",
      " 5   region    1338 non-null   object \n",
      " 6   expenses  1338 non-null   float64\n",
      "dtypes: float64(2), int64(2), object(3)\n",
      "memory usage: 73.3+ KB\n"
     ]
    }
   ],
   "source": [
    "df.info()"
   ]
  },
  {
   "cell_type": "code",
   "execution_count": 5,
   "id": "98a66d8c",
   "metadata": {
    "execution": {
     "iopub.execute_input": "2022-12-11T18:48:15.728184Z",
     "iopub.status.busy": "2022-12-11T18:48:15.727445Z",
     "iopub.status.idle": "2022-12-11T18:48:15.746492Z",
     "shell.execute_reply": "2022-12-11T18:48:15.745688Z"
    },
    "papermill": {
     "duration": 0.041056,
     "end_time": "2022-12-11T18:48:15.749045",
     "exception": false,
     "start_time": "2022-12-11T18:48:15.707989",
     "status": "completed"
    },
    "tags": []
   },
   "outputs": [
    {
     "data": {
      "text/html": [
       "<div>\n",
       "<style scoped>\n",
       "    .dataframe tbody tr th:only-of-type {\n",
       "        vertical-align: middle;\n",
       "    }\n",
       "\n",
       "    .dataframe tbody tr th {\n",
       "        vertical-align: top;\n",
       "    }\n",
       "\n",
       "    .dataframe thead th {\n",
       "        text-align: right;\n",
       "    }\n",
       "</style>\n",
       "<table border=\"1\" class=\"dataframe\">\n",
       "  <thead>\n",
       "    <tr style=\"text-align: right;\">\n",
       "      <th></th>\n",
       "      <th>age</th>\n",
       "      <th>sex</th>\n",
       "      <th>bmi</th>\n",
       "      <th>children</th>\n",
       "      <th>smoker</th>\n",
       "      <th>region</th>\n",
       "      <th>expenses</th>\n",
       "    </tr>\n",
       "  </thead>\n",
       "  <tbody>\n",
       "    <tr>\n",
       "      <th>195</th>\n",
       "      <td>19</td>\n",
       "      <td>male</td>\n",
       "      <td>30.6</td>\n",
       "      <td>0</td>\n",
       "      <td>no</td>\n",
       "      <td>northwest</td>\n",
       "      <td>1639.56</td>\n",
       "    </tr>\n",
       "    <tr>\n",
       "      <th>581</th>\n",
       "      <td>19</td>\n",
       "      <td>male</td>\n",
       "      <td>30.6</td>\n",
       "      <td>0</td>\n",
       "      <td>no</td>\n",
       "      <td>northwest</td>\n",
       "      <td>1639.56</td>\n",
       "    </tr>\n",
       "  </tbody>\n",
       "</table>\n",
       "</div>"
      ],
      "text/plain": [
       "     age   sex   bmi  children smoker     region  expenses\n",
       "195   19  male  30.6         0     no  northwest   1639.56\n",
       "581   19  male  30.6         0     no  northwest   1639.56"
      ]
     },
     "execution_count": 5,
     "metadata": {},
     "output_type": "execute_result"
    }
   ],
   "source": [
    "df[df.duplicated(keep=False)]"
   ]
  },
  {
   "cell_type": "code",
   "execution_count": 6,
   "id": "4acdf87e",
   "metadata": {
    "execution": {
     "iopub.execute_input": "2022-12-11T18:48:15.784062Z",
     "iopub.status.busy": "2022-12-11T18:48:15.783344Z",
     "iopub.status.idle": "2022-12-11T18:48:15.800659Z",
     "shell.execute_reply": "2022-12-11T18:48:15.799621Z"
    },
    "papermill": {
     "duration": 0.037719,
     "end_time": "2022-12-11T18:48:15.803230",
     "exception": false,
     "start_time": "2022-12-11T18:48:15.765511",
     "status": "completed"
    },
    "tags": []
   },
   "outputs": [
    {
     "data": {
      "text/html": [
       "<div>\n",
       "<style scoped>\n",
       "    .dataframe tbody tr th:only-of-type {\n",
       "        vertical-align: middle;\n",
       "    }\n",
       "\n",
       "    .dataframe tbody tr th {\n",
       "        vertical-align: top;\n",
       "    }\n",
       "\n",
       "    .dataframe thead th {\n",
       "        text-align: right;\n",
       "    }\n",
       "</style>\n",
       "<table border=\"1\" class=\"dataframe\">\n",
       "  <thead>\n",
       "    <tr style=\"text-align: right;\">\n",
       "      <th></th>\n",
       "      <th>age</th>\n",
       "      <th>sex</th>\n",
       "      <th>bmi</th>\n",
       "      <th>children</th>\n",
       "      <th>smoker</th>\n",
       "      <th>region</th>\n",
       "      <th>expenses</th>\n",
       "    </tr>\n",
       "  </thead>\n",
       "  <tbody>\n",
       "    <tr>\n",
       "      <th>0</th>\n",
       "      <td>19</td>\n",
       "      <td>female</td>\n",
       "      <td>27.9</td>\n",
       "      <td>0</td>\n",
       "      <td>yes</td>\n",
       "      <td>southwest</td>\n",
       "      <td>16884.92</td>\n",
       "    </tr>\n",
       "    <tr>\n",
       "      <th>1</th>\n",
       "      <td>18</td>\n",
       "      <td>male</td>\n",
       "      <td>33.8</td>\n",
       "      <td>1</td>\n",
       "      <td>no</td>\n",
       "      <td>southeast</td>\n",
       "      <td>1725.55</td>\n",
       "    </tr>\n",
       "    <tr>\n",
       "      <th>2</th>\n",
       "      <td>28</td>\n",
       "      <td>male</td>\n",
       "      <td>33.0</td>\n",
       "      <td>3</td>\n",
       "      <td>no</td>\n",
       "      <td>southeast</td>\n",
       "      <td>4449.46</td>\n",
       "    </tr>\n",
       "    <tr>\n",
       "      <th>3</th>\n",
       "      <td>33</td>\n",
       "      <td>male</td>\n",
       "      <td>22.7</td>\n",
       "      <td>0</td>\n",
       "      <td>no</td>\n",
       "      <td>northwest</td>\n",
       "      <td>21984.47</td>\n",
       "    </tr>\n",
       "    <tr>\n",
       "      <th>4</th>\n",
       "      <td>32</td>\n",
       "      <td>male</td>\n",
       "      <td>28.9</td>\n",
       "      <td>0</td>\n",
       "      <td>no</td>\n",
       "      <td>northwest</td>\n",
       "      <td>3866.86</td>\n",
       "    </tr>\n",
       "    <tr>\n",
       "      <th>...</th>\n",
       "      <td>...</td>\n",
       "      <td>...</td>\n",
       "      <td>...</td>\n",
       "      <td>...</td>\n",
       "      <td>...</td>\n",
       "      <td>...</td>\n",
       "      <td>...</td>\n",
       "    </tr>\n",
       "    <tr>\n",
       "      <th>1333</th>\n",
       "      <td>50</td>\n",
       "      <td>male</td>\n",
       "      <td>31.0</td>\n",
       "      <td>3</td>\n",
       "      <td>no</td>\n",
       "      <td>northwest</td>\n",
       "      <td>10600.55</td>\n",
       "    </tr>\n",
       "    <tr>\n",
       "      <th>1334</th>\n",
       "      <td>18</td>\n",
       "      <td>female</td>\n",
       "      <td>31.9</td>\n",
       "      <td>0</td>\n",
       "      <td>no</td>\n",
       "      <td>northeast</td>\n",
       "      <td>2205.98</td>\n",
       "    </tr>\n",
       "    <tr>\n",
       "      <th>1335</th>\n",
       "      <td>18</td>\n",
       "      <td>female</td>\n",
       "      <td>36.9</td>\n",
       "      <td>0</td>\n",
       "      <td>no</td>\n",
       "      <td>southeast</td>\n",
       "      <td>1629.83</td>\n",
       "    </tr>\n",
       "    <tr>\n",
       "      <th>1336</th>\n",
       "      <td>21</td>\n",
       "      <td>female</td>\n",
       "      <td>25.8</td>\n",
       "      <td>0</td>\n",
       "      <td>no</td>\n",
       "      <td>southwest</td>\n",
       "      <td>2007.95</td>\n",
       "    </tr>\n",
       "    <tr>\n",
       "      <th>1337</th>\n",
       "      <td>61</td>\n",
       "      <td>female</td>\n",
       "      <td>29.1</td>\n",
       "      <td>0</td>\n",
       "      <td>yes</td>\n",
       "      <td>northwest</td>\n",
       "      <td>29141.36</td>\n",
       "    </tr>\n",
       "  </tbody>\n",
       "</table>\n",
       "<p>1338 rows × 7 columns</p>\n",
       "</div>"
      ],
      "text/plain": [
       "      age     sex   bmi  children smoker     region  expenses\n",
       "0      19  female  27.9         0    yes  southwest  16884.92\n",
       "1      18    male  33.8         1     no  southeast   1725.55\n",
       "2      28    male  33.0         3     no  southeast   4449.46\n",
       "3      33    male  22.7         0     no  northwest  21984.47\n",
       "4      32    male  28.9         0     no  northwest   3866.86\n",
       "...   ...     ...   ...       ...    ...        ...       ...\n",
       "1333   50    male  31.0         3     no  northwest  10600.55\n",
       "1334   18  female  31.9         0     no  northeast   2205.98\n",
       "1335   18  female  36.9         0     no  southeast   1629.83\n",
       "1336   21  female  25.8         0     no  southwest   2007.95\n",
       "1337   61  female  29.1         0    yes  northwest  29141.36\n",
       "\n",
       "[1338 rows x 7 columns]"
      ]
     },
     "execution_count": 6,
     "metadata": {},
     "output_type": "execute_result"
    }
   ],
   "source": [
    "df"
   ]
  },
  {
   "cell_type": "code",
   "execution_count": 7,
   "id": "e8a9bddd",
   "metadata": {
    "execution": {
     "iopub.execute_input": "2022-12-11T18:48:15.838849Z",
     "iopub.status.busy": "2022-12-11T18:48:15.838451Z",
     "iopub.status.idle": "2022-12-11T18:48:15.845715Z",
     "shell.execute_reply": "2022-12-11T18:48:15.844557Z"
    },
    "papermill": {
     "duration": 0.027827,
     "end_time": "2022-12-11T18:48:15.848287",
     "exception": false,
     "start_time": "2022-12-11T18:48:15.820460",
     "status": "completed"
    },
    "tags": []
   },
   "outputs": [],
   "source": [
    "insurance = df.drop_duplicates()"
   ]
  },
  {
   "cell_type": "code",
   "execution_count": 8,
   "id": "9628cba4",
   "metadata": {
    "execution": {
     "iopub.execute_input": "2022-12-11T18:48:15.884813Z",
     "iopub.status.busy": "2022-12-11T18:48:15.883751Z",
     "iopub.status.idle": "2022-12-11T18:48:15.901470Z",
     "shell.execute_reply": "2022-12-11T18:48:15.900216Z"
    },
    "papermill": {
     "duration": 0.037964,
     "end_time": "2022-12-11T18:48:15.903921",
     "exception": false,
     "start_time": "2022-12-11T18:48:15.865957",
     "status": "completed"
    },
    "tags": []
   },
   "outputs": [
    {
     "data": {
      "text/html": [
       "<div>\n",
       "<style scoped>\n",
       "    .dataframe tbody tr th:only-of-type {\n",
       "        vertical-align: middle;\n",
       "    }\n",
       "\n",
       "    .dataframe tbody tr th {\n",
       "        vertical-align: top;\n",
       "    }\n",
       "\n",
       "    .dataframe thead th {\n",
       "        text-align: right;\n",
       "    }\n",
       "</style>\n",
       "<table border=\"1\" class=\"dataframe\">\n",
       "  <thead>\n",
       "    <tr style=\"text-align: right;\">\n",
       "      <th></th>\n",
       "      <th>age</th>\n",
       "      <th>sex</th>\n",
       "      <th>bmi</th>\n",
       "      <th>children</th>\n",
       "      <th>smoker</th>\n",
       "      <th>region</th>\n",
       "      <th>expenses</th>\n",
       "    </tr>\n",
       "  </thead>\n",
       "  <tbody>\n",
       "    <tr>\n",
       "      <th>0</th>\n",
       "      <td>19</td>\n",
       "      <td>female</td>\n",
       "      <td>27.9</td>\n",
       "      <td>0</td>\n",
       "      <td>yes</td>\n",
       "      <td>southwest</td>\n",
       "      <td>16884.92</td>\n",
       "    </tr>\n",
       "    <tr>\n",
       "      <th>1</th>\n",
       "      <td>18</td>\n",
       "      <td>male</td>\n",
       "      <td>33.8</td>\n",
       "      <td>1</td>\n",
       "      <td>no</td>\n",
       "      <td>southeast</td>\n",
       "      <td>1725.55</td>\n",
       "    </tr>\n",
       "    <tr>\n",
       "      <th>2</th>\n",
       "      <td>28</td>\n",
       "      <td>male</td>\n",
       "      <td>33.0</td>\n",
       "      <td>3</td>\n",
       "      <td>no</td>\n",
       "      <td>southeast</td>\n",
       "      <td>4449.46</td>\n",
       "    </tr>\n",
       "    <tr>\n",
       "      <th>3</th>\n",
       "      <td>33</td>\n",
       "      <td>male</td>\n",
       "      <td>22.7</td>\n",
       "      <td>0</td>\n",
       "      <td>no</td>\n",
       "      <td>northwest</td>\n",
       "      <td>21984.47</td>\n",
       "    </tr>\n",
       "    <tr>\n",
       "      <th>4</th>\n",
       "      <td>32</td>\n",
       "      <td>male</td>\n",
       "      <td>28.9</td>\n",
       "      <td>0</td>\n",
       "      <td>no</td>\n",
       "      <td>northwest</td>\n",
       "      <td>3866.86</td>\n",
       "    </tr>\n",
       "    <tr>\n",
       "      <th>...</th>\n",
       "      <td>...</td>\n",
       "      <td>...</td>\n",
       "      <td>...</td>\n",
       "      <td>...</td>\n",
       "      <td>...</td>\n",
       "      <td>...</td>\n",
       "      <td>...</td>\n",
       "    </tr>\n",
       "    <tr>\n",
       "      <th>1333</th>\n",
       "      <td>50</td>\n",
       "      <td>male</td>\n",
       "      <td>31.0</td>\n",
       "      <td>3</td>\n",
       "      <td>no</td>\n",
       "      <td>northwest</td>\n",
       "      <td>10600.55</td>\n",
       "    </tr>\n",
       "    <tr>\n",
       "      <th>1334</th>\n",
       "      <td>18</td>\n",
       "      <td>female</td>\n",
       "      <td>31.9</td>\n",
       "      <td>0</td>\n",
       "      <td>no</td>\n",
       "      <td>northeast</td>\n",
       "      <td>2205.98</td>\n",
       "    </tr>\n",
       "    <tr>\n",
       "      <th>1335</th>\n",
       "      <td>18</td>\n",
       "      <td>female</td>\n",
       "      <td>36.9</td>\n",
       "      <td>0</td>\n",
       "      <td>no</td>\n",
       "      <td>southeast</td>\n",
       "      <td>1629.83</td>\n",
       "    </tr>\n",
       "    <tr>\n",
       "      <th>1336</th>\n",
       "      <td>21</td>\n",
       "      <td>female</td>\n",
       "      <td>25.8</td>\n",
       "      <td>0</td>\n",
       "      <td>no</td>\n",
       "      <td>southwest</td>\n",
       "      <td>2007.95</td>\n",
       "    </tr>\n",
       "    <tr>\n",
       "      <th>1337</th>\n",
       "      <td>61</td>\n",
       "      <td>female</td>\n",
       "      <td>29.1</td>\n",
       "      <td>0</td>\n",
       "      <td>yes</td>\n",
       "      <td>northwest</td>\n",
       "      <td>29141.36</td>\n",
       "    </tr>\n",
       "  </tbody>\n",
       "</table>\n",
       "<p>1337 rows × 7 columns</p>\n",
       "</div>"
      ],
      "text/plain": [
       "      age     sex   bmi  children smoker     region  expenses\n",
       "0      19  female  27.9         0    yes  southwest  16884.92\n",
       "1      18    male  33.8         1     no  southeast   1725.55\n",
       "2      28    male  33.0         3     no  southeast   4449.46\n",
       "3      33    male  22.7         0     no  northwest  21984.47\n",
       "4      32    male  28.9         0     no  northwest   3866.86\n",
       "...   ...     ...   ...       ...    ...        ...       ...\n",
       "1333   50    male  31.0         3     no  northwest  10600.55\n",
       "1334   18  female  31.9         0     no  northeast   2205.98\n",
       "1335   18  female  36.9         0     no  southeast   1629.83\n",
       "1336   21  female  25.8         0     no  southwest   2007.95\n",
       "1337   61  female  29.1         0    yes  northwest  29141.36\n",
       "\n",
       "[1337 rows x 7 columns]"
      ]
     },
     "execution_count": 8,
     "metadata": {},
     "output_type": "execute_result"
    }
   ],
   "source": [
    "insurance"
   ]
  },
  {
   "cell_type": "code",
   "execution_count": 9,
   "id": "5d5615af",
   "metadata": {
    "execution": {
     "iopub.execute_input": "2022-12-11T18:48:15.939642Z",
     "iopub.status.busy": "2022-12-11T18:48:15.938437Z",
     "iopub.status.idle": "2022-12-11T18:48:15.951541Z",
     "shell.execute_reply": "2022-12-11T18:48:15.950517Z"
    },
    "papermill": {
     "duration": 0.033437,
     "end_time": "2022-12-11T18:48:15.954038",
     "exception": false,
     "start_time": "2022-12-11T18:48:15.920601",
     "status": "completed"
    },
    "tags": []
   },
   "outputs": [
    {
     "name": "stdout",
     "output_type": "stream",
     "text": [
      "<class 'pandas.core.frame.DataFrame'>\n",
      "Int64Index: 1337 entries, 0 to 1337\n",
      "Data columns (total 7 columns):\n",
      " #   Column    Non-Null Count  Dtype  \n",
      "---  ------    --------------  -----  \n",
      " 0   age       1337 non-null   int64  \n",
      " 1   sex       1337 non-null   object \n",
      " 2   bmi       1337 non-null   float64\n",
      " 3   children  1337 non-null   int64  \n",
      " 4   smoker    1337 non-null   object \n",
      " 5   region    1337 non-null   object \n",
      " 6   expenses  1337 non-null   float64\n",
      "dtypes: float64(2), int64(2), object(3)\n",
      "memory usage: 83.6+ KB\n"
     ]
    }
   ],
   "source": [
    "insurance.info()"
   ]
  },
  {
   "cell_type": "code",
   "execution_count": 10,
   "id": "c00c9a87",
   "metadata": {
    "execution": {
     "iopub.execute_input": "2022-12-11T18:48:15.990695Z",
     "iopub.status.busy": "2022-12-11T18:48:15.990269Z",
     "iopub.status.idle": "2022-12-11T18:48:16.366417Z",
     "shell.execute_reply": "2022-12-11T18:48:16.365057Z"
    },
    "papermill": {
     "duration": 0.397548,
     "end_time": "2022-12-11T18:48:16.368863",
     "exception": false,
     "start_time": "2022-12-11T18:48:15.971315",
     "status": "completed"
    },
    "tags": []
   },
   "outputs": [
    {
     "data": {
      "image/png": "[encoded data removed]",
      "text/plain": [
       "<Figure size 1080x360 with 1 Axes>"
      ]
     },
     "metadata": {
      "needs_background": "light"
     },
     "output_type": "display_data"
    }
   ],
   "source": [
    "sns.histplot(data=insurance, x='expenses', bins=50 ,kde=True);"
   ]
  },
  {
   "cell_type": "code",
   "execution_count": 11,
   "id": "e87d7a21",
   "metadata": {
    "execution": {
     "iopub.execute_input": "2022-12-11T18:48:16.405452Z",
     "iopub.status.busy": "2022-12-11T18:48:16.404998Z",
     "iopub.status.idle": "2022-12-11T18:48:16.419065Z",
     "shell.execute_reply": "2022-12-11T18:48:16.417480Z"
    },
    "papermill": {
     "duration": 0.035339,
     "end_time": "2022-12-11T18:48:16.421948",
     "exception": false,
     "start_time": "2022-12-11T18:48:16.386609",
     "status": "completed"
    },
    "tags": []
   },
   "outputs": [
    {
     "data": {
      "text/plain": [
       "count     1337.000000\n",
       "mean     13279.121638\n",
       "std      12110.359657\n",
       "min       1121.870000\n",
       "25%       4746.340000\n",
       "50%       9386.160000\n",
       "75%      16657.720000\n",
       "max      63770.430000\n",
       "Name: expenses, dtype: float64"
      ]
     },
     "execution_count": 11,
     "metadata": {},
     "output_type": "execute_result"
    }
   ],
   "source": [
    "insurance.expenses.describe()"
   ]
  },
  {
   "cell_type": "code",
   "execution_count": 12,
   "id": "443acfda",
   "metadata": {
    "execution": {
     "iopub.execute_input": "2022-12-11T18:48:16.459872Z",
     "iopub.status.busy": "2022-12-11T18:48:16.458661Z",
     "iopub.status.idle": "2022-12-11T18:48:16.470894Z",
     "shell.execute_reply": "2022-12-11T18:48:16.469881Z"
    },
    "papermill": {
     "duration": 0.033051,
     "end_time": "2022-12-11T18:48:16.472828",
     "exception": false,
     "start_time": "2022-12-11T18:48:16.439777",
     "status": "completed"
    },
    "tags": []
   },
   "outputs": [
    {
     "data": {
      "text/plain": [
       "count    1337.000000\n",
       "mean       39.222139\n",
       "std        14.044333\n",
       "min        18.000000\n",
       "25%        27.000000\n",
       "50%        39.000000\n",
       "75%        51.000000\n",
       "max        64.000000\n",
       "Name: age, dtype: float64"
      ]
     },
     "execution_count": 12,
     "metadata": {},
     "output_type": "execute_result"
    }
   ],
   "source": [
    "insurance.age.describe()"
   ]
  },
  {
   "cell_type": "code",
   "execution_count": 13,
   "id": "1fccecdf",
   "metadata": {
    "execution": {
     "iopub.execute_input": "2022-12-11T18:48:16.509830Z",
     "iopub.status.busy": "2022-12-11T18:48:16.509430Z",
     "iopub.status.idle": "2022-12-11T18:48:16.664442Z",
     "shell.execute_reply": "2022-12-11T18:48:16.662856Z"
    },
    "papermill": {
     "duration": 0.176726,
     "end_time": "2022-12-11T18:48:16.667251",
     "exception": false,
     "start_time": "2022-12-11T18:48:16.490525",
     "status": "completed"
    },
    "tags": []
   },
   "outputs": [
    {
     "data": {
      "image/png": "[encoded data removed]",
      "text/plain": [
       "<Figure size 1080x360 with 1 Axes>"
      ]
     },
     "metadata": {
      "needs_background": "light"
     },
     "output_type": "display_data"
    }
   ],
   "source": [
    "sns.boxplot(data=insurance, x='age');"
   ]
  },
  {
   "cell_type": "code",
   "execution_count": 14,
   "id": "b390a4d9",
   "metadata": {
    "execution": {
     "iopub.execute_input": "2022-12-11T18:48:16.703912Z",
     "iopub.status.busy": "2022-12-11T18:48:16.703497Z",
     "iopub.status.idle": "2022-12-11T18:48:16.713742Z",
     "shell.execute_reply": "2022-12-11T18:48:16.712214Z"
    },
    "papermill": {
     "duration": 0.031504,
     "end_time": "2022-12-11T18:48:16.716678",
     "exception": false,
     "start_time": "2022-12-11T18:48:16.685174",
     "status": "completed"
    },
    "tags": []
   },
   "outputs": [
    {
     "data": {
      "text/plain": [
       "male      675\n",
       "female    662\n",
       "Name: sex, dtype: int64"
      ]
     },
     "execution_count": 14,
     "metadata": {},
     "output_type": "execute_result"
    }
   ],
   "source": [
    "insurance.sex.value_counts()"
   ]
  },
  {
   "cell_type": "code",
   "execution_count": 15,
   "id": "4cad882f",
   "metadata": {
    "execution": {
     "iopub.execute_input": "2022-12-11T18:48:16.756379Z",
     "iopub.status.busy": "2022-12-11T18:48:16.755992Z",
     "iopub.status.idle": "2022-12-11T18:48:16.949945Z",
     "shell.execute_reply": "2022-12-11T18:48:16.948405Z"
    },
    "papermill": {
     "duration": 0.217766,
     "end_time": "2022-12-11T18:48:16.952958",
     "exception": false,
     "start_time": "2022-12-11T18:48:16.735192",
     "status": "completed"
    },
    "tags": []
   },
   "outputs": [
    {
     "data": {
      "image/png": "[encoded data removed]",
      "text/plain": [
       "<Figure size 1080x360 with 1 Axes>"
      ]
     },
     "metadata": {
      "needs_background": "light"
     },
     "output_type": "display_data"
    }
   ],
   "source": [
    "sns.boxplot(data=insurance, x='sex', y='expenses')\n",
    "plt.title('Sex Boxplot');"
   ]
  },
  {
   "cell_type": "code",
   "execution_count": 16,
   "id": "2bedbdaf",
   "metadata": {
    "execution": {
     "iopub.execute_input": "2022-12-11T18:48:16.993619Z",
     "iopub.status.busy": "2022-12-11T18:48:16.992721Z",
     "iopub.status.idle": "2022-12-11T18:48:17.005752Z",
     "shell.execute_reply": "2022-12-11T18:48:17.004688Z"
    },
    "papermill": {
     "duration": 0.035636,
     "end_time": "2022-12-11T18:48:17.007896",
     "exception": false,
     "start_time": "2022-12-11T18:48:16.972260",
     "status": "completed"
    },
    "tags": []
   },
   "outputs": [
    {
     "data": {
      "text/plain": [
       "sex\n",
       "female    12569.578897\n",
       "male      13974.999111\n",
       "Name: expenses, dtype: float64"
      ]
     },
     "execution_count": 16,
     "metadata": {},
     "output_type": "execute_result"
    }
   ],
   "source": [
    "insurance.groupby('sex')['expenses'].mean()"
   ]
  },
  {
   "cell_type": "code",
   "execution_count": 17,
   "id": "e91a04d9",
   "metadata": {
    "execution": {
     "iopub.execute_input": "2022-12-11T18:48:17.045708Z",
     "iopub.status.busy": "2022-12-11T18:48:17.045300Z",
     "iopub.status.idle": "2022-12-11T18:48:17.056637Z",
     "shell.execute_reply": "2022-12-11T18:48:17.055416Z"
    },
    "papermill": {
     "duration": 0.032896,
     "end_time": "2022-12-11T18:48:17.058941",
     "exception": false,
     "start_time": "2022-12-11T18:48:17.026045",
     "status": "completed"
    },
    "tags": []
   },
   "outputs": [
    {
     "data": {
      "text/plain": [
       "1405.4202138301443"
      ]
     },
     "execution_count": 17,
     "metadata": {},
     "output_type": "execute_result"
    }
   ],
   "source": [
    "females_expenses = insurance.groupby('sex')['expenses'].mean()[0]\n",
    "male_expenses = insurance.groupby('sex')['expenses'].mean()[1]\n",
    "male_expenses-females_expenses\n"
   ]
  },
  {
   "cell_type": "code",
   "execution_count": 18,
   "id": "51dc8c60",
   "metadata": {
    "execution": {
     "iopub.execute_input": "2022-12-11T18:48:17.098242Z",
     "iopub.status.busy": "2022-12-11T18:48:17.097857Z",
     "iopub.status.idle": "2022-12-11T18:48:17.111456Z",
     "shell.execute_reply": "2022-12-11T18:48:17.110411Z"
    },
    "papermill": {
     "duration": 0.03672,
     "end_time": "2022-12-11T18:48:17.114331",
     "exception": false,
     "start_time": "2022-12-11T18:48:17.077611",
     "status": "completed"
    },
    "tags": []
   },
   "outputs": [
    {
     "data": {
      "text/plain": [
       "count      675.000000\n",
       "mean     13974.999111\n",
       "std      12971.958641\n",
       "min       1121.870000\n",
       "25%       4654.025000\n",
       "50%       9377.900000\n",
       "75%      19006.690000\n",
       "max      62592.870000\n",
       "Name: expenses, dtype: float64"
      ]
     },
     "execution_count": 18,
     "metadata": {},
     "output_type": "execute_result"
    }
   ],
   "source": [
    "insurance[insurance.sex=='male'].expenses.describe()"
   ]
  },
  {
   "cell_type": "code",
   "execution_count": 19,
   "id": "570474b4",
   "metadata": {
    "execution": {
     "iopub.execute_input": "2022-12-11T18:48:17.154819Z",
     "iopub.status.busy": "2022-12-11T18:48:17.154409Z",
     "iopub.status.idle": "2022-12-11T18:48:17.167474Z",
     "shell.execute_reply": "2022-12-11T18:48:17.165729Z"
    },
    "papermill": {
     "duration": 0.035865,
     "end_time": "2022-12-11T18:48:17.169446",
     "exception": false,
     "start_time": "2022-12-11T18:48:17.133581",
     "status": "completed"
    },
    "tags": []
   },
   "outputs": [
    {
     "data": {
      "text/plain": [
       "count      662.000000\n",
       "mean     12569.578897\n",
       "std      11128.703817\n",
       "min       1607.510000\n",
       "25%       4885.162500\n",
       "50%       9412.965000\n",
       "75%      14454.690000\n",
       "max      63770.430000\n",
       "Name: expenses, dtype: float64"
      ]
     },
     "execution_count": 19,
     "metadata": {},
     "output_type": "execute_result"
    }
   ],
   "source": [
    "insurance[insurance.sex=='female'].expenses.describe()"
   ]
  },
  {
   "cell_type": "code",
   "execution_count": 20,
   "id": "b751f642",
   "metadata": {
    "execution": {
     "iopub.execute_input": "2022-12-11T18:48:17.209762Z",
     "iopub.status.busy": "2022-12-11T18:48:17.209110Z",
     "iopub.status.idle": "2022-12-11T18:48:17.218393Z",
     "shell.execute_reply": "2022-12-11T18:48:17.217252Z"
    },
    "papermill": {
     "duration": 0.032823,
     "end_time": "2022-12-11T18:48:17.221105",
     "exception": false,
     "start_time": "2022-12-11T18:48:17.188282",
     "status": "completed"
    },
    "tags": []
   },
   "outputs": [
    {
     "data": {
      "text/plain": [
       "count    1337.000000\n",
       "mean       30.665520\n",
       "std         6.100664\n",
       "min        16.000000\n",
       "25%        26.300000\n",
       "50%        30.400000\n",
       "75%        34.700000\n",
       "max        53.100000\n",
       "Name: bmi, dtype: float64"
      ]
     },
     "execution_count": 20,
     "metadata": {},
     "output_type": "execute_result"
    }
   ],
   "source": [
    "insurance.bmi.describe()"
   ]
  },
  {
   "cell_type": "code",
   "execution_count": 21,
   "id": "1caddab0",
   "metadata": {
    "execution": {
     "iopub.execute_input": "2022-12-11T18:48:17.263070Z",
     "iopub.status.busy": "2022-12-11T18:48:17.262355Z",
     "iopub.status.idle": "2022-12-11T18:48:17.651870Z",
     "shell.execute_reply": "2022-12-11T18:48:17.650911Z"
    },
    "papermill": {
     "duration": 0.414561,
     "end_time": "2022-12-11T18:48:17.655564",
     "exception": false,
     "start_time": "2022-12-11T18:48:17.241003",
     "status": "completed"
    },
    "tags": []
   },
   "outputs": [
    {
     "data": {
      "image/png": "[encoded data removed]",
      "text/plain": [
       "<Figure size 1080x360 with 1 Axes>"
      ]
     },
     "metadata": {
      "needs_background": "light"
     },
     "output_type": "display_data"
    }
   ],
   "source": [
    "sns.scatterplot(data=insurance, x='bmi', y='expenses', hue='sex')\n",
    "plt.legend(bbox_to_anchor=(1.02, 1), loc='upper left', borderaxespad=0);"
   ]
  },
  {
   "cell_type": "code",
   "execution_count": 22,
   "id": "9b0a5268",
   "metadata": {
    "execution": {
     "iopub.execute_input": "2022-12-11T18:48:17.701157Z",
     "iopub.status.busy": "2022-12-11T18:48:17.700552Z",
     "iopub.status.idle": "2022-12-11T18:48:18.069555Z",
     "shell.execute_reply": "2022-12-11T18:48:18.068029Z"
    },
    "papermill": {
     "duration": 0.395473,
     "end_time": "2022-12-11T18:48:18.072238",
     "exception": false,
     "start_time": "2022-12-11T18:48:17.676765",
     "status": "completed"
    },
    "tags": []
   },
   "outputs": [
    {
     "data": {
      "image/png": "[encoded data removed]",
      "text/plain": [
       "<Figure size 1080x360 with 1 Axes>"
      ]
     },
     "metadata": {
      "needs_background": "light"
     },
     "output_type": "display_data"
    }
   ],
   "source": [
    "sns.histplot(data=insurance, x='bmi', bins=50, kde=True);"
   ]
  },
  {
   "cell_type": "code",
   "execution_count": 23,
   "id": "72c8843a",
   "metadata": {
    "execution": {
     "iopub.execute_input": "2022-12-11T18:48:18.116400Z",
     "iopub.status.busy": "2022-12-11T18:48:18.116032Z",
     "iopub.status.idle": "2022-12-11T18:48:18.127632Z",
     "shell.execute_reply": "2022-12-11T18:48:18.126655Z"
    },
    "papermill": {
     "duration": 0.03688,
     "end_time": "2022-12-11T18:48:18.130122",
     "exception": false,
     "start_time": "2022-12-11T18:48:18.093242",
     "status": "completed"
    },
    "tags": []
   },
   "outputs": [
    {
     "data": {
      "text/plain": [
       "count    1337.000000\n",
       "mean        1.095737\n",
       "std         1.205571\n",
       "min         0.000000\n",
       "25%         0.000000\n",
       "50%         1.000000\n",
       "75%         2.000000\n",
       "max         5.000000\n",
       "Name: children, dtype: float64"
      ]
     },
     "execution_count": 23,
     "metadata": {},
     "output_type": "execute_result"
    }
   ],
   "source": [
    "insurance.children.describe()"
   ]
  },
  {
   "cell_type": "code",
   "execution_count": 24,
   "id": "8986e1bb",
   "metadata": {
    "execution": {
     "iopub.execute_input": "2022-12-11T18:48:18.177269Z",
     "iopub.status.busy": "2022-12-11T18:48:18.176515Z",
     "iopub.status.idle": "2022-12-11T18:48:18.446369Z",
     "shell.execute_reply": "2022-12-11T18:48:18.444920Z"
    },
    "papermill": {
     "duration": 0.295989,
     "end_time": "2022-12-11T18:48:18.448565",
     "exception": false,
     "start_time": "2022-12-11T18:48:18.152576",
     "status": "completed"
    },
    "tags": []
   },
   "outputs": [
    {
     "data": {
      "image/png": "[encoded data removed]",
      "text/plain": [
       "<Figure size 1080x360 with 1 Axes>"
      ]
     },
     "metadata": {
      "needs_background": "light"
     },
     "output_type": "display_data"
    }
   ],
   "source": [
    "sns.boxplot(data=insurance, x='children', y='expenses');"
   ]
  },
  {
   "cell_type": "code",
   "execution_count": 25,
   "id": "795459b1",
   "metadata": {
    "execution": {
     "iopub.execute_input": "2022-12-11T18:48:18.493881Z",
     "iopub.status.busy": "2022-12-11T18:48:18.493481Z",
     "iopub.status.idle": "2022-12-11T18:48:18.503757Z",
     "shell.execute_reply": "2022-12-11T18:48:18.502381Z"
    },
    "papermill": {
     "duration": 0.035994,
     "end_time": "2022-12-11T18:48:18.506747",
     "exception": false,
     "start_time": "2022-12-11T18:48:18.470753",
     "status": "completed"
    },
    "tags": []
   },
   "outputs": [
    {
     "data": {
      "text/plain": [
       "children\n",
       "0    12384.695515\n",
       "1    12731.171821\n",
       "2    15073.564000\n",
       "3    15355.318535\n",
       "4    13850.656800\n",
       "5     8786.035556\n",
       "Name: expenses, dtype: float64"
      ]
     },
     "execution_count": 25,
     "metadata": {},
     "output_type": "execute_result"
    }
   ],
   "source": [
    "insurance.groupby('children')['expenses'].mean()"
   ]
  },
  {
   "cell_type": "code",
   "execution_count": 26,
   "id": "99f48fd0",
   "metadata": {
    "execution": {
     "iopub.execute_input": "2022-12-11T18:48:18.554615Z",
     "iopub.status.busy": "2022-12-11T18:48:18.554247Z",
     "iopub.status.idle": "2022-12-11T18:48:18.564615Z",
     "shell.execute_reply": "2022-12-11T18:48:18.562884Z"
    },
    "papermill": {
     "duration": 0.03707,
     "end_time": "2022-12-11T18:48:18.566993",
     "exception": false,
     "start_time": "2022-12-11T18:48:18.529923",
     "status": "completed"
    },
    "tags": []
   },
   "outputs": [
    {
     "data": {
      "text/plain": [
       "no     1063\n",
       "yes     274\n",
       "Name: smoker, dtype: int64"
      ]
     },
     "execution_count": 26,
     "metadata": {},
     "output_type": "execute_result"
    }
   ],
   "source": [
    "insurance.smoker.value_counts()"
   ]
  },
  {
   "cell_type": "code",
   "execution_count": 27,
   "id": "665d47c2",
   "metadata": {
    "execution": {
     "iopub.execute_input": "2022-12-11T18:48:18.615257Z",
     "iopub.status.busy": "2022-12-11T18:48:18.614811Z",
     "iopub.status.idle": "2022-12-11T18:48:18.796322Z",
     "shell.execute_reply": "2022-12-11T18:48:18.794872Z"
    },
    "papermill": {
     "duration": 0.209034,
     "end_time": "2022-12-11T18:48:18.799072",
     "exception": false,
     "start_time": "2022-12-11T18:48:18.590038",
     "status": "completed"
    },
    "tags": []
   },
   "outputs": [
    {
     "data": {
      "image/png": "[encoded data removed]",
      "text/plain": [
       "<Figure size 1080x360 with 1 Axes>"
      ]
     },
     "metadata": {
      "needs_background": "light"
     },
     "output_type": "display_data"
    }
   ],
   "source": [
    "sns.boxplot(data=insurance, x='smoker', y='expenses');"
   ]
  },
  {
   "cell_type": "code",
   "execution_count": 28,
   "id": "8dd56e7a",
   "metadata": {
    "execution": {
     "iopub.execute_input": "2022-12-11T18:48:18.849009Z",
     "iopub.status.busy": "2022-12-11T18:48:18.848532Z",
     "iopub.status.idle": "2022-12-11T18:48:18.859237Z",
     "shell.execute_reply": "2022-12-11T18:48:18.858029Z"
    },
    "papermill": {
     "duration": 0.038188,
     "end_time": "2022-12-11T18:48:18.862064",
     "exception": false,
     "start_time": "2022-12-11T18:48:18.823876",
     "status": "completed"
    },
    "tags": []
   },
   "outputs": [
    {
     "data": {
      "text/plain": [
       "count      274.000000\n",
       "mean     32050.231971\n",
       "std      11541.547338\n",
       "min      12829.460000\n",
       "25%      20826.245000\n",
       "50%      34456.350000\n",
       "75%      41019.205000\n",
       "max      63770.430000\n",
       "Name: expenses, dtype: float64"
      ]
     },
     "execution_count": 28,
     "metadata": {},
     "output_type": "execute_result"
    }
   ],
   "source": [
    "insurance[insurance.smoker=='yes'].expenses.describe()"
   ]
  },
  {
   "cell_type": "code",
   "execution_count": 29,
   "id": "bfa3f14d",
   "metadata": {
    "execution": {
     "iopub.execute_input": "2022-12-11T18:48:18.910607Z",
     "iopub.status.busy": "2022-12-11T18:48:18.910128Z",
     "iopub.status.idle": "2022-12-11T18:48:18.923031Z",
     "shell.execute_reply": "2022-12-11T18:48:18.921527Z"
    },
    "papermill": {
     "duration": 0.040367,
     "end_time": "2022-12-11T18:48:18.926071",
     "exception": false,
     "start_time": "2022-12-11T18:48:18.885704",
     "status": "completed"
    },
    "tags": []
   },
   "outputs": [
    {
     "data": {
      "text/plain": [
       "count     1063.000000\n",
       "mean      8440.660461\n",
       "std       5992.973734\n",
       "min       1121.870000\n",
       "25%       3988.885000\n",
       "50%       7345.730000\n",
       "75%      11363.020000\n",
       "max      36910.610000\n",
       "Name: expenses, dtype: float64"
      ]
     },
     "execution_count": 29,
     "metadata": {},
     "output_type": "execute_result"
    }
   ],
   "source": [
    "insurance[insurance.smoker=='no'].expenses.describe()"
   ]
  },
  {
   "cell_type": "code",
   "execution_count": 30,
   "id": "ad7400d8",
   "metadata": {
    "execution": {
     "iopub.execute_input": "2022-12-11T18:48:18.975899Z",
     "iopub.status.busy": "2022-12-11T18:48:18.975467Z",
     "iopub.status.idle": "2022-12-11T18:48:18.986564Z",
     "shell.execute_reply": "2022-12-11T18:48:18.984978Z"
    },
    "papermill": {
     "duration": 0.038976,
     "end_time": "2022-12-11T18:48:18.989063",
     "exception": false,
     "start_time": "2022-12-11T18:48:18.950087",
     "status": "completed"
    },
    "tags": []
   },
   "outputs": [
    {
     "data": {
      "text/plain": [
       "smoker\n",
       "no      8440.660461\n",
       "yes    32050.231971\n",
       "Name: expenses, dtype: float64"
      ]
     },
     "execution_count": 30,
     "metadata": {},
     "output_type": "execute_result"
    }
   ],
   "source": [
    "insurance.groupby('smoker')['expenses'].mean()"
   ]
  },
  {
   "cell_type": "code",
   "execution_count": 31,
   "id": "c2faa6dc",
   "metadata": {
    "execution": {
     "iopub.execute_input": "2022-12-11T18:48:19.038022Z",
     "iopub.status.busy": "2022-12-11T18:48:19.037561Z",
     "iopub.status.idle": "2022-12-11T18:48:19.047540Z",
     "shell.execute_reply": "2022-12-11T18:48:19.045855Z"
    },
    "papermill": {
     "duration": 0.035974,
     "end_time": "2022-12-11T18:48:19.049585",
     "exception": false,
     "start_time": "2022-12-11T18:48:19.013611",
     "status": "completed"
    },
    "tags": []
   },
   "outputs": [
    {
     "data": {
      "text/plain": [
       "southeast    364\n",
       "southwest    325\n",
       "northwest    324\n",
       "northeast    324\n",
       "Name: region, dtype: int64"
      ]
     },
     "execution_count": 31,
     "metadata": {},
     "output_type": "execute_result"
    }
   ],
   "source": [
    "insurance.region.value_counts()"
   ]
  },
  {
   "cell_type": "code",
   "execution_count": 32,
   "id": "73b6008a",
   "metadata": {
    "execution": {
     "iopub.execute_input": "2022-12-11T18:48:19.099623Z",
     "iopub.status.busy": "2022-12-11T18:48:19.099189Z",
     "iopub.status.idle": "2022-12-11T18:48:19.310777Z",
     "shell.execute_reply": "2022-12-11T18:48:19.309785Z"
    },
    "papermill": {
     "duration": 0.239416,
     "end_time": "2022-12-11T18:48:19.313513",
     "exception": false,
     "start_time": "2022-12-11T18:48:19.074097",
     "status": "completed"
    },
    "tags": []
   },
   "outputs": [
    {
     "data": {
      "image/png": "[encoded data removed]",
      "text/plain": [
       "<Figure size 1080x360 with 1 Axes>"
      ]
     },
     "metadata": {
      "needs_background": "light"
     },
     "output_type": "display_data"
    }
   ],
   "source": [
    "sns.boxplot(data=insurance, x='region', y='expenses');"
   ]
  },
  {
   "cell_type": "code",
   "execution_count": 33,
   "id": "7fcf1ea7",
   "metadata": {
    "execution": {
     "iopub.execute_input": "2022-12-11T18:48:19.365487Z",
     "iopub.status.busy": "2022-12-11T18:48:19.364879Z",
     "iopub.status.idle": "2022-12-11T18:48:19.372397Z",
     "shell.execute_reply": "2022-12-11T18:48:19.370916Z"
    },
    "papermill": {
     "duration": 0.037632,
     "end_time": "2022-12-11T18:48:19.374612",
     "exception": false,
     "start_time": "2022-12-11T18:48:19.336980",
     "status": "completed"
    },
    "tags": []
   },
   "outputs": [],
   "source": [
    "input_df = insurance.drop(columns='expenses')\n",
    "target_df = insurance.expenses"
   ]
  },
  {
   "cell_type": "code",
   "execution_count": 34,
   "id": "dcdeee21",
   "metadata": {
    "execution": {
     "iopub.execute_input": "2022-12-11T18:48:19.423422Z",
     "iopub.status.busy": "2022-12-11T18:48:19.422983Z",
     "iopub.status.idle": "2022-12-11T18:48:19.442596Z",
     "shell.execute_reply": "2022-12-11T18:48:19.441229Z"
    },
    "papermill": {
     "duration": 0.046655,
     "end_time": "2022-12-11T18:48:19.445430",
     "exception": false,
     "start_time": "2022-12-11T18:48:19.398775",
     "status": "completed"
    },
    "tags": []
   },
   "outputs": [
    {
     "data": {
      "text/html": [
       "<div>\n",
       "<style scoped>\n",
       "    .dataframe tbody tr th:only-of-type {\n",
       "        vertical-align: middle;\n",
       "    }\n",
       "\n",
       "    .dataframe tbody tr th {\n",
       "        vertical-align: top;\n",
       "    }\n",
       "\n",
       "    .dataframe thead th {\n",
       "        text-align: right;\n",
       "    }\n",
       "</style>\n",
       "<table border=\"1\" class=\"dataframe\">\n",
       "  <thead>\n",
       "    <tr style=\"text-align: right;\">\n",
       "      <th></th>\n",
       "      <th>age</th>\n",
       "      <th>sex</th>\n",
       "      <th>bmi</th>\n",
       "      <th>children</th>\n",
       "      <th>smoker</th>\n",
       "      <th>region</th>\n",
       "    </tr>\n",
       "  </thead>\n",
       "  <tbody>\n",
       "    <tr>\n",
       "      <th>0</th>\n",
       "      <td>19</td>\n",
       "      <td>female</td>\n",
       "      <td>27.9</td>\n",
       "      <td>0</td>\n",
       "      <td>yes</td>\n",
       "      <td>southwest</td>\n",
       "    </tr>\n",
       "    <tr>\n",
       "      <th>1</th>\n",
       "      <td>18</td>\n",
       "      <td>male</td>\n",
       "      <td>33.8</td>\n",
       "      <td>1</td>\n",
       "      <td>no</td>\n",
       "      <td>southeast</td>\n",
       "    </tr>\n",
       "    <tr>\n",
       "      <th>2</th>\n",
       "      <td>28</td>\n",
       "      <td>male</td>\n",
       "      <td>33.0</td>\n",
       "      <td>3</td>\n",
       "      <td>no</td>\n",
       "      <td>southeast</td>\n",
       "    </tr>\n",
       "    <tr>\n",
       "      <th>3</th>\n",
       "      <td>33</td>\n",
       "      <td>male</td>\n",
       "      <td>22.7</td>\n",
       "      <td>0</td>\n",
       "      <td>no</td>\n",
       "      <td>northwest</td>\n",
       "    </tr>\n",
       "    <tr>\n",
       "      <th>4</th>\n",
       "      <td>32</td>\n",
       "      <td>male</td>\n",
       "      <td>28.9</td>\n",
       "      <td>0</td>\n",
       "      <td>no</td>\n",
       "      <td>northwest</td>\n",
       "    </tr>\n",
       "    <tr>\n",
       "      <th>...</th>\n",
       "      <td>...</td>\n",
       "      <td>...</td>\n",
       "      <td>...</td>\n",
       "      <td>...</td>\n",
       "      <td>...</td>\n",
       "      <td>...</td>\n",
       "    </tr>\n",
       "    <tr>\n",
       "      <th>1333</th>\n",
       "      <td>50</td>\n",
       "      <td>male</td>\n",
       "      <td>31.0</td>\n",
       "      <td>3</td>\n",
       "      <td>no</td>\n",
       "      <td>northwest</td>\n",
       "    </tr>\n",
       "    <tr>\n",
       "      <th>1334</th>\n",
       "      <td>18</td>\n",
       "      <td>female</td>\n",
       "      <td>31.9</td>\n",
       "      <td>0</td>\n",
       "      <td>no</td>\n",
       "      <td>northeast</td>\n",
       "    </tr>\n",
       "    <tr>\n",
       "      <th>1335</th>\n",
       "      <td>18</td>\n",
       "      <td>female</td>\n",
       "      <td>36.9</td>\n",
       "      <td>0</td>\n",
       "      <td>no</td>\n",
       "      <td>southeast</td>\n",
       "    </tr>\n",
       "    <tr>\n",
       "      <th>1336</th>\n",
       "      <td>21</td>\n",
       "      <td>female</td>\n",
       "      <td>25.8</td>\n",
       "      <td>0</td>\n",
       "      <td>no</td>\n",
       "      <td>southwest</td>\n",
       "    </tr>\n",
       "    <tr>\n",
       "      <th>1337</th>\n",
       "      <td>61</td>\n",
       "      <td>female</td>\n",
       "      <td>29.1</td>\n",
       "      <td>0</td>\n",
       "      <td>yes</td>\n",
       "      <td>northwest</td>\n",
       "    </tr>\n",
       "  </tbody>\n",
       "</table>\n",
       "<p>1337 rows × 6 columns</p>\n",
       "</div>"
      ],
      "text/plain": [
       "      age     sex   bmi  children smoker     region\n",
       "0      19  female  27.9         0    yes  southwest\n",
       "1      18    male  33.8         1     no  southeast\n",
       "2      28    male  33.0         3     no  southeast\n",
       "3      33    male  22.7         0     no  northwest\n",
       "4      32    male  28.9         0     no  northwest\n",
       "...   ...     ...   ...       ...    ...        ...\n",
       "1333   50    male  31.0         3     no  northwest\n",
       "1334   18  female  31.9         0     no  northeast\n",
       "1335   18  female  36.9         0     no  southeast\n",
       "1336   21  female  25.8         0     no  southwest\n",
       "1337   61  female  29.1         0    yes  northwest\n",
       "\n",
       "[1337 rows x 6 columns]"
      ]
     },
     "execution_count": 34,
     "metadata": {},
     "output_type": "execute_result"
    }
   ],
   "source": [
    "input_df"
   ]
  },
  {
   "cell_type": "code",
   "execution_count": 35,
   "id": "a408424b",
   "metadata": {
    "execution": {
     "iopub.execute_input": "2022-12-11T18:48:19.496170Z",
     "iopub.status.busy": "2022-12-11T18:48:19.495759Z",
     "iopub.status.idle": "2022-12-11T18:48:19.505186Z",
     "shell.execute_reply": "2022-12-11T18:48:19.504214Z"
    },
    "papermill": {
     "duration": 0.037398,
     "end_time": "2022-12-11T18:48:19.507214",
     "exception": false,
     "start_time": "2022-12-11T18:48:19.469816",
     "status": "completed"
    },
    "tags": []
   },
   "outputs": [
    {
     "data": {
      "text/plain": [
       "0       16884.92\n",
       "1        1725.55\n",
       "2        4449.46\n",
       "3       21984.47\n",
       "4        3866.86\n",
       "          ...   \n",
       "1333    10600.55\n",
       "1334     2205.98\n",
       "1335     1629.83\n",
       "1336     2007.95\n",
       "1337    29141.36\n",
       "Name: expenses, Length: 1337, dtype: float64"
      ]
     },
     "execution_count": 35,
     "metadata": {},
     "output_type": "execute_result"
    }
   ],
   "source": [
    "target_df"
   ]
  },
  {
   "cell_type": "code",
   "execution_count": 36,
   "id": "9181362b",
   "metadata": {
    "execution": {
     "iopub.execute_input": "2022-12-11T18:48:19.558984Z",
     "iopub.status.busy": "2022-12-11T18:48:19.557657Z",
     "iopub.status.idle": "2022-12-11T18:48:19.565198Z",
     "shell.execute_reply": "2022-12-11T18:48:19.564124Z"
    },
    "papermill": {
     "duration": 0.03566,
     "end_time": "2022-12-11T18:48:19.567690",
     "exception": false,
     "start_time": "2022-12-11T18:48:19.532030",
     "status": "completed"
    },
    "tags": []
   },
   "outputs": [],
   "source": [
    "def bmi_estimator(column):\n",
    "    if column < 18.5:\n",
    "        return 'underweight'\n",
    "    elif (column >= 18.5) and (column<=24.9):\n",
    "        return 'healthy weight'\n",
    "    elif (column>=25) and (column<=29.9):\n",
    "        return 'overweight'\n",
    "    else:\n",
    "        return 'obese'"
   ]
  },
  {
   "cell_type": "code",
   "execution_count": 37,
   "id": "2fb7a08e",
   "metadata": {
    "execution": {
     "iopub.execute_input": "2022-12-11T18:48:19.620160Z",
     "iopub.status.busy": "2022-12-11T18:48:19.618654Z",
     "iopub.status.idle": "2022-12-11T18:48:19.638221Z",
     "shell.execute_reply": "2022-12-11T18:48:19.637122Z"
    },
    "papermill": {
     "duration": 0.048806,
     "end_time": "2022-12-11T18:48:19.640979",
     "exception": false,
     "start_time": "2022-12-11T18:48:19.592173",
     "status": "completed"
    },
    "tags": []
   },
   "outputs": [
    {
     "data": {
      "text/html": [
       "<div>\n",
       "<style scoped>\n",
       "    .dataframe tbody tr th:only-of-type {\n",
       "        vertical-align: middle;\n",
       "    }\n",
       "\n",
       "    .dataframe tbody tr th {\n",
       "        vertical-align: top;\n",
       "    }\n",
       "\n",
       "    .dataframe thead th {\n",
       "        text-align: right;\n",
       "    }\n",
       "</style>\n",
       "<table border=\"1\" class=\"dataframe\">\n",
       "  <thead>\n",
       "    <tr style=\"text-align: right;\">\n",
       "      <th></th>\n",
       "      <th>age</th>\n",
       "      <th>sex</th>\n",
       "      <th>bmi</th>\n",
       "      <th>children</th>\n",
       "      <th>smoker</th>\n",
       "      <th>region</th>\n",
       "      <th>bmi_class</th>\n",
       "    </tr>\n",
       "  </thead>\n",
       "  <tbody>\n",
       "    <tr>\n",
       "      <th>0</th>\n",
       "      <td>19</td>\n",
       "      <td>female</td>\n",
       "      <td>27.9</td>\n",
       "      <td>0</td>\n",
       "      <td>yes</td>\n",
       "      <td>southwest</td>\n",
       "      <td>overweight</td>\n",
       "    </tr>\n",
       "    <tr>\n",
       "      <th>1</th>\n",
       "      <td>18</td>\n",
       "      <td>male</td>\n",
       "      <td>33.8</td>\n",
       "      <td>1</td>\n",
       "      <td>no</td>\n",
       "      <td>southeast</td>\n",
       "      <td>obese</td>\n",
       "    </tr>\n",
       "    <tr>\n",
       "      <th>2</th>\n",
       "      <td>28</td>\n",
       "      <td>male</td>\n",
       "      <td>33.0</td>\n",
       "      <td>3</td>\n",
       "      <td>no</td>\n",
       "      <td>southeast</td>\n",
       "      <td>obese</td>\n",
       "    </tr>\n",
       "    <tr>\n",
       "      <th>3</th>\n",
       "      <td>33</td>\n",
       "      <td>male</td>\n",
       "      <td>22.7</td>\n",
       "      <td>0</td>\n",
       "      <td>no</td>\n",
       "      <td>northwest</td>\n",
       "      <td>healthy weight</td>\n",
       "    </tr>\n",
       "    <tr>\n",
       "      <th>4</th>\n",
       "      <td>32</td>\n",
       "      <td>male</td>\n",
       "      <td>28.9</td>\n",
       "      <td>0</td>\n",
       "      <td>no</td>\n",
       "      <td>northwest</td>\n",
       "      <td>overweight</td>\n",
       "    </tr>\n",
       "    <tr>\n",
       "      <th>...</th>\n",
       "      <td>...</td>\n",
       "      <td>...</td>\n",
       "      <td>...</td>\n",
       "      <td>...</td>\n",
       "      <td>...</td>\n",
       "      <td>...</td>\n",
       "      <td>...</td>\n",
       "    </tr>\n",
       "    <tr>\n",
       "      <th>1333</th>\n",
       "      <td>50</td>\n",
       "      <td>male</td>\n",
       "      <td>31.0</td>\n",
       "      <td>3</td>\n",
       "      <td>no</td>\n",
       "      <td>northwest</td>\n",
       "      <td>obese</td>\n",
       "    </tr>\n",
       "    <tr>\n",
       "      <th>1334</th>\n",
       "      <td>18</td>\n",
       "      <td>female</td>\n",
       "      <td>31.9</td>\n",
       "      <td>0</td>\n",
       "      <td>no</td>\n",
       "      <td>northeast</td>\n",
       "      <td>obese</td>\n",
       "    </tr>\n",
       "    <tr>\n",
       "      <th>1335</th>\n",
       "      <td>18</td>\n",
       "      <td>female</td>\n",
       "      <td>36.9</td>\n",
       "      <td>0</td>\n",
       "      <td>no</td>\n",
       "      <td>southeast</td>\n",
       "      <td>obese</td>\n",
       "    </tr>\n",
       "    <tr>\n",
       "      <th>1336</th>\n",
       "      <td>21</td>\n",
       "      <td>female</td>\n",
       "      <td>25.8</td>\n",
       "      <td>0</td>\n",
       "      <td>no</td>\n",
       "      <td>southwest</td>\n",
       "      <td>overweight</td>\n",
       "    </tr>\n",
       "    <tr>\n",
       "      <th>1337</th>\n",
       "      <td>61</td>\n",
       "      <td>female</td>\n",
       "      <td>29.1</td>\n",
       "      <td>0</td>\n",
       "      <td>yes</td>\n",
       "      <td>northwest</td>\n",
       "      <td>overweight</td>\n",
       "    </tr>\n",
       "  </tbody>\n",
       "</table>\n",
       "<p>1337 rows × 7 columns</p>\n",
       "</div>"
      ],
      "text/plain": [
       "      age     sex   bmi  children smoker     region       bmi_class\n",
       "0      19  female  27.9         0    yes  southwest      overweight\n",
       "1      18    male  33.8         1     no  southeast           obese\n",
       "2      28    male  33.0         3     no  southeast           obese\n",
       "3      33    male  22.7         0     no  northwest  healthy weight\n",
       "4      32    male  28.9         0     no  northwest      overweight\n",
       "...   ...     ...   ...       ...    ...        ...             ...\n",
       "1333   50    male  31.0         3     no  northwest           obese\n",
       "1334   18  female  31.9         0     no  northeast           obese\n",
       "1335   18  female  36.9         0     no  southeast           obese\n",
       "1336   21  female  25.8         0     no  southwest      overweight\n",
       "1337   61  female  29.1         0    yes  northwest      overweight\n",
       "\n",
       "[1337 rows x 7 columns]"
      ]
     },
     "execution_count": 37,
     "metadata": {},
     "output_type": "execute_result"
    }
   ],
   "source": [
    "input_df['bmi_class']=input_df.bmi.map(bmi_estimator)\n",
    "input_df"
   ]
  },
  {
   "cell_type": "code",
   "execution_count": 38,
   "id": "0b23c916",
   "metadata": {
    "execution": {
     "iopub.execute_input": "2022-12-11T18:48:19.694070Z",
     "iopub.status.busy": "2022-12-11T18:48:19.693429Z",
     "iopub.status.idle": "2022-12-11T18:48:19.701448Z",
     "shell.execute_reply": "2022-12-11T18:48:19.700075Z"
    },
    "papermill": {
     "duration": 0.037857,
     "end_time": "2022-12-11T18:48:19.703969",
     "exception": false,
     "start_time": "2022-12-11T18:48:19.666112",
     "status": "completed"
    },
    "tags": []
   },
   "outputs": [],
   "source": [
    "sex_dict = {'male':0, 'female':1}\n",
    "smoker_dict = {'no':0, 'yes':1}\n",
    "\n",
    "input_df['sex'] = input_df.sex.map(sex_dict)\n",
    "input_df['smoker'] = input_df.smoker.map(smoker_dict)"
   ]
  },
  {
   "cell_type": "code",
   "execution_count": 39,
   "id": "8f67e146",
   "metadata": {
    "execution": {
     "iopub.execute_input": "2022-12-11T18:48:19.757034Z",
     "iopub.status.busy": "2022-12-11T18:48:19.756415Z",
     "iopub.status.idle": "2022-12-11T18:48:19.760494Z",
     "shell.execute_reply": "2022-12-11T18:48:19.759768Z"
    },
    "papermill": {
     "duration": 0.032543,
     "end_time": "2022-12-11T18:48:19.762275",
     "exception": false,
     "start_time": "2022-12-11T18:48:19.729732",
     "status": "completed"
    },
    "tags": []
   },
   "outputs": [],
   "source": [
    "columns_to_encode = ['region', 'bmi_class']"
   ]
  },
  {
   "cell_type": "code",
   "execution_count": 40,
   "id": "b7b35eb5",
   "metadata": {
    "execution": {
     "iopub.execute_input": "2022-12-11T18:48:19.812778Z",
     "iopub.status.busy": "2022-12-11T18:48:19.812185Z",
     "iopub.status.idle": "2022-12-11T18:48:19.997005Z",
     "shell.execute_reply": "2022-12-11T18:48:19.995730Z"
    },
    "papermill": {
     "duration": 0.212959,
     "end_time": "2022-12-11T18:48:19.999743",
     "exception": false,
     "start_time": "2022-12-11T18:48:19.786784",
     "status": "completed"
    },
    "tags": []
   },
   "outputs": [],
   "source": [
    "from sklearn.preprocessing import OneHotEncoder\n",
    "\n",
    "encoder = OneHotEncoder(sparse=False, handle_unknown='ignore').fit(input_df[columns_to_encode])\n",
    "\n",
    "encoded_cols = list(encoder.get_feature_names_out(columns_to_encode))\n",
    "\n",
    "input_df[encoded_cols] = encoder.transform(input_df[columns_to_encode])"
   ]
  },
  {
   "cell_type": "code",
   "execution_count": 41,
   "id": "0ac4afcc",
   "metadata": {
    "execution": {
     "iopub.execute_input": "2022-12-11T18:48:20.054656Z",
     "iopub.status.busy": "2022-12-11T18:48:20.053802Z",
     "iopub.status.idle": "2022-12-11T18:48:20.082208Z",
     "shell.execute_reply": "2022-12-11T18:48:20.080852Z"
    },
    "papermill": {
     "duration": 0.06057,
     "end_time": "2022-12-11T18:48:20.085002",
     "exception": false,
     "start_time": "2022-12-11T18:48:20.024432",
     "status": "completed"
    },
    "tags": []
   },
   "outputs": [
    {
     "data": {
      "text/html": [
       "<div>\n",
       "<style scoped>\n",
       "    .dataframe tbody tr th:only-of-type {\n",
       "        vertical-align: middle;\n",
       "    }\n",
       "\n",
       "    .dataframe tbody tr th {\n",
       "        vertical-align: top;\n",
       "    }\n",
       "\n",
       "    .dataframe thead th {\n",
       "        text-align: right;\n",
       "    }\n",
       "</style>\n",
       "<table border=\"1\" class=\"dataframe\">\n",
       "  <thead>\n",
       "    <tr style=\"text-align: right;\">\n",
       "      <th></th>\n",
       "      <th>age</th>\n",
       "      <th>sex</th>\n",
       "      <th>bmi</th>\n",
       "      <th>children</th>\n",
       "      <th>smoker</th>\n",
       "      <th>bmi_class</th>\n",
       "      <th>region_northeast</th>\n",
       "      <th>region_northwest</th>\n",
       "      <th>region_southeast</th>\n",
       "      <th>region_southwest</th>\n",
       "      <th>bmi_class_healthy weight</th>\n",
       "      <th>bmi_class_obese</th>\n",
       "      <th>bmi_class_overweight</th>\n",
       "      <th>bmi_class_underweight</th>\n",
       "    </tr>\n",
       "  </thead>\n",
       "  <tbody>\n",
       "    <tr>\n",
       "      <th>0</th>\n",
       "      <td>19</td>\n",
       "      <td>1</td>\n",
       "      <td>27.9</td>\n",
       "      <td>0</td>\n",
       "      <td>1</td>\n",
       "      <td>overweight</td>\n",
       "      <td>0.0</td>\n",
       "      <td>0.0</td>\n",
       "      <td>0.0</td>\n",
       "      <td>1.0</td>\n",
       "      <td>0.0</td>\n",
       "      <td>0.0</td>\n",
       "      <td>1.0</td>\n",
       "      <td>0.0</td>\n",
       "    </tr>\n",
       "    <tr>\n",
       "      <th>1</th>\n",
       "      <td>18</td>\n",
       "      <td>0</td>\n",
       "      <td>33.8</td>\n",
       "      <td>1</td>\n",
       "      <td>0</td>\n",
       "      <td>obese</td>\n",
       "      <td>0.0</td>\n",
       "      <td>0.0</td>\n",
       "      <td>1.0</td>\n",
       "      <td>0.0</td>\n",
       "      <td>0.0</td>\n",
       "      <td>1.0</td>\n",
       "      <td>0.0</td>\n",
       "      <td>0.0</td>\n",
       "    </tr>\n",
       "    <tr>\n",
       "      <th>2</th>\n",
       "      <td>28</td>\n",
       "      <td>0</td>\n",
       "      <td>33.0</td>\n",
       "      <td>3</td>\n",
       "      <td>0</td>\n",
       "      <td>obese</td>\n",
       "      <td>0.0</td>\n",
       "      <td>0.0</td>\n",
       "      <td>1.0</td>\n",
       "      <td>0.0</td>\n",
       "      <td>0.0</td>\n",
       "      <td>1.0</td>\n",
       "      <td>0.0</td>\n",
       "      <td>0.0</td>\n",
       "    </tr>\n",
       "    <tr>\n",
       "      <th>3</th>\n",
       "      <td>33</td>\n",
       "      <td>0</td>\n",
       "      <td>22.7</td>\n",
       "      <td>0</td>\n",
       "      <td>0</td>\n",
       "      <td>healthy weight</td>\n",
       "      <td>0.0</td>\n",
       "      <td>1.0</td>\n",
       "      <td>0.0</td>\n",
       "      <td>0.0</td>\n",
       "      <td>1.0</td>\n",
       "      <td>0.0</td>\n",
       "      <td>0.0</td>\n",
       "      <td>0.0</td>\n",
       "    </tr>\n",
       "    <tr>\n",
       "      <th>4</th>\n",
       "      <td>32</td>\n",
       "      <td>0</td>\n",
       "      <td>28.9</td>\n",
       "      <td>0</td>\n",
       "      <td>0</td>\n",
       "      <td>overweight</td>\n",
       "      <td>0.0</td>\n",
       "      <td>1.0</td>\n",
       "      <td>0.0</td>\n",
       "      <td>0.0</td>\n",
       "      <td>0.0</td>\n",
       "      <td>0.0</td>\n",
       "      <td>1.0</td>\n",
       "      <td>0.0</td>\n",
       "    </tr>\n",
       "    <tr>\n",
       "      <th>...</th>\n",
       "      <td>...</td>\n",
       "      <td>...</td>\n",
       "      <td>...</td>\n",
       "      <td>...</td>\n",
       "      <td>...</td>\n",
       "      <td>...</td>\n",
       "      <td>...</td>\n",
       "      <td>...</td>\n",
       "      <td>...</td>\n",
       "      <td>...</td>\n",
       "      <td>...</td>\n",
       "      <td>...</td>\n",
       "      <td>...</td>\n",
       "      <td>...</td>\n",
       "    </tr>\n",
       "    <tr>\n",
       "      <th>1333</th>\n",
       "      <td>50</td>\n",
       "      <td>0</td>\n",
       "      <td>31.0</td>\n",
       "      <td>3</td>\n",
       "      <td>0</td>\n",
       "      <td>obese</td>\n",
       "      <td>0.0</td>\n",
       "      <td>1.0</td>\n",
       "      <td>0.0</td>\n",
       "      <td>0.0</td>\n",
       "      <td>0.0</td>\n",
       "      <td>1.0</td>\n",
       "      <td>0.0</td>\n",
       "      <td>0.0</td>\n",
       "    </tr>\n",
       "    <tr>\n",
       "      <th>1334</th>\n",
       "      <td>18</td>\n",
       "      <td>1</td>\n",
       "      <td>31.9</td>\n",
       "      <td>0</td>\n",
       "      <td>0</td>\n",
       "      <td>obese</td>\n",
       "      <td>1.0</td>\n",
       "      <td>0.0</td>\n",
       "      <td>0.0</td>\n",
       "      <td>0.0</td>\n",
       "      <td>0.0</td>\n",
       "      <td>1.0</td>\n",
       "      <td>0.0</td>\n",
       "      <td>0.0</td>\n",
       "    </tr>\n",
       "    <tr>\n",
       "      <th>1335</th>\n",
       "      <td>18</td>\n",
       "      <td>1</td>\n",
       "      <td>36.9</td>\n",
       "      <td>0</td>\n",
       "      <td>0</td>\n",
       "      <td>obese</td>\n",
       "      <td>0.0</td>\n",
       "      <td>0.0</td>\n",
       "      <td>1.0</td>\n",
       "      <td>0.0</td>\n",
       "      <td>0.0</td>\n",
       "      <td>1.0</td>\n",
       "      <td>0.0</td>\n",
       "      <td>0.0</td>\n",
       "    </tr>\n",
       "    <tr>\n",
       "      <th>1336</th>\n",
       "      <td>21</td>\n",
       "      <td>1</td>\n",
       "      <td>25.8</td>\n",
       "      <td>0</td>\n",
       "      <td>0</td>\n",
       "      <td>overweight</td>\n",
       "      <td>0.0</td>\n",
       "      <td>0.0</td>\n",
       "      <td>0.0</td>\n",
       "      <td>1.0</td>\n",
       "      <td>0.0</td>\n",
       "      <td>0.0</td>\n",
       "      <td>1.0</td>\n",
       "      <td>0.0</td>\n",
       "    </tr>\n",
       "    <tr>\n",
       "      <th>1337</th>\n",
       "      <td>61</td>\n",
       "      <td>1</td>\n",
       "      <td>29.1</td>\n",
       "      <td>0</td>\n",
       "      <td>1</td>\n",
       "      <td>overweight</td>\n",
       "      <td>0.0</td>\n",
       "      <td>1.0</td>\n",
       "      <td>0.0</td>\n",
       "      <td>0.0</td>\n",
       "      <td>0.0</td>\n",
       "      <td>0.0</td>\n",
       "      <td>1.0</td>\n",
       "      <td>0.0</td>\n",
       "    </tr>\n",
       "  </tbody>\n",
       "</table>\n",
       "<p>1337 rows × 14 columns</p>\n",
       "</div>"
      ],
      "text/plain": [
       "      age  sex   bmi  children  smoker       bmi_class  region_northeast  \\\n",
       "0      19    1  27.9         0       1      overweight               0.0   \n",
       "1      18    0  33.8         1       0           obese               0.0   \n",
       "2      28    0  33.0         3       0           obese               0.0   \n",
       "3      33    0  22.7         0       0  healthy weight               0.0   \n",
       "4      32    0  28.9         0       0      overweight               0.0   \n",
       "...   ...  ...   ...       ...     ...             ...               ...   \n",
       "1333   50    0  31.0         3       0           obese               0.0   \n",
       "1334   18    1  31.9         0       0           obese               1.0   \n",
       "1335   18    1  36.9         0       0           obese               0.0   \n",
       "1336   21    1  25.8         0       0      overweight               0.0   \n",
       "1337   61    1  29.1         0       1      overweight               0.0   \n",
       "\n",
       "      region_northwest  region_southeast  region_southwest  \\\n",
       "0                  0.0               0.0               1.0   \n",
       "1                  0.0               1.0               0.0   \n",
       "2                  0.0               1.0               0.0   \n",
       "3                  1.0               0.0               0.0   \n",
       "4                  1.0               0.0               0.0   \n",
       "...                ...               ...               ...   \n",
       "1333               1.0               0.0               0.0   \n",
       "1334               0.0               0.0               0.0   \n",
       "1335               0.0               1.0               0.0   \n",
       "1336               0.0               0.0               1.0   \n",
       "1337               1.0               0.0               0.0   \n",
       "\n",
       "      bmi_class_healthy weight  bmi_class_obese  bmi_class_overweight  \\\n",
       "0                          0.0              0.0                   1.0   \n",
       "1                          0.0              1.0                   0.0   \n",
       "2                          0.0              1.0                   0.0   \n",
       "3                          1.0              0.0                   0.0   \n",
       "4                          0.0              0.0                   1.0   \n",
       "...                        ...              ...                   ...   \n",
       "1333                       0.0              1.0                   0.0   \n",
       "1334                       0.0              1.0                   0.0   \n",
       "1335                       0.0              1.0                   0.0   \n",
       "1336                       0.0              0.0                   1.0   \n",
       "1337                       0.0              0.0                   1.0   \n",
       "\n",
       "      bmi_class_underweight  \n",
       "0                       0.0  \n",
       "1                       0.0  \n",
       "2                       0.0  \n",
       "3                       0.0  \n",
       "4                       0.0  \n",
       "...                     ...  \n",
       "1333                    0.0  \n",
       "1334                    0.0  \n",
       "1335                    0.0  \n",
       "1336                    0.0  \n",
       "1337                    0.0  \n",
       "\n",
       "[1337 rows x 14 columns]"
      ]
     },
     "execution_count": 41,
     "metadata": {},
     "output_type": "execute_result"
    }
   ],
   "source": [
    "input_df = input_df.drop(columns='region')\n",
    "input_df"
   ]
  },
  {
   "cell_type": "code",
   "execution_count": 42,
   "id": "93a3faad",
   "metadata": {
    "execution": {
     "iopub.execute_input": "2022-12-11T18:48:20.136716Z",
     "iopub.status.busy": "2022-12-11T18:48:20.136336Z",
     "iopub.status.idle": "2022-12-11T18:48:20.148678Z",
     "shell.execute_reply": "2022-12-11T18:48:20.147109Z"
    },
    "papermill": {
     "duration": 0.041662,
     "end_time": "2022-12-11T18:48:20.151884",
     "exception": false,
     "start_time": "2022-12-11T18:48:20.110222",
     "status": "completed"
    },
    "tags": []
   },
   "outputs": [
    {
     "data": {
      "text/html": [
       "<div>\n",
       "<style scoped>\n",
       "    .dataframe tbody tr th:only-of-type {\n",
       "        vertical-align: middle;\n",
       "    }\n",
       "\n",
       "    .dataframe tbody tr th {\n",
       "        vertical-align: top;\n",
       "    }\n",
       "\n",
       "    .dataframe thead th {\n",
       "        text-align: right;\n",
       "    }\n",
       "</style>\n",
       "<table border=\"1\" class=\"dataframe\">\n",
       "  <thead>\n",
       "    <tr style=\"text-align: right;\">\n",
       "      <th></th>\n",
       "      <th>age</th>\n",
       "      <th>bmi</th>\n",
       "      <th>children</th>\n",
       "    </tr>\n",
       "  </thead>\n",
       "  <tbody>\n",
       "    <tr>\n",
       "      <th>0</th>\n",
       "      <td>19</td>\n",
       "      <td>27.9</td>\n",
       "      <td>0</td>\n",
       "    </tr>\n",
       "    <tr>\n",
       "      <th>1</th>\n",
       "      <td>18</td>\n",
       "      <td>33.8</td>\n",
       "      <td>1</td>\n",
       "    </tr>\n",
       "    <tr>\n",
       "      <th>2</th>\n",
       "      <td>28</td>\n",
       "      <td>33.0</td>\n",
       "      <td>3</td>\n",
       "    </tr>\n",
       "    <tr>\n",
       "      <th>3</th>\n",
       "      <td>33</td>\n",
       "      <td>22.7</td>\n",
       "      <td>0</td>\n",
       "    </tr>\n",
       "    <tr>\n",
       "      <th>4</th>\n",
       "      <td>32</td>\n",
       "      <td>28.9</td>\n",
       "      <td>0</td>\n",
       "    </tr>\n",
       "  </tbody>\n",
       "</table>\n",
       "</div>"
      ],
      "text/plain": [
       "   age   bmi  children\n",
       "0   19  27.9         0\n",
       "1   18  33.8         1\n",
       "2   28  33.0         3\n",
       "3   33  22.7         0\n",
       "4   32  28.9         0"
      ]
     },
     "execution_count": 42,
     "metadata": {},
     "output_type": "execute_result"
    }
   ],
   "source": [
    "columns_to_scale = ['age','bmi','children']\n",
    "input_df[columns_to_scale].head()"
   ]
  },
  {
   "cell_type": "code",
   "execution_count": 43,
   "id": "c26a8eb2",
   "metadata": {
    "execution": {
     "iopub.execute_input": "2022-12-11T18:48:20.204924Z",
     "iopub.status.busy": "2022-12-11T18:48:20.204517Z",
     "iopub.status.idle": "2022-12-11T18:48:20.214651Z",
     "shell.execute_reply": "2022-12-11T18:48:20.213483Z"
    },
    "papermill": {
     "duration": 0.039116,
     "end_time": "2022-12-11T18:48:20.216593",
     "exception": false,
     "start_time": "2022-12-11T18:48:20.177477",
     "status": "completed"
    },
    "tags": []
   },
   "outputs": [],
   "source": [
    "from sklearn.preprocessing import MinMaxScaler\n",
    "\n",
    "scaler = MinMaxScaler().fit(input_df[columns_to_scale])\n",
    "\n",
    "input_df[columns_to_scale] = scaler.transform(input_df[columns_to_scale])"
   ]
  },
  {
   "cell_type": "code",
   "execution_count": 44,
   "id": "b5e30dc0",
   "metadata": {
    "execution": {
     "iopub.execute_input": "2022-12-11T18:48:20.268626Z",
     "iopub.status.busy": "2022-12-11T18:48:20.268066Z",
     "iopub.status.idle": "2022-12-11T18:48:20.286306Z",
     "shell.execute_reply": "2022-12-11T18:48:20.285281Z"
    },
    "papermill": {
     "duration": 0.046777,
     "end_time": "2022-12-11T18:48:20.288721",
     "exception": false,
     "start_time": "2022-12-11T18:48:20.241944",
     "status": "completed"
    },
    "tags": []
   },
   "outputs": [
    {
     "data": {
      "text/html": [
       "<div>\n",
       "<style scoped>\n",
       "    .dataframe tbody tr th:only-of-type {\n",
       "        vertical-align: middle;\n",
       "    }\n",
       "\n",
       "    .dataframe tbody tr th {\n",
       "        vertical-align: top;\n",
       "    }\n",
       "\n",
       "    .dataframe thead th {\n",
       "        text-align: right;\n",
       "    }\n",
       "</style>\n",
       "<table border=\"1\" class=\"dataframe\">\n",
       "  <thead>\n",
       "    <tr style=\"text-align: right;\">\n",
       "      <th></th>\n",
       "      <th>age</th>\n",
       "      <th>sex</th>\n",
       "      <th>bmi</th>\n",
       "      <th>children</th>\n",
       "      <th>smoker</th>\n",
       "      <th>region_northeast</th>\n",
       "      <th>region_northwest</th>\n",
       "      <th>region_southeast</th>\n",
       "      <th>region_southwest</th>\n",
       "      <th>bmi_class_healthy weight</th>\n",
       "      <th>bmi_class_obese</th>\n",
       "      <th>bmi_class_overweight</th>\n",
       "      <th>bmi_class_underweight</th>\n",
       "    </tr>\n",
       "  </thead>\n",
       "  <tbody>\n",
       "    <tr>\n",
       "      <th>0</th>\n",
       "      <td>0.021739</td>\n",
       "      <td>1</td>\n",
       "      <td>0.320755</td>\n",
       "      <td>0.0</td>\n",
       "      <td>1</td>\n",
       "      <td>0.0</td>\n",
       "      <td>0.0</td>\n",
       "      <td>0.0</td>\n",
       "      <td>1.0</td>\n",
       "      <td>0.0</td>\n",
       "      <td>0.0</td>\n",
       "      <td>1.0</td>\n",
       "      <td>0.0</td>\n",
       "    </tr>\n",
       "    <tr>\n",
       "      <th>1</th>\n",
       "      <td>0.000000</td>\n",
       "      <td>0</td>\n",
       "      <td>0.479784</td>\n",
       "      <td>0.2</td>\n",
       "      <td>0</td>\n",
       "      <td>0.0</td>\n",
       "      <td>0.0</td>\n",
       "      <td>1.0</td>\n",
       "      <td>0.0</td>\n",
       "      <td>0.0</td>\n",
       "      <td>1.0</td>\n",
       "      <td>0.0</td>\n",
       "      <td>0.0</td>\n",
       "    </tr>\n",
       "    <tr>\n",
       "      <th>2</th>\n",
       "      <td>0.217391</td>\n",
       "      <td>0</td>\n",
       "      <td>0.458221</td>\n",
       "      <td>0.6</td>\n",
       "      <td>0</td>\n",
       "      <td>0.0</td>\n",
       "      <td>0.0</td>\n",
       "      <td>1.0</td>\n",
       "      <td>0.0</td>\n",
       "      <td>0.0</td>\n",
       "      <td>1.0</td>\n",
       "      <td>0.0</td>\n",
       "      <td>0.0</td>\n",
       "    </tr>\n",
       "    <tr>\n",
       "      <th>3</th>\n",
       "      <td>0.326087</td>\n",
       "      <td>0</td>\n",
       "      <td>0.180593</td>\n",
       "      <td>0.0</td>\n",
       "      <td>0</td>\n",
       "      <td>0.0</td>\n",
       "      <td>1.0</td>\n",
       "      <td>0.0</td>\n",
       "      <td>0.0</td>\n",
       "      <td>1.0</td>\n",
       "      <td>0.0</td>\n",
       "      <td>0.0</td>\n",
       "      <td>0.0</td>\n",
       "    </tr>\n",
       "    <tr>\n",
       "      <th>4</th>\n",
       "      <td>0.304348</td>\n",
       "      <td>0</td>\n",
       "      <td>0.347709</td>\n",
       "      <td>0.0</td>\n",
       "      <td>0</td>\n",
       "      <td>0.0</td>\n",
       "      <td>1.0</td>\n",
       "      <td>0.0</td>\n",
       "      <td>0.0</td>\n",
       "      <td>0.0</td>\n",
       "      <td>0.0</td>\n",
       "      <td>1.0</td>\n",
       "      <td>0.0</td>\n",
       "    </tr>\n",
       "  </tbody>\n",
       "</table>\n",
       "</div>"
      ],
      "text/plain": [
       "        age  sex       bmi  children  smoker  region_northeast  \\\n",
       "0  0.021739    1  0.320755       0.0       1               0.0   \n",
       "1  0.000000    0  0.479784       0.2       0               0.0   \n",
       "2  0.217391    0  0.458221       0.6       0               0.0   \n",
       "3  0.326087    0  0.180593       0.0       0               0.0   \n",
       "4  0.304348    0  0.347709       0.0       0               0.0   \n",
       "\n",
       "   region_northwest  region_southeast  region_southwest  \\\n",
       "0               0.0               0.0               1.0   \n",
       "1               0.0               1.0               0.0   \n",
       "2               0.0               1.0               0.0   \n",
       "3               1.0               0.0               0.0   \n",
       "4               1.0               0.0               0.0   \n",
       "\n",
       "   bmi_class_healthy weight  bmi_class_obese  bmi_class_overweight  \\\n",
       "0                       0.0              0.0                   1.0   \n",
       "1                       0.0              1.0                   0.0   \n",
       "2                       0.0              1.0                   0.0   \n",
       "3                       1.0              0.0                   0.0   \n",
       "4                       0.0              0.0                   1.0   \n",
       "\n",
       "   bmi_class_underweight  \n",
       "0                    0.0  \n",
       "1                    0.0  \n",
       "2                    0.0  \n",
       "3                    0.0  \n",
       "4                    0.0  "
      ]
     },
     "execution_count": 44,
     "metadata": {},
     "output_type": "execute_result"
    }
   ],
   "source": [
    "input_df = input_df.drop(columns='bmi_class')\n",
    "input_df.head()"
   ]
  },
  {
   "cell_type": "code",
   "execution_count": 45,
   "id": "4d76be1d",
   "metadata": {
    "execution": {
     "iopub.execute_input": "2022-12-11T18:48:20.340361Z",
     "iopub.status.busy": "2022-12-11T18:48:20.339483Z",
     "iopub.status.idle": "2022-12-11T18:48:20.381481Z",
     "shell.execute_reply": "2022-12-11T18:48:20.380110Z"
    },
    "papermill": {
     "duration": 0.070983,
     "end_time": "2022-12-11T18:48:20.384361",
     "exception": false,
     "start_time": "2022-12-11T18:48:20.313378",
     "status": "completed"
    },
    "tags": []
   },
   "outputs": [
    {
     "data": {
      "text/html": [
       "<div>\n",
       "<style scoped>\n",
       "    .dataframe tbody tr th:only-of-type {\n",
       "        vertical-align: middle;\n",
       "    }\n",
       "\n",
       "    .dataframe tbody tr th {\n",
       "        vertical-align: top;\n",
       "    }\n",
       "\n",
       "    .dataframe thead th {\n",
       "        text-align: right;\n",
       "    }\n",
       "</style>\n",
       "<table border=\"1\" class=\"dataframe\">\n",
       "  <thead>\n",
       "    <tr style=\"text-align: right;\">\n",
       "      <th></th>\n",
       "      <th>age</th>\n",
       "      <th>sex</th>\n",
       "      <th>bmi</th>\n",
       "      <th>children</th>\n",
       "      <th>smoker</th>\n",
       "      <th>region_northeast</th>\n",
       "      <th>region_northwest</th>\n",
       "      <th>region_southeast</th>\n",
       "      <th>region_southwest</th>\n",
       "      <th>bmi_class_healthy weight</th>\n",
       "      <th>bmi_class_obese</th>\n",
       "      <th>bmi_class_overweight</th>\n",
       "      <th>bmi_class_underweight</th>\n",
       "    </tr>\n",
       "  </thead>\n",
       "  <tbody>\n",
       "    <tr>\n",
       "      <th>min</th>\n",
       "      <td>0.0</td>\n",
       "      <td>0.0</td>\n",
       "      <td>0.0</td>\n",
       "      <td>0.0</td>\n",
       "      <td>0.0</td>\n",
       "      <td>0.0</td>\n",
       "      <td>0.0</td>\n",
       "      <td>0.0</td>\n",
       "      <td>0.0</td>\n",
       "      <td>0.0</td>\n",
       "      <td>0.0</td>\n",
       "      <td>0.0</td>\n",
       "      <td>0.0</td>\n",
       "    </tr>\n",
       "    <tr>\n",
       "      <th>max</th>\n",
       "      <td>1.0</td>\n",
       "      <td>1.0</td>\n",
       "      <td>1.0</td>\n",
       "      <td>1.0</td>\n",
       "      <td>1.0</td>\n",
       "      <td>1.0</td>\n",
       "      <td>1.0</td>\n",
       "      <td>1.0</td>\n",
       "      <td>1.0</td>\n",
       "      <td>1.0</td>\n",
       "      <td>1.0</td>\n",
       "      <td>1.0</td>\n",
       "      <td>1.0</td>\n",
       "    </tr>\n",
       "  </tbody>\n",
       "</table>\n",
       "</div>"
      ],
      "text/plain": [
       "     age  sex  bmi  children  smoker  region_northeast  region_northwest  \\\n",
       "min  0.0  0.0  0.0       0.0     0.0               0.0               0.0   \n",
       "max  1.0  1.0  1.0       1.0     1.0               1.0               1.0   \n",
       "\n",
       "     region_southeast  region_southwest  bmi_class_healthy weight  \\\n",
       "min               0.0               0.0                       0.0   \n",
       "max               1.0               1.0                       1.0   \n",
       "\n",
       "     bmi_class_obese  bmi_class_overweight  bmi_class_underweight  \n",
       "min              0.0                   0.0                    0.0  \n",
       "max              1.0                   1.0                    1.0  "
      ]
     },
     "execution_count": 45,
     "metadata": {},
     "output_type": "execute_result"
    }
   ],
   "source": [
    "input_df.describe().loc[['min','max']]"
   ]
  },
  {
   "cell_type": "code",
   "execution_count": 46,
   "id": "ac277109",
   "metadata": {
    "execution": {
     "iopub.execute_input": "2022-12-11T18:48:20.438689Z",
     "iopub.status.busy": "2022-12-11T18:48:20.438272Z",
     "iopub.status.idle": "2022-12-11T18:48:20.508823Z",
     "shell.execute_reply": "2022-12-11T18:48:20.507409Z"
    },
    "papermill": {
     "duration": 0.101516,
     "end_time": "2022-12-11T18:48:20.511828",
     "exception": false,
     "start_time": "2022-12-11T18:48:20.410312",
     "status": "completed"
    },
    "tags": []
   },
   "outputs": [],
   "source": [
    "from sklearn.model_selection import train_test_split\n",
    "\n",
    "X_train, X_val, y_train, y_val = train_test_split(input_df, target_df, test_size=0.2, random_state=42)"
   ]
  },
  {
   "cell_type": "code",
   "execution_count": 47,
   "id": "283dc573",
   "metadata": {
    "execution": {
     "iopub.execute_input": "2022-12-11T18:48:20.563484Z",
     "iopub.status.busy": "2022-12-11T18:48:20.563138Z",
     "iopub.status.idle": "2022-12-11T18:48:20.592456Z",
     "shell.execute_reply": "2022-12-11T18:48:20.591100Z"
    },
    "papermill": {
     "duration": 0.056867,
     "end_time": "2022-12-11T18:48:20.594818",
     "exception": false,
     "start_time": "2022-12-11T18:48:20.537951",
     "status": "completed"
    },
    "tags": []
   },
   "outputs": [
    {
     "data": {
      "text/html": [
       "<div>\n",
       "<style scoped>\n",
       "    .dataframe tbody tr th:only-of-type {\n",
       "        vertical-align: middle;\n",
       "    }\n",
       "\n",
       "    .dataframe tbody tr th {\n",
       "        vertical-align: top;\n",
       "    }\n",
       "\n",
       "    .dataframe thead th {\n",
       "        text-align: right;\n",
       "    }\n",
       "</style>\n",
       "<table border=\"1\" class=\"dataframe\">\n",
       "  <thead>\n",
       "    <tr style=\"text-align: right;\">\n",
       "      <th></th>\n",
       "      <th>age</th>\n",
       "      <th>sex</th>\n",
       "      <th>bmi</th>\n",
       "      <th>children</th>\n",
       "      <th>smoker</th>\n",
       "      <th>region_northeast</th>\n",
       "      <th>region_northwest</th>\n",
       "      <th>region_southeast</th>\n",
       "      <th>region_southwest</th>\n",
       "      <th>bmi_class_healthy weight</th>\n",
       "      <th>bmi_class_obese</th>\n",
       "      <th>bmi_class_overweight</th>\n",
       "      <th>bmi_class_underweight</th>\n",
       "    </tr>\n",
       "  </thead>\n",
       "  <tbody>\n",
       "    <tr>\n",
       "      <th>1114</th>\n",
       "      <td>0.108696</td>\n",
       "      <td>0</td>\n",
       "      <td>0.229111</td>\n",
       "      <td>0.0</td>\n",
       "      <td>0</td>\n",
       "      <td>1.0</td>\n",
       "      <td>0.0</td>\n",
       "      <td>0.0</td>\n",
       "      <td>0.0</td>\n",
       "      <td>1.0</td>\n",
       "      <td>0.0</td>\n",
       "      <td>0.0</td>\n",
       "      <td>0.0</td>\n",
       "    </tr>\n",
       "    <tr>\n",
       "      <th>968</th>\n",
       "      <td>0.065217</td>\n",
       "      <td>0</td>\n",
       "      <td>0.261456</td>\n",
       "      <td>0.4</td>\n",
       "      <td>0</td>\n",
       "      <td>1.0</td>\n",
       "      <td>0.0</td>\n",
       "      <td>0.0</td>\n",
       "      <td>0.0</td>\n",
       "      <td>0.0</td>\n",
       "      <td>0.0</td>\n",
       "      <td>1.0</td>\n",
       "      <td>0.0</td>\n",
       "    </tr>\n",
       "    <tr>\n",
       "      <th>599</th>\n",
       "      <td>0.739130</td>\n",
       "      <td>1</td>\n",
       "      <td>0.579515</td>\n",
       "      <td>0.4</td>\n",
       "      <td>0</td>\n",
       "      <td>0.0</td>\n",
       "      <td>1.0</td>\n",
       "      <td>0.0</td>\n",
       "      <td>0.0</td>\n",
       "      <td>0.0</td>\n",
       "      <td>1.0</td>\n",
       "      <td>0.0</td>\n",
       "      <td>0.0</td>\n",
       "    </tr>\n",
       "    <tr>\n",
       "      <th>170</th>\n",
       "      <td>0.978261</td>\n",
       "      <td>0</td>\n",
       "      <td>0.687332</td>\n",
       "      <td>0.0</td>\n",
       "      <td>0</td>\n",
       "      <td>0.0</td>\n",
       "      <td>0.0</td>\n",
       "      <td>1.0</td>\n",
       "      <td>0.0</td>\n",
       "      <td>0.0</td>\n",
       "      <td>1.0</td>\n",
       "      <td>0.0</td>\n",
       "      <td>0.0</td>\n",
       "    </tr>\n",
       "    <tr>\n",
       "      <th>275</th>\n",
       "      <td>0.630435</td>\n",
       "      <td>1</td>\n",
       "      <td>0.285714</td>\n",
       "      <td>0.4</td>\n",
       "      <td>0</td>\n",
       "      <td>1.0</td>\n",
       "      <td>0.0</td>\n",
       "      <td>0.0</td>\n",
       "      <td>0.0</td>\n",
       "      <td>0.0</td>\n",
       "      <td>0.0</td>\n",
       "      <td>1.0</td>\n",
       "      <td>0.0</td>\n",
       "    </tr>\n",
       "    <tr>\n",
       "      <th>...</th>\n",
       "      <td>...</td>\n",
       "      <td>...</td>\n",
       "      <td>...</td>\n",
       "      <td>...</td>\n",
       "      <td>...</td>\n",
       "      <td>...</td>\n",
       "      <td>...</td>\n",
       "      <td>...</td>\n",
       "      <td>...</td>\n",
       "      <td>...</td>\n",
       "      <td>...</td>\n",
       "      <td>...</td>\n",
       "      <td>...</td>\n",
       "    </tr>\n",
       "    <tr>\n",
       "      <th>1096</th>\n",
       "      <td>0.717391</td>\n",
       "      <td>1</td>\n",
       "      <td>0.512129</td>\n",
       "      <td>0.4</td>\n",
       "      <td>1</td>\n",
       "      <td>1.0</td>\n",
       "      <td>0.0</td>\n",
       "      <td>0.0</td>\n",
       "      <td>0.0</td>\n",
       "      <td>0.0</td>\n",
       "      <td>1.0</td>\n",
       "      <td>0.0</td>\n",
       "      <td>0.0</td>\n",
       "    </tr>\n",
       "    <tr>\n",
       "      <th>1131</th>\n",
       "      <td>0.195652</td>\n",
       "      <td>0</td>\n",
       "      <td>0.805930</td>\n",
       "      <td>0.4</td>\n",
       "      <td>0</td>\n",
       "      <td>0.0</td>\n",
       "      <td>0.0</td>\n",
       "      <td>0.0</td>\n",
       "      <td>1.0</td>\n",
       "      <td>0.0</td>\n",
       "      <td>1.0</td>\n",
       "      <td>0.0</td>\n",
       "      <td>0.0</td>\n",
       "    </tr>\n",
       "    <tr>\n",
       "      <th>1295</th>\n",
       "      <td>0.043478</td>\n",
       "      <td>0</td>\n",
       "      <td>0.161725</td>\n",
       "      <td>0.2</td>\n",
       "      <td>0</td>\n",
       "      <td>0.0</td>\n",
       "      <td>0.0</td>\n",
       "      <td>0.0</td>\n",
       "      <td>1.0</td>\n",
       "      <td>1.0</td>\n",
       "      <td>0.0</td>\n",
       "      <td>0.0</td>\n",
       "      <td>0.0</td>\n",
       "    </tr>\n",
       "    <tr>\n",
       "      <th>861</th>\n",
       "      <td>0.434783</td>\n",
       "      <td>1</td>\n",
       "      <td>0.323450</td>\n",
       "      <td>0.6</td>\n",
       "      <td>0</td>\n",
       "      <td>0.0</td>\n",
       "      <td>0.0</td>\n",
       "      <td>0.0</td>\n",
       "      <td>1.0</td>\n",
       "      <td>0.0</td>\n",
       "      <td>0.0</td>\n",
       "      <td>1.0</td>\n",
       "      <td>0.0</td>\n",
       "    </tr>\n",
       "    <tr>\n",
       "      <th>1127</th>\n",
       "      <td>0.369565</td>\n",
       "      <td>1</td>\n",
       "      <td>0.536388</td>\n",
       "      <td>0.4</td>\n",
       "      <td>0</td>\n",
       "      <td>0.0</td>\n",
       "      <td>0.0</td>\n",
       "      <td>1.0</td>\n",
       "      <td>0.0</td>\n",
       "      <td>0.0</td>\n",
       "      <td>1.0</td>\n",
       "      <td>0.0</td>\n",
       "      <td>0.0</td>\n",
       "    </tr>\n",
       "  </tbody>\n",
       "</table>\n",
       "<p>1069 rows × 13 columns</p>\n",
       "</div>"
      ],
      "text/plain": [
       "           age  sex       bmi  children  smoker  region_northeast  \\\n",
       "1114  0.108696    0  0.229111       0.0       0               1.0   \n",
       "968   0.065217    0  0.261456       0.4       0               1.0   \n",
       "599   0.739130    1  0.579515       0.4       0               0.0   \n",
       "170   0.978261    0  0.687332       0.0       0               0.0   \n",
       "275   0.630435    1  0.285714       0.4       0               1.0   \n",
       "...        ...  ...       ...       ...     ...               ...   \n",
       "1096  0.717391    1  0.512129       0.4       1               1.0   \n",
       "1131  0.195652    0  0.805930       0.4       0               0.0   \n",
       "1295  0.043478    0  0.161725       0.2       0               0.0   \n",
       "861   0.434783    1  0.323450       0.6       0               0.0   \n",
       "1127  0.369565    1  0.536388       0.4       0               0.0   \n",
       "\n",
       "      region_northwest  region_southeast  region_southwest  \\\n",
       "1114               0.0               0.0               0.0   \n",
       "968                0.0               0.0               0.0   \n",
       "599                1.0               0.0               0.0   \n",
       "170                0.0               1.0               0.0   \n",
       "275                0.0               0.0               0.0   \n",
       "...                ...               ...               ...   \n",
       "1096               0.0               0.0               0.0   \n",
       "1131               0.0               0.0               1.0   \n",
       "1295               0.0               0.0               1.0   \n",
       "861                0.0               0.0               1.0   \n",
       "1127               0.0               1.0               0.0   \n",
       "\n",
       "      bmi_class_healthy weight  bmi_class_obese  bmi_class_overweight  \\\n",
       "1114                       1.0              0.0                   0.0   \n",
       "968                        0.0              0.0                   1.0   \n",
       "599                        0.0              1.0                   0.0   \n",
       "170                        0.0              1.0                   0.0   \n",
       "275                        0.0              0.0                   1.0   \n",
       "...                        ...              ...                   ...   \n",
       "1096                       0.0              1.0                   0.0   \n",
       "1131                       0.0              1.0                   0.0   \n",
       "1295                       1.0              0.0                   0.0   \n",
       "861                        0.0              0.0                   1.0   \n",
       "1127                       0.0              1.0                   0.0   \n",
       "\n",
       "      bmi_class_underweight  \n",
       "1114                    0.0  \n",
       "968                     0.0  \n",
       "599                     0.0  \n",
       "170                     0.0  \n",
       "275                     0.0  \n",
       "...                     ...  \n",
       "1096                    0.0  \n",
       "1131                    0.0  \n",
       "1295                    0.0  \n",
       "861                     0.0  \n",
       "1127                    0.0  \n",
       "\n",
       "[1069 rows x 13 columns]"
      ]
     },
     "execution_count": 47,
     "metadata": {},
     "output_type": "execute_result"
    }
   ],
   "source": [
    "X_train"
   ]
  },
  {
   "cell_type": "code",
   "execution_count": 48,
   "id": "8b2df541",
   "metadata": {
    "execution": {
     "iopub.execute_input": "2022-12-11T18:48:20.647256Z",
     "iopub.status.busy": "2022-12-11T18:48:20.646908Z",
     "iopub.status.idle": "2022-12-11T18:48:20.674305Z",
     "shell.execute_reply": "2022-12-11T18:48:20.672856Z"
    },
    "papermill": {
     "duration": 0.055619,
     "end_time": "2022-12-11T18:48:20.676692",
     "exception": false,
     "start_time": "2022-12-11T18:48:20.621073",
     "status": "completed"
    },
    "tags": []
   },
   "outputs": [
    {
     "data": {
      "text/html": [
       "<div>\n",
       "<style scoped>\n",
       "    .dataframe tbody tr th:only-of-type {\n",
       "        vertical-align: middle;\n",
       "    }\n",
       "\n",
       "    .dataframe tbody tr th {\n",
       "        vertical-align: top;\n",
       "    }\n",
       "\n",
       "    .dataframe thead th {\n",
       "        text-align: right;\n",
       "    }\n",
       "</style>\n",
       "<table border=\"1\" class=\"dataframe\">\n",
       "  <thead>\n",
       "    <tr style=\"text-align: right;\">\n",
       "      <th></th>\n",
       "      <th>age</th>\n",
       "      <th>sex</th>\n",
       "      <th>bmi</th>\n",
       "      <th>children</th>\n",
       "      <th>smoker</th>\n",
       "      <th>region_northeast</th>\n",
       "      <th>region_northwest</th>\n",
       "      <th>region_southeast</th>\n",
       "      <th>region_southwest</th>\n",
       "      <th>bmi_class_healthy weight</th>\n",
       "      <th>bmi_class_obese</th>\n",
       "      <th>bmi_class_overweight</th>\n",
       "      <th>bmi_class_underweight</th>\n",
       "    </tr>\n",
       "  </thead>\n",
       "  <tbody>\n",
       "    <tr>\n",
       "      <th>900</th>\n",
       "      <td>0.673913</td>\n",
       "      <td>0</td>\n",
       "      <td>0.175202</td>\n",
       "      <td>0.0</td>\n",
       "      <td>0</td>\n",
       "      <td>1.0</td>\n",
       "      <td>0.0</td>\n",
       "      <td>0.0</td>\n",
       "      <td>0.0</td>\n",
       "      <td>1.0</td>\n",
       "      <td>0.0</td>\n",
       "      <td>0.0</td>\n",
       "      <td>0.0</td>\n",
       "    </tr>\n",
       "    <tr>\n",
       "      <th>1064</th>\n",
       "      <td>0.239130</td>\n",
       "      <td>1</td>\n",
       "      <td>0.258760</td>\n",
       "      <td>0.8</td>\n",
       "      <td>0</td>\n",
       "      <td>0.0</td>\n",
       "      <td>0.0</td>\n",
       "      <td>0.0</td>\n",
       "      <td>1.0</td>\n",
       "      <td>0.0</td>\n",
       "      <td>0.0</td>\n",
       "      <td>1.0</td>\n",
       "      <td>0.0</td>\n",
       "    </tr>\n",
       "    <tr>\n",
       "      <th>1256</th>\n",
       "      <td>0.717391</td>\n",
       "      <td>1</td>\n",
       "      <td>0.549865</td>\n",
       "      <td>0.6</td>\n",
       "      <td>0</td>\n",
       "      <td>0.0</td>\n",
       "      <td>1.0</td>\n",
       "      <td>0.0</td>\n",
       "      <td>0.0</td>\n",
       "      <td>0.0</td>\n",
       "      <td>1.0</td>\n",
       "      <td>0.0</td>\n",
       "      <td>0.0</td>\n",
       "    </tr>\n",
       "    <tr>\n",
       "      <th>298</th>\n",
       "      <td>0.282609</td>\n",
       "      <td>0</td>\n",
       "      <td>0.495957</td>\n",
       "      <td>0.6</td>\n",
       "      <td>1</td>\n",
       "      <td>0.0</td>\n",
       "      <td>1.0</td>\n",
       "      <td>0.0</td>\n",
       "      <td>0.0</td>\n",
       "      <td>0.0</td>\n",
       "      <td>1.0</td>\n",
       "      <td>0.0</td>\n",
       "      <td>0.0</td>\n",
       "    </tr>\n",
       "    <tr>\n",
       "      <th>237</th>\n",
       "      <td>0.282609</td>\n",
       "      <td>0</td>\n",
       "      <td>0.603774</td>\n",
       "      <td>0.4</td>\n",
       "      <td>0</td>\n",
       "      <td>0.0</td>\n",
       "      <td>0.0</td>\n",
       "      <td>1.0</td>\n",
       "      <td>0.0</td>\n",
       "      <td>0.0</td>\n",
       "      <td>1.0</td>\n",
       "      <td>0.0</td>\n",
       "      <td>0.0</td>\n",
       "    </tr>\n",
       "    <tr>\n",
       "      <th>...</th>\n",
       "      <td>...</td>\n",
       "      <td>...</td>\n",
       "      <td>...</td>\n",
       "      <td>...</td>\n",
       "      <td>...</td>\n",
       "      <td>...</td>\n",
       "      <td>...</td>\n",
       "      <td>...</td>\n",
       "      <td>...</td>\n",
       "      <td>...</td>\n",
       "      <td>...</td>\n",
       "      <td>...</td>\n",
       "      <td>...</td>\n",
       "    </tr>\n",
       "    <tr>\n",
       "      <th>534</th>\n",
       "      <td>1.000000</td>\n",
       "      <td>0</td>\n",
       "      <td>0.660377</td>\n",
       "      <td>0.0</td>\n",
       "      <td>0</td>\n",
       "      <td>0.0</td>\n",
       "      <td>0.0</td>\n",
       "      <td>1.0</td>\n",
       "      <td>0.0</td>\n",
       "      <td>0.0</td>\n",
       "      <td>1.0</td>\n",
       "      <td>0.0</td>\n",
       "      <td>0.0</td>\n",
       "    </tr>\n",
       "    <tr>\n",
       "      <th>542</th>\n",
       "      <td>0.978261</td>\n",
       "      <td>1</td>\n",
       "      <td>0.547170</td>\n",
       "      <td>0.0</td>\n",
       "      <td>0</td>\n",
       "      <td>0.0</td>\n",
       "      <td>0.0</td>\n",
       "      <td>1.0</td>\n",
       "      <td>0.0</td>\n",
       "      <td>0.0</td>\n",
       "      <td>1.0</td>\n",
       "      <td>0.0</td>\n",
       "      <td>0.0</td>\n",
       "    </tr>\n",
       "    <tr>\n",
       "      <th>760</th>\n",
       "      <td>0.086957</td>\n",
       "      <td>1</td>\n",
       "      <td>0.501348</td>\n",
       "      <td>0.4</td>\n",
       "      <td>0</td>\n",
       "      <td>1.0</td>\n",
       "      <td>0.0</td>\n",
       "      <td>0.0</td>\n",
       "      <td>0.0</td>\n",
       "      <td>0.0</td>\n",
       "      <td>1.0</td>\n",
       "      <td>0.0</td>\n",
       "      <td>0.0</td>\n",
       "    </tr>\n",
       "    <tr>\n",
       "      <th>1284</th>\n",
       "      <td>0.934783</td>\n",
       "      <td>0</td>\n",
       "      <td>0.547170</td>\n",
       "      <td>0.2</td>\n",
       "      <td>1</td>\n",
       "      <td>0.0</td>\n",
       "      <td>0.0</td>\n",
       "      <td>0.0</td>\n",
       "      <td>1.0</td>\n",
       "      <td>0.0</td>\n",
       "      <td>1.0</td>\n",
       "      <td>0.0</td>\n",
       "      <td>0.0</td>\n",
       "    </tr>\n",
       "    <tr>\n",
       "      <th>1285</th>\n",
       "      <td>0.630435</td>\n",
       "      <td>1</td>\n",
       "      <td>0.223720</td>\n",
       "      <td>0.0</td>\n",
       "      <td>0</td>\n",
       "      <td>1.0</td>\n",
       "      <td>0.0</td>\n",
       "      <td>0.0</td>\n",
       "      <td>0.0</td>\n",
       "      <td>1.0</td>\n",
       "      <td>0.0</td>\n",
       "      <td>0.0</td>\n",
       "      <td>0.0</td>\n",
       "    </tr>\n",
       "  </tbody>\n",
       "</table>\n",
       "<p>268 rows × 13 columns</p>\n",
       "</div>"
      ],
      "text/plain": [
       "           age  sex       bmi  children  smoker  region_northeast  \\\n",
       "900   0.673913    0  0.175202       0.0       0               1.0   \n",
       "1064  0.239130    1  0.258760       0.8       0               0.0   \n",
       "1256  0.717391    1  0.549865       0.6       0               0.0   \n",
       "298   0.282609    0  0.495957       0.6       1               0.0   \n",
       "237   0.282609    0  0.603774       0.4       0               0.0   \n",
       "...        ...  ...       ...       ...     ...               ...   \n",
       "534   1.000000    0  0.660377       0.0       0               0.0   \n",
       "542   0.978261    1  0.547170       0.0       0               0.0   \n",
       "760   0.086957    1  0.501348       0.4       0               1.0   \n",
       "1284  0.934783    0  0.547170       0.2       1               0.0   \n",
       "1285  0.630435    1  0.223720       0.0       0               1.0   \n",
       "\n",
       "      region_northwest  region_southeast  region_southwest  \\\n",
       "900                0.0               0.0               0.0   \n",
       "1064               0.0               0.0               1.0   \n",
       "1256               1.0               0.0               0.0   \n",
       "298                1.0               0.0               0.0   \n",
       "237                0.0               1.0               0.0   \n",
       "...                ...               ...               ...   \n",
       "534                0.0               1.0               0.0   \n",
       "542                0.0               1.0               0.0   \n",
       "760                0.0               0.0               0.0   \n",
       "1284               0.0               0.0               1.0   \n",
       "1285               0.0               0.0               0.0   \n",
       "\n",
       "      bmi_class_healthy weight  bmi_class_obese  bmi_class_overweight  \\\n",
       "900                        1.0              0.0                   0.0   \n",
       "1064                       0.0              0.0                   1.0   \n",
       "1256                       0.0              1.0                   0.0   \n",
       "298                        0.0              1.0                   0.0   \n",
       "237                        0.0              1.0                   0.0   \n",
       "...                        ...              ...                   ...   \n",
       "534                        0.0              1.0                   0.0   \n",
       "542                        0.0              1.0                   0.0   \n",
       "760                        0.0              1.0                   0.0   \n",
       "1284                       0.0              1.0                   0.0   \n",
       "1285                       1.0              0.0                   0.0   \n",
       "\n",
       "      bmi_class_underweight  \n",
       "900                     0.0  \n",
       "1064                    0.0  \n",
       "1256                    0.0  \n",
       "298                     0.0  \n",
       "237                     0.0  \n",
       "...                     ...  \n",
       "534                     0.0  \n",
       "542                     0.0  \n",
       "760                     0.0  \n",
       "1284                    0.0  \n",
       "1285                    0.0  \n",
       "\n",
       "[268 rows x 13 columns]"
      ]
     },
     "execution_count": 48,
     "metadata": {},
     "output_type": "execute_result"
    }
   ],
   "source": [
    "X_val"
   ]
  },
  {
   "cell_type": "code",
   "execution_count": 49,
   "id": "badfd04b",
   "metadata": {
    "execution": {
     "iopub.execute_input": "2022-12-11T18:48:20.730173Z",
     "iopub.status.busy": "2022-12-11T18:48:20.729785Z",
     "iopub.status.idle": "2022-12-11T18:48:20.739995Z",
     "shell.execute_reply": "2022-12-11T18:48:20.738329Z"
    },
    "papermill": {
     "duration": 0.039674,
     "end_time": "2022-12-11T18:48:20.742708",
     "exception": false,
     "start_time": "2022-12-11T18:48:20.703034",
     "status": "completed"
    },
    "tags": []
   },
   "outputs": [
    {
     "data": {
      "text/plain": [
       "1114     2396.10\n",
       "968      3279.87\n",
       "599     33471.97\n",
       "170     13405.39\n",
       "275      9715.84\n",
       "          ...   \n",
       "1096    44641.20\n",
       "1131     3693.43\n",
       "1295     1964.78\n",
       "861      7151.09\n",
       "1127     5836.52\n",
       "Name: expenses, Length: 1069, dtype: float64"
      ]
     },
     "execution_count": 49,
     "metadata": {},
     "output_type": "execute_result"
    }
   ],
   "source": [
    "y_train"
   ]
  },
  {
   "cell_type": "code",
   "execution_count": 50,
   "id": "f7223460",
   "metadata": {
    "execution": {
     "iopub.execute_input": "2022-12-11T18:48:20.796893Z",
     "iopub.status.busy": "2022-12-11T18:48:20.796502Z",
     "iopub.status.idle": "2022-12-11T18:48:20.804215Z",
     "shell.execute_reply": "2022-12-11T18:48:20.803206Z"
    },
    "papermill": {
     "duration": 0.039177,
     "end_time": "2022-12-11T18:48:20.807065",
     "exception": false,
     "start_time": "2022-12-11T18:48:20.767888",
     "status": "completed"
    },
    "tags": []
   },
   "outputs": [
    {
     "data": {
      "text/plain": [
       "900      8688.86\n",
       "1064     5708.87\n",
       "1256    11436.74\n",
       "298     38746.36\n",
       "237      4463.21\n",
       "          ...   \n",
       "534     13831.12\n",
       "542     13887.20\n",
       "760      3925.76\n",
       "1284    47403.88\n",
       "1285     8534.67\n",
       "Name: expenses, Length: 268, dtype: float64"
      ]
     },
     "execution_count": 50,
     "metadata": {},
     "output_type": "execute_result"
    }
   ],
   "source": [
    "y_val"
   ]
  },
  {
   "cell_type": "code",
   "execution_count": 51,
   "id": "1558dae3",
   "metadata": {
    "execution": {
     "iopub.execute_input": "2022-12-11T18:48:20.864762Z",
     "iopub.status.busy": "2022-12-11T18:48:20.864397Z",
     "iopub.status.idle": "2022-12-11T18:48:21.015180Z",
     "shell.execute_reply": "2022-12-11T18:48:21.014148Z"
    },
    "papermill": {
     "duration": 0.182669,
     "end_time": "2022-12-11T18:48:21.018047",
     "exception": false,
     "start_time": "2022-12-11T18:48:20.835378",
     "status": "completed"
    },
    "tags": []
   },
   "outputs": [],
   "source": [
    "from xgboost import XGBRegressor"
   ]
  },
  {
   "cell_type": "code",
   "execution_count": 52,
   "id": "c9a8d6ef",
   "metadata": {
    "execution": {
     "iopub.execute_input": "2022-12-11T18:48:21.072253Z",
     "iopub.status.busy": "2022-12-11T18:48:21.071808Z",
     "iopub.status.idle": "2022-12-11T18:48:21.618798Z",
     "shell.execute_reply": "2022-12-11T18:48:21.618061Z"
    },
    "papermill": {
     "duration": 0.576644,
     "end_time": "2022-12-11T18:48:21.621306",
     "exception": false,
     "start_time": "2022-12-11T18:48:21.044662",
     "status": "completed"
    },
    "tags": []
   },
   "outputs": [
    {
     "name": "stdout",
     "output_type": "stream",
     "text": [
      "[0]\tvalidation_0-rmse:12743.99933\tvalidation_1-rmse:14345.11425\n",
      "[1]\tvalidation_0-rmse:9492.08657\tvalidation_1-rmse:10611.42098\n",
      "[2]\tvalidation_0-rmse:7294.23234\tvalidation_1-rmse:8246.03070\n",
      "[3]\tvalidation_0-rmse:5869.47678\tvalidation_1-rmse:6668.32163\n",
      "[4]\tvalidation_0-rmse:4978.73136\tvalidation_1-rmse:5675.83360\n",
      "[5]\tvalidation_0-rmse:4393.32606\tvalidation_1-rmse:5101.30621\n",
      "[6]\tvalidation_0-rmse:4036.31925\tvalidation_1-rmse:4791.93292\n",
      "[7]\tvalidation_0-rmse:3779.06843\tvalidation_1-rmse:4630.50691\n",
      "[8]\tvalidation_0-rmse:3593.90388\tvalidation_1-rmse:4515.81014\n",
      "[9]\tvalidation_0-rmse:3473.68273\tvalidation_1-rmse:4465.13679\n",
      "[10]\tvalidation_0-rmse:3381.32250\tvalidation_1-rmse:4436.50711\n",
      "[11]\tvalidation_0-rmse:3306.40720\tvalidation_1-rmse:4411.38794\n",
      "[12]\tvalidation_0-rmse:3266.44028\tvalidation_1-rmse:4404.40379\n",
      "[13]\tvalidation_0-rmse:3209.77569\tvalidation_1-rmse:4401.11510\n",
      "[14]\tvalidation_0-rmse:3144.95365\tvalidation_1-rmse:4397.46172\n",
      "[15]\tvalidation_0-rmse:3072.74307\tvalidation_1-rmse:4417.57543\n",
      "[16]\tvalidation_0-rmse:3051.59898\tvalidation_1-rmse:4419.98701\n",
      "[17]\tvalidation_0-rmse:3028.78458\tvalidation_1-rmse:4427.75132\n",
      "[18]\tvalidation_0-rmse:2919.08498\tvalidation_1-rmse:4436.81261\n",
      "[19]\tvalidation_0-rmse:2907.83515\tvalidation_1-rmse:4437.82671\n",
      "[20]\tvalidation_0-rmse:2859.19352\tvalidation_1-rmse:4460.27776\n",
      "[21]\tvalidation_0-rmse:2851.89808\tvalidation_1-rmse:4466.10467\n",
      "[22]\tvalidation_0-rmse:2793.25185\tvalidation_1-rmse:4481.22177\n",
      "[23]\tvalidation_0-rmse:2687.50660\tvalidation_1-rmse:4522.67188\n",
      "[24]\tvalidation_0-rmse:2630.96368\tvalidation_1-rmse:4530.68650\n",
      "[25]\tvalidation_0-rmse:2595.46071\tvalidation_1-rmse:4536.34832\n",
      "[26]\tvalidation_0-rmse:2534.17754\tvalidation_1-rmse:4604.76419\n",
      "[27]\tvalidation_0-rmse:2521.11388\tvalidation_1-rmse:4609.28972\n",
      "[28]\tvalidation_0-rmse:2505.47394\tvalidation_1-rmse:4616.39847\n",
      "[29]\tvalidation_0-rmse:2479.99119\tvalidation_1-rmse:4628.45156\n",
      "[30]\tvalidation_0-rmse:2410.04681\tvalidation_1-rmse:4633.02441\n",
      "[31]\tvalidation_0-rmse:2397.41556\tvalidation_1-rmse:4646.83458\n",
      "[32]\tvalidation_0-rmse:2390.82695\tvalidation_1-rmse:4658.50964\n",
      "[33]\tvalidation_0-rmse:2365.01684\tvalidation_1-rmse:4656.00061\n",
      "[34]\tvalidation_0-rmse:2351.19007\tvalidation_1-rmse:4655.40383\n",
      "[35]\tvalidation_0-rmse:2333.67009\tvalidation_1-rmse:4657.26198\n",
      "[36]\tvalidation_0-rmse:2291.15615\tvalidation_1-rmse:4667.91004\n",
      "[37]\tvalidation_0-rmse:2204.67640\tvalidation_1-rmse:4679.85810\n",
      "[38]\tvalidation_0-rmse:2190.55292\tvalidation_1-rmse:4691.30665\n",
      "[39]\tvalidation_0-rmse:2149.17498\tvalidation_1-rmse:4700.26766\n",
      "[40]\tvalidation_0-rmse:2100.71066\tvalidation_1-rmse:4709.83683\n",
      "[41]\tvalidation_0-rmse:2092.91200\tvalidation_1-rmse:4710.71324\n",
      "[42]\tvalidation_0-rmse:2089.32666\tvalidation_1-rmse:4713.48162\n",
      "[43]\tvalidation_0-rmse:2062.31912\tvalidation_1-rmse:4718.18771\n",
      "[44]\tvalidation_0-rmse:2003.54470\tvalidation_1-rmse:4731.21328\n",
      "[45]\tvalidation_0-rmse:1925.89751\tvalidation_1-rmse:4743.40300\n",
      "[46]\tvalidation_0-rmse:1887.17289\tvalidation_1-rmse:4738.11158\n",
      "[47]\tvalidation_0-rmse:1880.70101\tvalidation_1-rmse:4746.25372\n",
      "[48]\tvalidation_0-rmse:1820.31690\tvalidation_1-rmse:4765.72229\n",
      "[49]\tvalidation_0-rmse:1780.88450\tvalidation_1-rmse:4775.10552\n",
      "[50]\tvalidation_0-rmse:1745.00161\tvalidation_1-rmse:4828.71382\n",
      "[51]\tvalidation_0-rmse:1706.84518\tvalidation_1-rmse:4838.01832\n",
      "[52]\tvalidation_0-rmse:1676.97097\tvalidation_1-rmse:4836.25031\n",
      "[53]\tvalidation_0-rmse:1654.17597\tvalidation_1-rmse:4837.51130\n",
      "[54]\tvalidation_0-rmse:1625.06990\tvalidation_1-rmse:4833.12954\n",
      "[55]\tvalidation_0-rmse:1618.50972\tvalidation_1-rmse:4835.45497\n",
      "[56]\tvalidation_0-rmse:1569.62620\tvalidation_1-rmse:4829.87023\n",
      "[57]\tvalidation_0-rmse:1534.49016\tvalidation_1-rmse:4835.52469\n",
      "[58]\tvalidation_0-rmse:1515.66534\tvalidation_1-rmse:4840.38522\n",
      "[59]\tvalidation_0-rmse:1485.92981\tvalidation_1-rmse:4848.43909\n",
      "[60]\tvalidation_0-rmse:1444.22674\tvalidation_1-rmse:4850.21561\n",
      "[61]\tvalidation_0-rmse:1432.85664\tvalidation_1-rmse:4854.62427\n",
      "[62]\tvalidation_0-rmse:1408.64163\tvalidation_1-rmse:4860.38811\n",
      "[63]\tvalidation_0-rmse:1404.38254\tvalidation_1-rmse:4861.77352\n",
      "[64]\tvalidation_0-rmse:1383.55894\tvalidation_1-rmse:4867.01508\n"
     ]
    },
    {
     "data": {
      "text/plain": [
       "XGBRegressor(base_score=0.5, booster='gbtree', callbacks=None,\n",
       "             colsample_bylevel=1, colsample_bynode=1, colsample_bytree=1,\n",
       "             early_stopping_rounds=50, enable_categorical=False,\n",
       "             eval_metric=None, gamma=0, gpu_id=-1, grow_policy='depthwise',\n",
       "             importance_type=None, interaction_constraints='',\n",
       "             learning_rate=0.300000012, max_bin=256, max_cat_to_onehot=4,\n",
       "             max_delta_step=0, max_depth=6, max_leaves=0, min_child_weight=1,\n",
       "             missing=nan, monotone_constraints='()', n_estimators=1000,\n",
       "             n_jobs=-1, num_parallel_tree=1, predictor='auto', random_state=42,\n",
       "             reg_alpha=0, reg_lambda=1, ...)"
      ]
     },
     "execution_count": 52,
     "metadata": {},
     "output_type": "execute_result"
    }
   ],
   "source": [
    "model = XGBRegressor(n_jobs=-1, n_estimators=1000, early_stopping_rounds=50, random_state=42)\n",
    "model.fit(X_train, y_train, eval_set=[(X_train, y_train),(X_val,y_val)])"
   ]
  },
  {
   "cell_type": "code",
   "execution_count": 53,
   "id": "21793b1c",
   "metadata": {
    "execution": {
     "iopub.execute_input": "2022-12-11T18:48:21.682221Z",
     "iopub.status.busy": "2022-12-11T18:48:21.681050Z",
     "iopub.status.idle": "2022-12-11T18:48:21.695278Z",
     "shell.execute_reply": "2022-12-11T18:48:21.694098Z"
    },
    "papermill": {
     "duration": 0.04661,
     "end_time": "2022-12-11T18:48:21.697243",
     "exception": false,
     "start_time": "2022-12-11T18:48:21.650633",
     "status": "completed"
    },
    "tags": []
   },
   "outputs": [
    {
     "data": {
      "text/html": [
       "<div>\n",
       "<style scoped>\n",
       "    .dataframe tbody tr th:only-of-type {\n",
       "        vertical-align: middle;\n",
       "    }\n",
       "\n",
       "    .dataframe tbody tr th {\n",
       "        vertical-align: top;\n",
       "    }\n",
       "\n",
       "    .dataframe thead th {\n",
       "        text-align: right;\n",
       "    }\n",
       "</style>\n",
       "<table border=\"1\" class=\"dataframe\">\n",
       "  <thead>\n",
       "    <tr style=\"text-align: right;\">\n",
       "      <th></th>\n",
       "      <th>Feature</th>\n",
       "      <th>Importance</th>\n",
       "    </tr>\n",
       "  </thead>\n",
       "  <tbody>\n",
       "    <tr>\n",
       "      <th>4</th>\n",
       "      <td>smoker</td>\n",
       "      <td>0.896003</td>\n",
       "    </tr>\n",
       "    <tr>\n",
       "      <th>9</th>\n",
       "      <td>bmi_class_healthy weight</td>\n",
       "      <td>0.026056</td>\n",
       "    </tr>\n",
       "    <tr>\n",
       "      <th>2</th>\n",
       "      <td>bmi</td>\n",
       "      <td>0.022551</td>\n",
       "    </tr>\n",
       "    <tr>\n",
       "      <th>0</th>\n",
       "      <td>age</td>\n",
       "      <td>0.017158</td>\n",
       "    </tr>\n",
       "    <tr>\n",
       "      <th>3</th>\n",
       "      <td>children</td>\n",
       "      <td>0.008238</td>\n",
       "    </tr>\n",
       "    <tr>\n",
       "      <th>8</th>\n",
       "      <td>region_southwest</td>\n",
       "      <td>0.006763</td>\n",
       "    </tr>\n",
       "    <tr>\n",
       "      <th>11</th>\n",
       "      <td>bmi_class_overweight</td>\n",
       "      <td>0.005306</td>\n",
       "    </tr>\n",
       "    <tr>\n",
       "      <th>6</th>\n",
       "      <td>region_northwest</td>\n",
       "      <td>0.005143</td>\n",
       "    </tr>\n",
       "    <tr>\n",
       "      <th>5</th>\n",
       "      <td>region_northeast</td>\n",
       "      <td>0.004888</td>\n",
       "    </tr>\n",
       "    <tr>\n",
       "      <th>7</th>\n",
       "      <td>region_southeast</td>\n",
       "      <td>0.004432</td>\n",
       "    </tr>\n",
       "    <tr>\n",
       "      <th>1</th>\n",
       "      <td>sex</td>\n",
       "      <td>0.003461</td>\n",
       "    </tr>\n",
       "    <tr>\n",
       "      <th>10</th>\n",
       "      <td>bmi_class_obese</td>\n",
       "      <td>0.000000</td>\n",
       "    </tr>\n",
       "    <tr>\n",
       "      <th>12</th>\n",
       "      <td>bmi_class_underweight</td>\n",
       "      <td>0.000000</td>\n",
       "    </tr>\n",
       "  </tbody>\n",
       "</table>\n",
       "</div>"
      ],
      "text/plain": [
       "                     Feature  Importance\n",
       "4                     smoker    0.896003\n",
       "9   bmi_class_healthy weight    0.026056\n",
       "2                        bmi    0.022551\n",
       "0                        age    0.017158\n",
       "3                   children    0.008238\n",
       "8           region_southwest    0.006763\n",
       "11      bmi_class_overweight    0.005306\n",
       "6           region_northwest    0.005143\n",
       "5           region_northeast    0.004888\n",
       "7           region_southeast    0.004432\n",
       "1                        sex    0.003461\n",
       "10           bmi_class_obese    0.000000\n",
       "12     bmi_class_underweight    0.000000"
      ]
     },
     "execution_count": 53,
     "metadata": {},
     "output_type": "execute_result"
    }
   ],
   "source": [
    "feature_importance_df = pd.DataFrame({\n",
    "    'Feature':input_df.columns,\n",
    "    'Importance':model.feature_importances_\n",
    "})\n",
    "\n",
    "feature_importance_df.sort_values('Importance', ascending=False)"
   ]
  },
  {
   "cell_type": "code",
   "execution_count": 54,
   "id": "8f483ab5",
   "metadata": {
    "execution": {
     "iopub.execute_input": "2022-12-11T18:48:21.759369Z",
     "iopub.status.busy": "2022-12-11T18:48:21.758662Z",
     "iopub.status.idle": "2022-12-11T18:48:22.067143Z",
     "shell.execute_reply": "2022-12-11T18:48:22.066384Z"
    },
    "papermill": {
     "duration": 0.34159,
     "end_time": "2022-12-11T18:48:22.068898",
     "exception": false,
     "start_time": "2022-12-11T18:48:21.727308",
     "status": "completed"
    },
    "tags": []
   },
   "outputs": [
    {
     "data": {
      "image/png": "[encoded data removed]",
      "text/plain": [
       "<Figure size 1080x360 with 1 Axes>"
      ]
     },
     "metadata": {
      "needs_background": "light"
     },
     "output_type": "display_data"
    }
   ],
   "source": [
    "sns.barplot(data=feature_importance_df.sort_values('Importance', ascending=False), y='Feature', x='Importance');"
   ]
  },
  {
   "cell_type": "code",
   "execution_count": 55,
   "id": "96a6a73f",
   "metadata": {
    "execution": {
     "iopub.execute_input": "2022-12-11T18:48:22.139757Z",
     "iopub.status.busy": "2022-12-11T18:48:22.139046Z",
     "iopub.status.idle": "2022-12-11T18:48:22.145886Z",
     "shell.execute_reply": "2022-12-11T18:48:22.144730Z"
    },
    "papermill": {
     "duration": 0.046427,
     "end_time": "2022-12-11T18:48:22.148583",
     "exception": false,
     "start_time": "2022-12-11T18:48:22.102156",
     "status": "completed"
    },
    "tags": []
   },
   "outputs": [
    {
     "data": {
      "text/plain": [
       "15"
      ]
     },
     "execution_count": 55,
     "metadata": {},
     "output_type": "execute_result"
    }
   ],
   "source": [
    "model.best_ntree_limit"
   ]
  },
  {
   "cell_type": "code",
   "execution_count": 56,
   "id": "046ea6cd",
   "metadata": {
    "execution": {
     "iopub.execute_input": "2022-12-11T18:48:22.213454Z",
     "iopub.status.busy": "2022-12-11T18:48:22.212806Z",
     "iopub.status.idle": "2022-12-11T18:48:22.230110Z",
     "shell.execute_reply": "2022-12-11T18:48:22.229246Z"
    },
    "papermill": {
     "duration": 0.053426,
     "end_time": "2022-12-11T18:48:22.232362",
     "exception": false,
     "start_time": "2022-12-11T18:48:22.178936",
     "status": "completed"
    },
    "tags": []
   },
   "outputs": [
    {
     "name": "stdout",
     "output_type": "stream",
     "text": [
      "The R^2 Score for the Training Set is: 0.927759870682293\n",
      "The R^2 Score for the Validation Set is: 0.8947644525337313\n"
     ]
    }
   ],
   "source": [
    "from sklearn.metrics import r2_score\n",
    "\n",
    "print('The R^2 Score for the Training Set is: {}'.format(r2_score(y_train, model.predict(X_train))))\n",
    "print('The R^2 Score for the Validation Set is: {}'.format(r2_score(y_val, model.predict(X_val))))"
   ]
  },
  {
   "cell_type": "code",
   "execution_count": 57,
   "id": "6e57e337",
   "metadata": {
    "execution": {
     "iopub.execute_input": "2022-12-11T18:48:22.298931Z",
     "iopub.status.busy": "2022-12-11T18:48:22.298500Z",
     "iopub.status.idle": "2022-12-11T18:48:22.317091Z",
     "shell.execute_reply": "2022-12-11T18:48:22.315964Z"
    },
    "papermill": {
     "duration": 0.054472,
     "end_time": "2022-12-11T18:48:22.319191",
     "exception": false,
     "start_time": "2022-12-11T18:48:22.264719",
     "status": "completed"
    },
    "tags": []
   },
   "outputs": [
    {
     "name": "stdout",
     "output_type": "stream",
     "text": [
      "The RMSE is: 4397.4618212013975\n",
      "The NRMSE is: 0.07019254426919626\n"
     ]
    }
   ],
   "source": [
    "from sklearn.metrics import mean_squared_error\n",
    "\n",
    "rmse = mean_squared_error(y_val, model.predict(X_val), squared=False)\n",
    "\n",
    "nrmse = rmse/(max(target_df)-min(target_df))\n",
    "\n",
    "print('The RMSE is: {}'.format(rmse))\n",
    "print('The NRMSE is: {}'.format(nrmse))"
   ]
  },
  {
   "cell_type": "code",
   "execution_count": 58,
   "id": "d5c6ee3c",
   "metadata": {
    "execution": {
     "iopub.execute_input": "2022-12-11T18:48:22.382688Z",
     "iopub.status.busy": "2022-12-11T18:48:22.382306Z",
     "iopub.status.idle": "2022-12-11T18:48:22.397214Z",
     "shell.execute_reply": "2022-12-11T18:48:22.396369Z"
    },
    "papermill": {
     "duration": 0.048667,
     "end_time": "2022-12-11T18:48:22.399476",
     "exception": false,
     "start_time": "2022-12-11T18:48:22.350809",
     "status": "completed"
    },
    "tags": []
   },
   "outputs": [
    {
     "data": {
      "text/plain": [
       "array([ 8677.204,  6092.927, 13169.318, 38586.48 ,  5521.644,  9595.958,\n",
       "       39183.16 ,  2699.007,  8485.119, 10585.716], dtype=float32)"
      ]
     },
     "execution_count": 58,
     "metadata": {},
     "output_type": "execute_result"
    }
   ],
   "source": [
    "y_pred = model.predict(X_val)\n",
    "y_pred[:10]"
   ]
  },
  {
   "cell_type": "code",
   "execution_count": 59,
   "id": "7024bfd9",
   "metadata": {
    "execution": {
     "iopub.execute_input": "2022-12-11T18:48:22.465376Z",
     "iopub.status.busy": "2022-12-11T18:48:22.464965Z",
     "iopub.status.idle": "2022-12-11T18:48:22.473771Z",
     "shell.execute_reply": "2022-12-11T18:48:22.472196Z"
    },
    "papermill": {
     "duration": 0.045229,
     "end_time": "2022-12-11T18:48:22.476623",
     "exception": false,
     "start_time": "2022-12-11T18:48:22.431394",
     "status": "completed"
    },
    "tags": []
   },
   "outputs": [
    {
     "data": {
      "text/plain": [
       "900      8688.86\n",
       "1064     5708.87\n",
       "1256    11436.74\n",
       "298     38746.36\n",
       "237      4463.21\n",
       "481      9304.70\n",
       "240     38511.63\n",
       "277      2150.47\n",
       "415      7345.73\n",
       "707     10264.44\n",
       "Name: expenses, dtype: float64"
      ]
     },
     "execution_count": 59,
     "metadata": {},
     "output_type": "execute_result"
    }
   ],
   "source": [
    "y_val[:10]"
   ]
  },
  {
   "cell_type": "code",
   "execution_count": 60,
   "id": "289879c1",
   "metadata": {
    "execution": {
     "iopub.execute_input": "2022-12-11T18:48:22.542679Z",
     "iopub.status.busy": "2022-12-11T18:48:22.541433Z",
     "iopub.status.idle": "2022-12-11T18:48:23.022027Z",
     "shell.execute_reply": "2022-12-11T18:48:23.020507Z"
    },
    "papermill": {
     "duration": 0.516257,
     "end_time": "2022-12-11T18:48:23.025081",
     "exception": false,
     "start_time": "2022-12-11T18:48:22.508824",
     "status": "completed"
    },
    "tags": []
   },
   "outputs": [
    {
     "data": {
      "text/html": [
       "<div>\n",
       "<style scoped>\n",
       "    .dataframe tbody tr th:only-of-type {\n",
       "        vertical-align: middle;\n",
       "    }\n",
       "\n",
       "    .dataframe tbody tr th {\n",
       "        vertical-align: top;\n",
       "    }\n",
       "\n",
       "    .dataframe thead th {\n",
       "        text-align: right;\n",
       "    }\n",
       "</style>\n",
       "<table border=\"1\" class=\"dataframe\">\n",
       "  <thead>\n",
       "    <tr style=\"text-align: right;\">\n",
       "      <th></th>\n",
       "      <th>Max_Depth</th>\n",
       "      <th>Train_Rmse</th>\n",
       "      <th>Validation_Rmse</th>\n",
       "    </tr>\n",
       "  </thead>\n",
       "  <tbody>\n",
       "    <tr>\n",
       "      <th>2</th>\n",
       "      <td>3</td>\n",
       "      <td>4271.406270</td>\n",
       "      <td>4265.100109</td>\n",
       "    </tr>\n",
       "    <tr>\n",
       "      <th>3</th>\n",
       "      <td>4</td>\n",
       "      <td>4043.562041</td>\n",
       "      <td>4312.844826</td>\n",
       "    </tr>\n",
       "    <tr>\n",
       "      <th>4</th>\n",
       "      <td>5</td>\n",
       "      <td>3797.497186</td>\n",
       "      <td>4352.429307</td>\n",
       "    </tr>\n",
       "    <tr>\n",
       "      <th>5</th>\n",
       "      <td>6</td>\n",
       "      <td>3266.440263</td>\n",
       "      <td>4404.403838</td>\n",
       "    </tr>\n",
       "    <tr>\n",
       "      <th>1</th>\n",
       "      <td>2</td>\n",
       "      <td>4469.284404</td>\n",
       "      <td>4424.018062</td>\n",
       "    </tr>\n",
       "  </tbody>\n",
       "</table>\n",
       "</div>"
      ],
      "text/plain": [
       "   Max_Depth   Train_Rmse  Validation_Rmse\n",
       "2          3  4271.406270      4265.100109\n",
       "3          4  4043.562041      4312.844826\n",
       "4          5  3797.497186      4352.429307\n",
       "5          6  3266.440263      4404.403838\n",
       "1          2  4469.284404      4424.018062"
      ]
     },
     "execution_count": 60,
     "metadata": {},
     "output_type": "execute_result"
    }
   ],
   "source": [
    "def optimal_max_depth(number):\n",
    "    max_depth_model = XGBRegressor(n_jobs=-1, n_estimators=13, max_depth=number ,random_state=42)\n",
    "    max_depth_model.fit(X_train, y_train)\n",
    "    train_rmse = mean_squared_error(y_train, max_depth_model.predict(X_train), squared=False)\n",
    "    val_rmse = mean_squared_error(y_val, max_depth_model.predict(X_val), squared=False)\n",
    "    return {'Max_Depth':number, 'Train_Rmse':train_rmse, 'Validation_Rmse':val_rmse}\n",
    "\n",
    "max_depth_df = pd.DataFrame([optimal_max_depth(number) for number in range(1,10)]).sort_values('Validation_Rmse')\n",
    "max_depth_df.head()"
   ]
  },
  {
   "cell_type": "code",
   "execution_count": 61,
   "id": "17944e92",
   "metadata": {
    "execution": {
     "iopub.execute_input": "2022-12-11T18:48:23.095152Z",
     "iopub.status.busy": "2022-12-11T18:48:23.094712Z",
     "iopub.status.idle": "2022-12-11T18:48:23.367572Z",
     "shell.execute_reply": "2022-12-11T18:48:23.365725Z"
    },
    "papermill": {
     "duration": 0.310143,
     "end_time": "2022-12-11T18:48:23.370340",
     "exception": false,
     "start_time": "2022-12-11T18:48:23.060197",
     "status": "completed"
    },
    "tags": []
   },
   "outputs": [
    {
     "data": {
      "image/png": "[encoded data removed]",
      "text/plain": [
       "<Figure size 1080x360 with 1 Axes>"
      ]
     },
     "metadata": {
      "needs_background": "light"
     },
     "output_type": "display_data"
    }
   ],
   "source": [
    "sns.lineplot(data=max_depth_df, x='Max_Depth', y='Train_Rmse')\n",
    "sns.lineplot(data=max_depth_df, x='Max_Depth', y='Validation_Rmse')\n",
    "plt.ylabel('Train and Validation RMSE');"
   ]
  },
  {
   "cell_type": "code",
   "execution_count": 62,
   "id": "26bd0384",
   "metadata": {
    "execution": {
     "iopub.execute_input": "2022-12-11T18:48:23.437181Z",
     "iopub.status.busy": "2022-12-11T18:48:23.436803Z",
     "iopub.status.idle": "2022-12-11T18:48:23.444740Z",
     "shell.execute_reply": "2022-12-11T18:48:23.442790Z"
    },
    "papermill": {
     "duration": 0.043574,
     "end_time": "2022-12-11T18:48:23.447816",
     "exception": false,
     "start_time": "2022-12-11T18:48:23.404242",
     "status": "completed"
    },
    "tags": []
   },
   "outputs": [],
   "source": [
    "def optimal_learning_rate(number):\n",
    "    model = XGBRegressor(n_jobs=-1, n_estimators=13, max_depth=3, learning_rate=number, random_state=42)\n",
    "    model.fit(X_train, y_train)\n",
    "    train_rmse = mean_squared_error(y_train, model.predict(X_train), squared=False)\n",
    "    val_rmse = mean_squared_error(y_val, model.predict(X_val), squared=False)\n",
    "    return {'Learning_Rate':number, 'Train_Rmse':train_rmse, 'Validation_Rmse':val_rmse}"
   ]
  },
  {
   "cell_type": "code",
   "execution_count": 63,
   "id": "94f738ec",
   "metadata": {
    "execution": {
     "iopub.execute_input": "2022-12-11T18:48:23.518387Z",
     "iopub.status.busy": "2022-12-11T18:48:23.517961Z",
     "iopub.status.idle": "2022-12-11T18:48:24.388880Z",
     "shell.execute_reply": "2022-12-11T18:48:24.387690Z"
    },
    "papermill": {
     "duration": 0.910316,
     "end_time": "2022-12-11T18:48:24.391181",
     "exception": false,
     "start_time": "2022-12-11T18:48:23.480865",
     "status": "completed"
    },
    "tags": []
   },
   "outputs": [
    {
     "data": {
      "text/html": [
       "<div>\n",
       "<style scoped>\n",
       "    .dataframe tbody tr th:only-of-type {\n",
       "        vertical-align: middle;\n",
       "    }\n",
       "\n",
       "    .dataframe tbody tr th {\n",
       "        vertical-align: top;\n",
       "    }\n",
       "\n",
       "    .dataframe thead th {\n",
       "        text-align: right;\n",
       "    }\n",
       "</style>\n",
       "<table border=\"1\" class=\"dataframe\">\n",
       "  <thead>\n",
       "    <tr style=\"text-align: right;\">\n",
       "      <th></th>\n",
       "      <th>Learning_Rate</th>\n",
       "      <th>Train_Rmse</th>\n",
       "      <th>Validation_Rmse</th>\n",
       "    </tr>\n",
       "  </thead>\n",
       "  <tbody>\n",
       "    <tr>\n",
       "      <th>8</th>\n",
       "      <td>0.50</td>\n",
       "      <td>4081.071547</td>\n",
       "      <td>4202.048580</td>\n",
       "    </tr>\n",
       "    <tr>\n",
       "      <th>5</th>\n",
       "      <td>0.35</td>\n",
       "      <td>4227.204655</td>\n",
       "      <td>4248.222100</td>\n",
       "    </tr>\n",
       "    <tr>\n",
       "      <th>6</th>\n",
       "      <td>0.40</td>\n",
       "      <td>4188.311246</td>\n",
       "      <td>4250.822552</td>\n",
       "    </tr>\n",
       "    <tr>\n",
       "      <th>7</th>\n",
       "      <td>0.45</td>\n",
       "      <td>4135.376780</td>\n",
       "      <td>4264.840282</td>\n",
       "    </tr>\n",
       "    <tr>\n",
       "      <th>4</th>\n",
       "      <td>0.30</td>\n",
       "      <td>4271.406270</td>\n",
       "      <td>4265.100109</td>\n",
       "    </tr>\n",
       "  </tbody>\n",
       "</table>\n",
       "</div>"
      ],
      "text/plain": [
       "   Learning_Rate   Train_Rmse  Validation_Rmse\n",
       "8           0.50  4081.071547      4202.048580\n",
       "5           0.35  4227.204655      4248.222100\n",
       "6           0.40  4188.311246      4250.822552\n",
       "7           0.45  4135.376780      4264.840282\n",
       "4           0.30  4271.406270      4265.100109"
      ]
     },
     "execution_count": 63,
     "metadata": {},
     "output_type": "execute_result"
    }
   ],
   "source": [
    "learning_rate_df = pd.DataFrame([optimal_learning_rate(number) for number in np.arange(0.1,1,0.05)]).sort_values('Validation_Rmse')\n",
    "learning_rate_df.head()"
   ]
  },
  {
   "cell_type": "code",
   "execution_count": 64,
   "id": "7a5518e1",
   "metadata": {
    "execution": {
     "iopub.execute_input": "2022-12-11T18:48:24.462894Z",
     "iopub.status.busy": "2022-12-11T18:48:24.461630Z",
     "iopub.status.idle": "2022-12-11T18:48:24.710855Z",
     "shell.execute_reply": "2022-12-11T18:48:24.709886Z"
    },
    "papermill": {
     "duration": 0.288339,
     "end_time": "2022-12-11T18:48:24.713614",
     "exception": false,
     "start_time": "2022-12-11T18:48:24.425275",
     "status": "completed"
    },
    "tags": []
   },
   "outputs": [
    {
     "data": {
      "image/png": "[encoded data removed]",
      "text/plain": [
       "<Figure size 1080x360 with 1 Axes>"
      ]
     },
     "metadata": {
      "needs_background": "light"
     },
     "output_type": "display_data"
    }
   ],
   "source": [
    "sns.lineplot(data=learning_rate_df, x='Learning_Rate', y='Train_Rmse')\n",
    "sns.lineplot(data=learning_rate_df, x='Learning_Rate', y='Validation_Rmse')\n",
    "plt.ylabel('Train and Validation RMSE');"
   ]
  },
  {
   "cell_type": "code",
   "execution_count": 65,
   "id": "568b87a2",
   "metadata": {
    "execution": {
     "iopub.execute_input": "2022-12-11T18:48:24.779148Z",
     "iopub.status.busy": "2022-12-11T18:48:24.778699Z",
     "iopub.status.idle": "2022-12-11T18:48:25.209159Z",
     "shell.execute_reply": "2022-12-11T18:48:25.207652Z"
    },
    "papermill": {
     "duration": 0.466856,
     "end_time": "2022-12-11T18:48:25.212509",
     "exception": false,
     "start_time": "2022-12-11T18:48:24.745653",
     "status": "completed"
    },
    "tags": []
   },
   "outputs": [
    {
     "data": {
      "text/html": [
       "<div>\n",
       "<style scoped>\n",
       "    .dataframe tbody tr th:only-of-type {\n",
       "        vertical-align: middle;\n",
       "    }\n",
       "\n",
       "    .dataframe tbody tr th {\n",
       "        vertical-align: top;\n",
       "    }\n",
       "\n",
       "    .dataframe thead th {\n",
       "        text-align: right;\n",
       "    }\n",
       "</style>\n",
       "<table border=\"1\" class=\"dataframe\">\n",
       "  <thead>\n",
       "    <tr style=\"text-align: right;\">\n",
       "      <th></th>\n",
       "      <th>Min_Child_Weight</th>\n",
       "      <th>Train_Rmse</th>\n",
       "      <th>Validation_Rmse</th>\n",
       "    </tr>\n",
       "  </thead>\n",
       "  <tbody>\n",
       "    <tr>\n",
       "      <th>6</th>\n",
       "      <td>6</td>\n",
       "      <td>4249.598930</td>\n",
       "      <td>4206.040643</td>\n",
       "    </tr>\n",
       "    <tr>\n",
       "      <th>8</th>\n",
       "      <td>8</td>\n",
       "      <td>4255.007490</td>\n",
       "      <td>4208.817581</td>\n",
       "    </tr>\n",
       "    <tr>\n",
       "      <th>7</th>\n",
       "      <td>7</td>\n",
       "      <td>4256.179827</td>\n",
       "      <td>4209.158505</td>\n",
       "    </tr>\n",
       "    <tr>\n",
       "      <th>9</th>\n",
       "      <td>9</td>\n",
       "      <td>4258.171695</td>\n",
       "      <td>4213.292376</td>\n",
       "    </tr>\n",
       "    <tr>\n",
       "      <th>2</th>\n",
       "      <td>2</td>\n",
       "      <td>4242.853470</td>\n",
       "      <td>4219.702207</td>\n",
       "    </tr>\n",
       "  </tbody>\n",
       "</table>\n",
       "</div>"
      ],
      "text/plain": [
       "   Min_Child_Weight   Train_Rmse  Validation_Rmse\n",
       "6                 6  4249.598930      4206.040643\n",
       "8                 8  4255.007490      4208.817581\n",
       "7                 7  4256.179827      4209.158505\n",
       "9                 9  4258.171695      4213.292376\n",
       "2                 2  4242.853470      4219.702207"
      ]
     },
     "execution_count": 65,
     "metadata": {},
     "output_type": "execute_result"
    }
   ],
   "source": [
    "def optimal_child_weight(number):\n",
    "    model = XGBRegressor(n_jobs=-1, n_estimators=13, max_depth=3, learning_rate=0.35, min_child_weight=number ,random_state=42)\n",
    "    model.fit(X_train, y_train)\n",
    "    train_rmse = mean_squared_error(y_train, model.predict(X_train), squared=False)\n",
    "    val_rmse = mean_squared_error(y_val, model.predict(X_val), squared=False)\n",
    "    return {'Min_Child_Weight':number, 'Train_Rmse':train_rmse, 'Validation_Rmse':val_rmse}\n",
    "\n",
    "child_weight_df = pd.DataFrame([optimal_child_weight(number) for number in range(0,10)]).sort_values('Validation_Rmse')\n",
    "child_weight_df.head()\n"
   ]
  },
  {
   "cell_type": "code",
   "execution_count": 66,
   "id": "910e1de5",
   "metadata": {
    "execution": {
     "iopub.execute_input": "2022-12-11T18:48:25.281677Z",
     "iopub.status.busy": "2022-12-11T18:48:25.281250Z",
     "iopub.status.idle": "2022-12-11T18:48:25.790290Z",
     "shell.execute_reply": "2022-12-11T18:48:25.788874Z"
    },
    "papermill": {
     "duration": 0.546025,
     "end_time": "2022-12-11T18:48:25.793286",
     "exception": false,
     "start_time": "2022-12-11T18:48:25.247261",
     "status": "completed"
    },
    "tags": []
   },
   "outputs": [
    {
     "data": {
      "image/png": "[encoded data removed]",
      "text/plain": [
       "<Figure size 1080x360 with 1 Axes>"
      ]
     },
     "metadata": {
      "needs_background": "light"
     },
     "output_type": "display_data"
    }
   ],
   "source": [
    "sns.lineplot(data=child_weight_df, x='Min_Child_Weight', y='Train_Rmse')\n",
    "sns.lineplot(data=child_weight_df, x='Min_Child_Weight', y='Validation_Rmse')\n",
    "plt.ylabel('Train and Validation RMSE');"
   ]
  },
  {
   "cell_type": "code",
   "execution_count": 67,
   "id": "b7eb1aaa",
   "metadata": {
    "execution": {
     "iopub.execute_input": "2022-12-11T18:48:25.865025Z",
     "iopub.status.busy": "2022-12-11T18:48:25.864250Z",
     "iopub.status.idle": "2022-12-11T18:48:25.911554Z",
     "shell.execute_reply": "2022-12-11T18:48:25.910160Z"
    },
    "papermill": {
     "duration": 0.086993,
     "end_time": "2022-12-11T18:48:25.913879",
     "exception": false,
     "start_time": "2022-12-11T18:48:25.826886",
     "status": "completed"
    },
    "tags": []
   },
   "outputs": [
    {
     "data": {
      "text/plain": [
       "XGBRegressor(base_score=0.5, booster='gbtree', callbacks=None,\n",
       "             colsample_bylevel=1, colsample_bynode=1, colsample_bytree=1,\n",
       "             early_stopping_rounds=None, enable_categorical=False,\n",
       "             eval_metric=None, gamma=0, gpu_id=-1, grow_policy='depthwise',\n",
       "             importance_type=None, interaction_constraints='',\n",
       "             learning_rate=0.35, max_bin=256, max_cat_to_onehot=4,\n",
       "             max_delta_step=0, max_depth=3, max_leaves=0, min_child_weight=8,\n",
       "             missing=nan, monotone_constraints='()', n_estimators=13, n_jobs=-1,\n",
       "             num_parallel_tree=1, predictor='auto', random_state=42,\n",
       "             reg_alpha=0, reg_lambda=1, ...)"
      ]
     },
     "execution_count": 67,
     "metadata": {},
     "output_type": "execute_result"
    }
   ],
   "source": [
    "final_model = XGBRegressor(n_jobs=-1, n_estimators=13, max_depth=3, learning_rate=0.35, min_child_weight=8, random_state=42)\n",
    "final_model.fit(X_train, y_train)"
   ]
  },
  {
   "cell_type": "code",
   "execution_count": 68,
   "id": "b36ea101",
   "metadata": {
    "execution": {
     "iopub.execute_input": "2022-12-11T18:48:25.986314Z",
     "iopub.status.busy": "2022-12-11T18:48:25.985889Z",
     "iopub.status.idle": "2022-12-11T18:48:26.008008Z",
     "shell.execute_reply": "2022-12-11T18:48:26.007145Z"
    },
    "papermill": {
     "duration": 0.064042,
     "end_time": "2022-12-11T18:48:26.010483",
     "exception": false,
     "start_time": "2022-12-11T18:48:25.946441",
     "status": "completed"
    },
    "tags": []
   },
   "outputs": [
    {
     "name": "stdout",
     "output_type": "stream",
     "text": [
      "The R^2 Score for the Training Set is: 0.8677637036700018\n",
      "The R^2 Score for the Validation Set is: 0.9035996711761605\n"
     ]
    }
   ],
   "source": [
    "print('The R^2 Score for the Training Set is: {}'.format(r2_score(y_train, final_model.predict(X_train))))\n",
    "print('The R^2 Score for the Validation Set is: {}'.format(r2_score(y_val, final_model.predict(X_val))))"
   ]
  },
  {
   "cell_type": "code",
   "execution_count": 69,
   "id": "a199b813",
   "metadata": {
    "execution": {
     "iopub.execute_input": "2022-12-11T18:48:26.083899Z",
     "iopub.status.busy": "2022-12-11T18:48:26.083440Z",
     "iopub.status.idle": "2022-12-11T18:48:26.100190Z",
     "shell.execute_reply": "2022-12-11T18:48:26.098791Z"
    },
    "papermill": {
     "duration": 0.057,
     "end_time": "2022-12-11T18:48:26.102944",
     "exception": false,
     "start_time": "2022-12-11T18:48:26.045944",
     "status": "completed"
    },
    "tags": []
   },
   "outputs": [
    {
     "name": "stdout",
     "output_type": "stream",
     "text": [
      "The RMSE is: 4208.817580609396\n",
      "The NRMSE is: 0.06718139380393413\n"
     ]
    }
   ],
   "source": [
    "rmse = mean_squared_error(y_val, final_model.predict(X_val), squared=False)\n",
    "\n",
    "nrmse = rmse/(max(target_df)-min(target_df))\n",
    "\n",
    "print('The RMSE is: {}'.format(rmse))\n",
    "print('The NRMSE is: {}'.format(nrmse))"
   ]
  },
  {
   "cell_type": "code",
   "execution_count": 70,
   "id": "1abd314a",
   "metadata": {
    "execution": {
     "iopub.execute_input": "2022-12-11T18:48:26.173782Z",
     "iopub.status.busy": "2022-12-11T18:48:26.173346Z",
     "iopub.status.idle": "2022-12-11T18:48:26.181734Z",
     "shell.execute_reply": "2022-12-11T18:48:26.180328Z"
    },
    "papermill": {
     "duration": 0.045555,
     "end_time": "2022-12-11T18:48:26.183616",
     "exception": false,
     "start_time": "2022-12-11T18:48:26.138061",
     "status": "completed"
    },
    "tags": []
   },
   "outputs": [],
   "source": [
    "def make_new_predictions(single_input):\n",
    "    single_input_df = pd.DataFrame([single_input])\n",
    "    single_input_df['bmi_class']=single_input_df.bmi.map(bmi_estimator)\n",
    "    single_input_df['sex'] = single_input_df.sex.map(sex_dict)\n",
    "    single_input_df['smoker'] = single_input_df.smoker.map(smoker_dict)\n",
    "    single_input_df[encoded_cols] = encoder.transform(single_input_df[columns_to_encode]) \n",
    "    single_input_df[columns_to_scale] = scaler.transform(single_input_df[columns_to_scale])\n",
    "    single_input_df = single_input_df.drop(columns=['region', 'bmi_class'])\n",
    "    pred = final_model.predict(single_input_df)[0]\n",
    "    return 'The charge is: ${}'.format(pred)"
   ]
  },
  {
   "cell_type": "code",
   "execution_count": 71,
   "id": "1f631ae9",
   "metadata": {
    "execution": {
     "iopub.execute_input": "2022-12-11T18:48:26.257152Z",
     "iopub.status.busy": "2022-12-11T18:48:26.256492Z",
     "iopub.status.idle": "2022-12-11T18:48:26.260859Z",
     "shell.execute_reply": "2022-12-11T18:48:26.260120Z"
    },
    "papermill": {
     "duration": 0.043251,
     "end_time": "2022-12-11T18:48:26.262866",
     "exception": false,
     "start_time": "2022-12-11T18:48:26.219615",
     "status": "completed"
    },
    "tags": []
   },
   "outputs": [],
   "source": [
    "new_input = {\n",
    "    'age':23,\n",
    "    'sex':'male',\n",
    "    'bmi':28.1,\n",
    "    'children':0,\n",
    "    'smoker':'no',\n",
    "    'region':'northwest'\n",
    "}"
   ]
  },
  {
   "cell_type": "code",
   "execution_count": 72,
   "id": "96bbda42",
   "metadata": {
    "execution": {
     "iopub.execute_input": "2022-12-11T18:48:26.330186Z",
     "iopub.status.busy": "2022-12-11T18:48:26.329486Z",
     "iopub.status.idle": "2022-12-11T18:48:26.352816Z",
     "shell.execute_reply": "2022-12-11T18:48:26.352022Z"
    },
    "papermill": {
     "duration": 0.059615,
     "end_time": "2022-12-11T18:48:26.355346",
     "exception": false,
     "start_time": "2022-12-11T18:48:26.295731",
     "status": "completed"
    },
    "tags": []
   },
   "outputs": [
    {
     "data": {
      "text/plain": [
       "'The charge is: $4237.494140625'"
      ]
     },
     "execution_count": 72,
     "metadata": {},
     "output_type": "execute_result"
    }
   ],
   "source": [
    "make_new_predictions(new_input)"
   ]
  },
  {
   "cell_type": "code",
   "execution_count": 73,
   "id": "b7bd3160",
   "metadata": {
    "execution": {
     "iopub.execute_input": "2022-12-11T18:48:26.427804Z",
     "iopub.status.busy": "2022-12-11T18:48:26.426648Z",
     "iopub.status.idle": "2022-12-11T18:48:32.592703Z",
     "shell.execute_reply": "2022-12-11T18:48:32.590773Z"
    },
    "papermill": {
     "duration": 6.205238,
     "end_time": "2022-12-11T18:48:32.595578",
     "exception": false,
     "start_time": "2022-12-11T18:48:26.390340",
     "status": "completed"
    },
    "tags": []
   },
   "outputs": [],
   "source": [
    "import tensorflow as tfl\n",
    "from tensorflow import keras"
   ]
  },
  {
   "cell_type": "code",
   "execution_count": 74,
   "id": "27fd781a",
   "metadata": {
    "execution": {
     "iopub.execute_input": "2022-12-11T18:48:32.671598Z",
     "iopub.status.busy": "2022-12-11T18:48:32.670799Z",
     "iopub.status.idle": "2022-12-11T18:48:41.357084Z",
     "shell.execute_reply": "2022-12-11T18:48:41.355653Z"
    },
    "papermill": {
     "duration": 8.726007,
     "end_time": "2022-12-11T18:48:41.360199",
     "exception": false,
     "start_time": "2022-12-11T18:48:32.634192",
     "status": "completed"
    },
    "tags": []
   },
   "outputs": [
    {
     "name": "stderr",
     "output_type": "stream",
     "text": [
      "2022-12-11 18:48:34.566108: I tensorflow/core/common_runtime/process_util.cc:146] Creating new thread pool with default inter op setting: 2. Tune using inter_op_parallelism_threads for best performance.\n",
      "2022-12-11 18:48:34.764240: I tensorflow/compiler/mlir/mlir_graph_optimization_pass.cc:185] None of the MLIR Optimization Passes are enabled (registered 2)\n"
     ]
    },
    {
     "name": "stdout",
     "output_type": "stream",
     "text": [
      "Epoch 1/100\n",
      "34/34 [==============================] - 1s 1ms/step - loss: 232053056.0000 - root_mean_squared_error: 15233.2881\n",
      "Epoch 2/100\n",
      "34/34 [==============================] - 0s 2ms/step - loss: 160900464.0000 - root_mean_squared_error: 12684.6543\n",
      "Epoch 3/100\n",
      "34/34 [==============================] - 0s 2ms/step - loss: 142965968.0000 - root_mean_squared_error: 11956.8379\n",
      "Epoch 4/100\n",
      "34/34 [==============================] - 0s 1ms/step - loss: 138368992.0000 - root_mean_squared_error: 11763.0352\n",
      "Epoch 5/100\n",
      "34/34 [==============================] - 0s 2ms/step - loss: 137301728.0000 - root_mean_squared_error: 11717.5820\n",
      "Epoch 6/100\n",
      "34/34 [==============================] - 0s 2ms/step - loss: 137053904.0000 - root_mean_squared_error: 11707.0020\n",
      "Epoch 7/100\n",
      "34/34 [==============================] - 0s 1ms/step - loss: 137042544.0000 - root_mean_squared_error: 11706.5176\n",
      "Epoch 8/100\n",
      "34/34 [==============================] - 0s 1ms/step - loss: 137073248.0000 - root_mean_squared_error: 11707.8281\n",
      "Epoch 9/100\n",
      "34/34 [==============================] - 0s 1ms/step - loss: 136998080.0000 - root_mean_squared_error: 11704.6182\n",
      "Epoch 10/100\n",
      "34/34 [==============================] - 0s 1ms/step - loss: 136997536.0000 - root_mean_squared_error: 11704.5947\n",
      "Epoch 11/100\n",
      "34/34 [==============================] - 0s 2ms/step - loss: 136986944.0000 - root_mean_squared_error: 11704.1426\n",
      "Epoch 12/100\n",
      "34/34 [==============================] - 0s 2ms/step - loss: 136969088.0000 - root_mean_squared_error: 11703.3789\n",
      "Epoch 13/100\n",
      "34/34 [==============================] - 0s 1ms/step - loss: 137017056.0000 - root_mean_squared_error: 11705.4287\n",
      "Epoch 14/100\n",
      "34/34 [==============================] - 0s 1ms/step - loss: 136971184.0000 - root_mean_squared_error: 11703.4688\n",
      "Epoch 15/100\n",
      "34/34 [==============================] - 0s 1ms/step - loss: 136979632.0000 - root_mean_squared_error: 11703.8301\n",
      "Epoch 16/100\n",
      "34/34 [==============================] - 0s 1ms/step - loss: 136982416.0000 - root_mean_squared_error: 11703.9492\n",
      "Epoch 17/100\n",
      "34/34 [==============================] - 0s 1ms/step - loss: 136985600.0000 - root_mean_squared_error: 11704.0850\n",
      "Epoch 18/100\n",
      "34/34 [==============================] - 0s 1ms/step - loss: 137004000.0000 - root_mean_squared_error: 11704.8711\n",
      "Epoch 19/100\n",
      "34/34 [==============================] - 0s 2ms/step - loss: 136979040.0000 - root_mean_squared_error: 11703.8047\n",
      "Epoch 20/100\n",
      "34/34 [==============================] - 0s 2ms/step - loss: 136985296.0000 - root_mean_squared_error: 11704.0713\n",
      "Epoch 21/100\n",
      "34/34 [==============================] - 0s 2ms/step - loss: 136975616.0000 - root_mean_squared_error: 11703.6582\n",
      "Epoch 22/100\n",
      "34/34 [==============================] - 0s 2ms/step - loss: 137011232.0000 - root_mean_squared_error: 11705.1797\n",
      "Epoch 23/100\n",
      "34/34 [==============================] - 0s 1ms/step - loss: 136966288.0000 - root_mean_squared_error: 11703.2598\n",
      "Epoch 24/100\n",
      "34/34 [==============================] - 0s 1ms/step - loss: 136980224.0000 - root_mean_squared_error: 11703.8555\n",
      "Epoch 25/100\n",
      "34/34 [==============================] - 0s 1ms/step - loss: 137039104.0000 - root_mean_squared_error: 11706.3701\n",
      "Epoch 26/100\n",
      "34/34 [==============================] - 0s 2ms/step - loss: 136979440.0000 - root_mean_squared_error: 11703.8213\n",
      "Epoch 27/100\n",
      "34/34 [==============================] - 0s 1ms/step - loss: 136966400.0000 - root_mean_squared_error: 11703.2646\n",
      "Epoch 28/100\n",
      "34/34 [==============================] - 0s 1ms/step - loss: 137003648.0000 - root_mean_squared_error: 11704.8555\n",
      "Epoch 29/100\n",
      "34/34 [==============================] - 0s 1ms/step - loss: 136976240.0000 - root_mean_squared_error: 11703.6846\n",
      "Epoch 30/100\n",
      "34/34 [==============================] - 0s 1ms/step - loss: 136991472.0000 - root_mean_squared_error: 11704.3359\n",
      "Epoch 31/100\n",
      "34/34 [==============================] - 0s 2ms/step - loss: 136994368.0000 - root_mean_squared_error: 11704.4590\n",
      "Epoch 32/100\n",
      "34/34 [==============================] - 0s 2ms/step - loss: 137031936.0000 - root_mean_squared_error: 11706.0645\n",
      "Epoch 33/100\n",
      "34/34 [==============================] - 0s 2ms/step - loss: 136982240.0000 - root_mean_squared_error: 11703.9414\n",
      "Epoch 34/100\n",
      "34/34 [==============================] - 0s 1ms/step - loss: 137021072.0000 - root_mean_squared_error: 11705.5996\n",
      "Epoch 35/100\n",
      "34/34 [==============================] - 0s 1ms/step - loss: 136996352.0000 - root_mean_squared_error: 11704.5439\n",
      "Epoch 36/100\n",
      "34/34 [==============================] - 0s 2ms/step - loss: 137016832.0000 - root_mean_squared_error: 11705.4189\n",
      "Epoch 37/100\n",
      "34/34 [==============================] - 0s 2ms/step - loss: 137001184.0000 - root_mean_squared_error: 11704.7510\n",
      "Epoch 38/100\n",
      "34/34 [==============================] - 0s 2ms/step - loss: 137000912.0000 - root_mean_squared_error: 11704.7393\n",
      "Epoch 39/100\n",
      "34/34 [==============================] - 0s 2ms/step - loss: 136984032.0000 - root_mean_squared_error: 11704.0176\n",
      "Epoch 40/100\n",
      "34/34 [==============================] - 0s 1ms/step - loss: 137011952.0000 - root_mean_squared_error: 11705.2109\n",
      "Epoch 41/100\n",
      "34/34 [==============================] - 0s 2ms/step - loss: 137024544.0000 - root_mean_squared_error: 11705.7480\n",
      "Epoch 42/100\n",
      "34/34 [==============================] - 0s 2ms/step - loss: 136999056.0000 - root_mean_squared_error: 11704.6592\n",
      "Epoch 43/100\n",
      "34/34 [==============================] - 0s 1ms/step - loss: 136961856.0000 - root_mean_squared_error: 11703.0703\n",
      "Epoch 44/100\n",
      "34/34 [==============================] - 0s 2ms/step - loss: 136987408.0000 - root_mean_squared_error: 11704.1621\n",
      "Epoch 45/100\n",
      "34/34 [==============================] - 0s 1ms/step - loss: 136997104.0000 - root_mean_squared_error: 11704.5762\n",
      "Epoch 46/100\n",
      "34/34 [==============================] - 0s 2ms/step - loss: 136999648.0000 - root_mean_squared_error: 11704.6846\n",
      "Epoch 47/100\n",
      "34/34 [==============================] - 0s 2ms/step - loss: 136967360.0000 - root_mean_squared_error: 11703.3057\n",
      "Epoch 48/100\n",
      "34/34 [==============================] - 0s 4ms/step - loss: 136988800.0000 - root_mean_squared_error: 11704.2217\n",
      "Epoch 49/100\n",
      "34/34 [==============================] - 0s 2ms/step - loss: 136999040.0000 - root_mean_squared_error: 11704.6592\n",
      "Epoch 50/100\n",
      "34/34 [==============================] - 0s 1ms/step - loss: 137027952.0000 - root_mean_squared_error: 11705.8936\n",
      "Epoch 51/100\n",
      "34/34 [==============================] - 0s 1ms/step - loss: 137003856.0000 - root_mean_squared_error: 11704.8643\n",
      "Epoch 52/100\n",
      "34/34 [==============================] - 0s 2ms/step - loss: 136990400.0000 - root_mean_squared_error: 11704.2900\n",
      "Epoch 53/100\n",
      "34/34 [==============================] - 0s 2ms/step - loss: 136988576.0000 - root_mean_squared_error: 11704.2119\n",
      "Epoch 54/100\n",
      "34/34 [==============================] - 0s 1ms/step - loss: 137003472.0000 - root_mean_squared_error: 11704.8486\n",
      "Epoch 55/100\n",
      "34/34 [==============================] - 0s 1ms/step - loss: 136999376.0000 - root_mean_squared_error: 11704.6729\n",
      "Epoch 56/100\n",
      "34/34 [==============================] - 0s 2ms/step - loss: 136994960.0000 - root_mean_squared_error: 11704.4844\n",
      "Epoch 57/100\n",
      "34/34 [==============================] - 0s 1ms/step - loss: 136982880.0000 - root_mean_squared_error: 11703.9688\n",
      "Epoch 58/100\n",
      "34/34 [==============================] - 0s 1ms/step - loss: 136976704.0000 - root_mean_squared_error: 11703.7051\n",
      "Epoch 59/100\n",
      "34/34 [==============================] - 0s 1ms/step - loss: 137007024.0000 - root_mean_squared_error: 11705.0000\n",
      "Epoch 60/100\n",
      "34/34 [==============================] - 0s 2ms/step - loss: 137011856.0000 - root_mean_squared_error: 11705.2061\n",
      "Epoch 61/100\n",
      "34/34 [==============================] - 0s 2ms/step - loss: 136988448.0000 - root_mean_squared_error: 11704.2061\n",
      "Epoch 62/100\n",
      "34/34 [==============================] - 0s 2ms/step - loss: 136971840.0000 - root_mean_squared_error: 11703.4971\n",
      "Epoch 63/100\n",
      "34/34 [==============================] - 0s 2ms/step - loss: 136976784.0000 - root_mean_squared_error: 11703.7080\n",
      "Epoch 64/100\n",
      "34/34 [==============================] - 0s 3ms/step - loss: 136969248.0000 - root_mean_squared_error: 11703.3857\n",
      "Epoch 65/100\n",
      "34/34 [==============================] - 0s 2ms/step - loss: 137002208.0000 - root_mean_squared_error: 11704.7939\n",
      "Epoch 66/100\n",
      "34/34 [==============================] - 0s 2ms/step - loss: 137012256.0000 - root_mean_squared_error: 11705.2236\n",
      "Epoch 67/100\n",
      "34/34 [==============================] - 0s 2ms/step - loss: 137028320.0000 - root_mean_squared_error: 11705.9092\n",
      "Epoch 68/100\n",
      "34/34 [==============================] - 0s 2ms/step - loss: 136985712.0000 - root_mean_squared_error: 11704.0898\n",
      "Epoch 69/100\n",
      "34/34 [==============================] - 0s 2ms/step - loss: 137010176.0000 - root_mean_squared_error: 11705.1348\n",
      "Epoch 70/100\n",
      "34/34 [==============================] - 0s 2ms/step - loss: 137005056.0000 - root_mean_squared_error: 11704.9160\n",
      "Epoch 71/100\n",
      "34/34 [==============================] - 0s 2ms/step - loss: 137006944.0000 - root_mean_squared_error: 11704.9961\n",
      "Epoch 72/100\n",
      "34/34 [==============================] - 0s 2ms/step - loss: 137000128.0000 - root_mean_squared_error: 11704.7051\n",
      "Epoch 73/100\n",
      "34/34 [==============================] - 0s 1ms/step - loss: 136999312.0000 - root_mean_squared_error: 11704.6709\n",
      "Epoch 74/100\n",
      "34/34 [==============================] - 0s 1ms/step - loss: 136985200.0000 - root_mean_squared_error: 11704.0674\n",
      "Epoch 75/100\n",
      "34/34 [==============================] - 0s 2ms/step - loss: 137014592.0000 - root_mean_squared_error: 11705.3232\n",
      "Epoch 76/100\n",
      "34/34 [==============================] - 0s 2ms/step - loss: 137014512.0000 - root_mean_squared_error: 11705.3193\n",
      "Epoch 77/100\n",
      "34/34 [==============================] - 0s 2ms/step - loss: 137000000.0000 - root_mean_squared_error: 11704.7002\n",
      "Epoch 78/100\n",
      "34/34 [==============================] - 0s 2ms/step - loss: 137008032.0000 - root_mean_squared_error: 11705.0430\n",
      "Epoch 79/100\n",
      "34/34 [==============================] - 0s 1ms/step - loss: 136970528.0000 - root_mean_squared_error: 11703.4404\n",
      "Epoch 80/100\n",
      "34/34 [==============================] - 0s 2ms/step - loss: 136985552.0000 - root_mean_squared_error: 11704.0830\n",
      "Epoch 81/100\n",
      "34/34 [==============================] - 0s 2ms/step - loss: 136991104.0000 - root_mean_squared_error: 11704.3203\n",
      "Epoch 82/100\n",
      "34/34 [==============================] - 0s 2ms/step - loss: 136987296.0000 - root_mean_squared_error: 11704.1572\n",
      "Epoch 83/100\n",
      "34/34 [==============================] - 0s 1ms/step - loss: 136971152.0000 - root_mean_squared_error: 11703.4678\n",
      "Epoch 84/100\n",
      "34/34 [==============================] - 0s 1ms/step - loss: 136966816.0000 - root_mean_squared_error: 11703.2822\n",
      "Epoch 85/100\n",
      "34/34 [==============================] - 0s 1ms/step - loss: 136961104.0000 - root_mean_squared_error: 11703.0381\n",
      "Epoch 86/100\n",
      "34/34 [==============================] - 0s 1ms/step - loss: 137006848.0000 - root_mean_squared_error: 11704.9922\n",
      "Epoch 87/100\n",
      "34/34 [==============================] - 0s 1ms/step - loss: 136993808.0000 - root_mean_squared_error: 11704.4355\n",
      "Epoch 88/100\n",
      "34/34 [==============================] - 0s 2ms/step - loss: 137030384.0000 - root_mean_squared_error: 11705.9980\n",
      "Epoch 89/100\n",
      "34/34 [==============================] - 0s 2ms/step - loss: 136962576.0000 - root_mean_squared_error: 11703.1016\n",
      "Epoch 90/100\n",
      "34/34 [==============================] - 0s 1ms/step - loss: 136978432.0000 - root_mean_squared_error: 11703.7783\n",
      "Epoch 91/100\n",
      "34/34 [==============================] - 0s 2ms/step - loss: 136981952.0000 - root_mean_squared_error: 11703.9287\n",
      "Epoch 92/100\n",
      "34/34 [==============================] - 0s 2ms/step - loss: 136992944.0000 - root_mean_squared_error: 11704.3984\n",
      "Epoch 93/100\n",
      "34/34 [==============================] - 0s 2ms/step - loss: 136980432.0000 - root_mean_squared_error: 11703.8643\n",
      "Epoch 94/100\n",
      "34/34 [==============================] - 0s 2ms/step - loss: 136978384.0000 - root_mean_squared_error: 11703.7764\n",
      "Epoch 95/100\n",
      "34/34 [==============================] - 0s 2ms/step - loss: 136990480.0000 - root_mean_squared_error: 11704.2930\n",
      "Epoch 96/100\n",
      "34/34 [==============================] - 0s 1ms/step - loss: 136989712.0000 - root_mean_squared_error: 11704.2607\n",
      "Epoch 97/100\n",
      "34/34 [==============================] - 0s 2ms/step - loss: 137000784.0000 - root_mean_squared_error: 11704.7334\n",
      "Epoch 98/100\n",
      "34/34 [==============================] - 0s 1ms/step - loss: 137012256.0000 - root_mean_squared_error: 11705.2236\n",
      "Epoch 99/100\n",
      "34/34 [==============================] - 0s 2ms/step - loss: 136958976.0000 - root_mean_squared_error: 11702.9473\n",
      "Epoch 100/100\n",
      "34/34 [==============================] - 0s 2ms/step - loss: 136962688.0000 - root_mean_squared_error: 11703.1055\n"
     ]
    },
    {
     "data": {
      "text/plain": [
       "<keras.callbacks.History at 0x7fb6043f5590>"
      ]
     },
     "execution_count": 74,
     "metadata": {},
     "output_type": "execute_result"
    }
   ],
   "source": [
    "ann = keras.Sequential([\n",
    "    keras.layers.Dense(10, input_shape=(13,), activation='relu'),\n",
    "    keras.layers.Dense(3, activation='relu'),\n",
    "    keras.layers.Dense(1, activation='linear')\n",
    "])\n",
    "\n",
    "ann.compile(\n",
    "    optimizer='sgd',\n",
    "    loss='mse',\n",
    "    metrics=[tfl.keras.metrics.RootMeanSquaredError()]\n",
    ")\n",
    "\n",
    "ann.fit(X_train, y_train, epochs=100)"
   ]
  },
  {
   "cell_type": "code",
   "execution_count": null,
   "id": "e155583b",
   "metadata": {
    "papermill": {
     "duration": 0.056773,
     "end_time": "2022-12-11T18:48:41.473015",
     "exception": false,
     "start_time": "2022-12-11T18:48:41.416242",
     "status": "completed"
    },
    "tags": []
   },
   "outputs": [],
   "source": []
  }
 ],
 "metadata": {
  "kernelspec": {
   "display_name": "Python 3",
   "language": "python",
   "name": "python3"
  },
  "language_info": {
   "codemirror_mode": {
    "name": "ipython",
    "version": 3
   },
   "file_extension": ".py",
   "mimetype": "text/x-python",
   "name": "python",
   "nbconvert_exporter": "python",
   "pygments_lexer": "ipython3",
   "version": "3.7.12"
  },
  "papermill": {
   "default_parameters": {},
   "duration": 41.61107,
   "end_time": "2022-12-11T18:48:44.636618",
   "environment_variables": {},
   "exception": null,
   "input_path": "__notebook__.ipynb",
   "output_path": "__notebook__.ipynb",
   "parameters": {},
   "start_time": "2022-12-11T18:48:03.025548",
   "version": "2.3.4"
  }
 },
 "nbformat": 4,
 "nbformat_minor": 5
}
